{
 "cells": [
  {
   "cell_type": "code",
   "execution_count": 85,
   "metadata": {},
   "outputs": [],
   "source": [
    "from collections import namedtuple\n",
    "import re\n",
    "import pdfplumber\n",
    "import pandas as pd"
   ]
  },
  {
   "cell_type": "markdown",
   "metadata": {},
   "source": [
    "## pdf to text"
   ]
  },
  {
   "cell_type": "code",
   "execution_count": 86,
   "metadata": {},
   "outputs": [],
   "source": [
    "import PyPDF2 \n",
    "pdfreader = PyPDF2.PdfFileReader(open('result.pdf','rb'))\n",
    "no_of_pages = pdfreader.numPages\n",
    "with open('final_txt.txt','w') as f:\n",
    "    for i in range(0,no_of_pages):\n",
    "        pagObj = pdfreader.getPage(i)\n",
    "        f.write(pagObj.extractText())\n",
    "       "
   ]
  },
  {
   "cell_type": "markdown",
   "metadata": {},
   "source": [
    "## text file to string"
   ]
  },
  {
   "cell_type": "code",
   "execution_count": 87,
   "metadata": {},
   "outputs": [
    {
     "data": {
      "text/plain": [
       "str"
      ]
     },
     "execution_count": 87,
     "metadata": {},
     "output_type": "execute_result"
    }
   ],
   "source": [
    "file = open('final_txt.txt','r')\n",
    "text = file.read()\n",
    "file.close()\n",
    "type(text)"
   ]
  },
  {
   "cell_type": "markdown",
   "metadata": {},
   "source": [
    "## cleaning text file"
   ]
  },
  {
   "cell_type": "code",
   "execution_count": 88,
   "metadata": {},
   "outputs": [],
   "source": [
    "text = text.replace('SAVITRIBAI PHULE PUNE UNIVERSITY, S.E.(2015 COURSE) EXAMINATION,MAY 2018','')\n",
    "text = text.replace('COLLEGE    : D.Y. PATIL COLLEGE OF ENGINEERING,  PUNE','')\n",
    "text = text.replace('BRANCH CODE: 29-S.E.(2015 PAT.)(INFORMATIOM TECHNOLOGY)','')\n",
    "text = text.replace('DATE       : 23 JUL 2018','')\n",
    "text = text.replace('....................................................................................................','')\n",
    "text = text.replace('SEM.:1','')\n",
    "text = text.replace('SEM.:2','')\n",
    "text = text.replace('OE       TH     [OE+TH]     TW       PR       OR    Tot% Crd  Grd  Pts   Pts','')\n",
    "text = text.replace('OE       TH     [OE+TH]     TW       PR       OR    Tot% Crd  Grd  Pts   Pts','')\n",
    "text = text.replace('DYPP','')\n",
    "text = text.replace('Grd   Crd','')\n",
    "text = text.replace('SEM. 2','')\n",
    "text = text.replace('SEM. 1','')\n",
    "text = text.replace('~','')\n",
    "text = text.replace(' .','')\n",
    "text.replace('~','nan')\n",
    "text = text.replace('*',' ')\n",
    "text = text.replace(':',' ')\n",
    "text = text.replace('-','n')\n",
    "text = text.strip()"
   ]
  },
  {
   "cell_type": "code",
   "execution_count": 18,
   "metadata": {},
   "outputs": [],
   "source": [
    "# "
   ]
  },
  {
   "cell_type": "markdown",
   "metadata": {},
   "source": [
    "## further cleaning"
   ]
  },
  {
   "cell_type": "code",
   "execution_count": 89,
   "metadata": {},
   "outputs": [],
   "source": [
    "text = 'r{}'.format(text)\n",
    "with open('final_clean_output.txt','w') as o:\n",
    "    o.write(text)"
   ]
  },
  {
   "cell_type": "markdown",
   "metadata": {},
   "source": [
    "## Extracting seat No \n"
   ]
  },
  {
   "cell_type": "code",
   "execution_count": 90,
   "metadata": {},
   "outputs": [
    {
     "data": {
      "text/plain": [
       "194"
      ]
     },
     "execution_count": 90,
     "metadata": {},
     "output_type": "execute_result"
    }
   ],
   "source": [
    "seatNo = re.findall(r'S\\d{9}',text)\n",
    "len(seatNo)\n",
    "# seatNo"
   ]
  },
  {
   "cell_type": "markdown",
   "metadata": {},
   "source": [
    "## Extracting PRN NO"
   ]
  },
  {
   "cell_type": "code",
   "execution_count": 157,
   "metadata": {},
   "outputs": [
    {
     "name": "stdout",
     "output_type": "stream",
     "text": [
      "True\n"
     ]
    }
   ],
   "source": [
    "PRN_NO = re.findall(r'7\\d{7}[A-Z]*',text)\n",
    "len(PRN_NO)\n",
    "# PRN_NO\n",
    "print('71842239C' in PRN_NO)"
   ]
  },
  {
   "cell_type": "markdown",
   "metadata": {},
   "source": [
    "#### seat_no + student name + mother name + prn"
   ]
  },
  {
   "cell_type": "code",
   "execution_count": 156,
   "metadata": {},
   "outputs": [],
   "source": [
    "import pandas as pd\n",
    "pattern = re.findall(r'[ST]\\w{9}\\s*\\w*\\s*\\w*\\s*\\w*\\s*\\w*\\w*\\s*\\w*\\s*\\w*\\s*\\w*\\s*',text)\n",
    "# print(len(pattern))\n",
    "d = {'seat_no':[],'name':[],'mother_name':[],'PRN_NO':[]}\n",
    "#0-seat no 1-2-3-name 4-mother_name 5-prn\n",
    "for i in pattern:\n",
    "    temp = i.split()\n",
    "    temp.pop()\n",
    "    temp.pop()\n",
    "    if len(temp)==5:\n",
    "        temp.append('Nan')\n",
    "    d['seat_no'].append(temp[0])\n",
    "    d['name'].append(temp[1]+' '+temp[2]+' '+temp[3])\n",
    "    d['mother_name'].append(temp[4])\n",
    "    d['PRN_NO'].append(temp[5])\n",
    "    datafrmae = pd.DataFrame(d)\n",
    "    datafrmae.to_csv('seat_no_name_monther_name.csv',header=datafrmae.columns)"
   ]
  },
  {
   "cell_type": "markdown",
   "metadata": {},
   "source": [
    "## extracting student marks"
   ]
  },
  {
   "cell_type": "code",
   "execution_count": 101,
   "metadata": {},
   "outputs": [],
   "source": [
    "p = re.findall(r'[2]\\w{5}[A-Z]?\\s+\\w+[\\/|\\s+][\\w+| ]\\w+\\s+[\\w|\\s+]\\w+[\\/| $]\\w* *\\w*\\/*\\w* *\\w* *\\/*\\w* *\\/*\\w* *\\/*\\w* *\\/*\\w* *\\/*[\\w| |\\+][\\w| |\\+]\\w* *\\/*\\w* *\\/*\\w* *\\/*\\w* *\\/*\\w*',text)\n",
    "d = {'subject':[],'OE':[],'TH':[],'OE_TH':[],'TW':[],'PR':[],'OR':[],'TOT':[],'CRD':[],'GRD':[],'PTS1':[],'PTS2':[]}\n",
    "for i in p:\n",
    "    temp = i.split()\n",
    "    if len(temp)!=12:\n",
    "        while(len(temp)!=12):\n",
    "            temp.append('Nan')\n",
    "\n",
    "    d['subject'].append(temp[0])\n",
    "    d['OE'].append(temp[1])\n",
    "    d['TH'].append(temp[2])\n",
    "    d['OE_TH'].append(temp[3])\n",
    "    d['TW'].append(temp[4])\n",
    "    d['PR'].append(temp[5])\n",
    "    d['OR'].append(temp[6])\n",
    "    d['TOT'].append(temp[7])\n",
    "    d['CRD'].append(temp[8])\n",
    "    d['GRD'].append(temp[9])\n",
    "    d['PTS1'].append(temp[10])\n",
    "    d['PTS2'].append(temp[11])\n",
    "\n",
    "data = pd.DataFrame(d)\n",
    "data = data.replace('nnnnnnn','--')\n",
    "data.to_csv('student_marks.csv',columns=data.columns)\n"
   ]
  },
  {
   "cell_type": "markdown",
   "metadata": {},
   "source": [
    "## split the text"
   ]
  },
  {
   "cell_type": "code",
   "execution_count": 13,
   "metadata": {},
   "outputs": [],
   "source": [
    "pattern = re.findall(r'2\\w{5,6}[A-Z]?\\s+\\w+[\\/!#&$@ \\*~]*\\w*\\s*\\w*[\\/!#&$@ \\*~^]*\\w*\\s*[\\/!#&$@ \\*~^]*\\w*\\s*[\\/!#&$@ \\*~^]*\\w*\\s*[\\/!#&$@ \\*~^]*\\w*\\s*[\\/!#&$@ \\*~^]*\\w*\\s*[\\+]*\\w*\\s*\\+*\\w*\\s*\\+*\\w*\\s*\\w*\\+*\\s*\\w*\\s*\\+*\\w*\\s*',text)"
   ]
  },
  {
   "cell_type": "code",
   "execution_count": 151,
   "metadata": {},
   "outputs": [
    {
     "data": {
      "text/plain": [
       "numpy.ndarray"
      ]
     },
     "execution_count": 151,
     "metadata": {},
     "output_type": "execute_result"
    }
   ],
   "source": [
    "t = {'214441':[],'214442':[],'214443':[],'214444':[],\n",
    "      '214445':[],'214446':[],'214447':[],'214448':[],\n",
    "      '214449':[],'202054A':[],'207003':[],'214450':[],\n",
    "      '214451':[],'214452':[],'214453':[],'214454':[],\n",
    "      '214455':[],'214456':[],'210258D':[],'214450C':[],\n",
    "      '214450B':[],'214459A':[],'214459B':[],'214459C':[],\n",
    "      '214459D':[],'210258A':[],'210258C':[],'210250':[],\n",
    "      '214458':[]\n",
    "}\n",
    "da = pd.read_csv('student_marks.csv')\n",
    "da.drop('Unnamed: 0',axis=1,inplace=True)\n",
    "d = da.iloc[:,:].values\n",
    "# for i in d:\n",
    "#     i = list(i)\n",
    "#     key = i[0]\n",
    "#     i.pop(0)\n",
    "#     value = i \n",
    "#     t[key].append(value)\n",
    "\n",
    "# d = list(d)\n",
    "# type(d[0])"
   ]
  },
  {
   "cell_type": "code",
   "execution_count": 161,
   "metadata": {},
   "outputs": [],
   "source": [
    "# a = pd.read_csv('student_marks.csv')\n",
    "# l1 = [1,2,3]\n",
    "# l2 = ['a','b','c']\n",
    "\n",
    "# for i in zip(l1,l2):\n",
    "#     print(i)\n",
    "final_dict = {key : None for key in PRN_NO}\n",
    "\n",
    "# for i in zip(PRN_NO,list(d)):\n",
    "#     try:\n",
    "#         final_dict[i[0]].append(list(i[1]))\n",
    "#     except KeyError:\n",
    "#         pass \n"
   ]
  },
  {
   "cell_type": "code",
   "execution_count": 162,
   "metadata": {},
   "outputs": [
    {
     "data": {
      "text/plain": [
       "{'71842239C': None,\n",
       " '71842242C': None,\n",
       " '71842243M': None,\n",
       " '71842298J': None,\n",
       " '71842300D': None,\n",
       " '71842324M': None,\n",
       " '71842404C': None,\n",
       " '71842445L': None,\n",
       " '71842457D': None,\n",
       " '71842537F': None,\n",
       " '71842547C': None,\n",
       " '71842664K': None,\n",
       " '71842687J': None,\n",
       " '71842692E': None,\n",
       " '71842717D': None,\n",
       " '71842723J': None,\n",
       " '71842769G': None,\n",
       " '71842818J': None,\n",
       " '71842823E': None,\n",
       " '71842862F': None,\n",
       " '71842865L': None,\n",
       " '71842961D': None,\n",
       " '71842963L': None,\n",
       " '71842972K': None,\n",
       " '71843014L': None,\n",
       " '71843029J': None,\n",
       " '71843075B': None,\n",
       " '71843147C': None,\n",
       " '71602612M': None,\n",
       " '71602642C': None,\n",
       " '71602002F': None,\n",
       " '71701794L': None,\n",
       " '71701796G': None,\n",
       " '71701801G': None,\n",
       " '71701804M': None,\n",
       " '71701809B': None,\n",
       " '71701815G': None,\n",
       " '71701817C': None,\n",
       " '71701819K': None,\n",
       " '71701822K': None,\n",
       " '71602586J': None,\n",
       " '71701855F': None,\n",
       " '71602553B': None,\n",
       " '71701886F': None,\n",
       " '71701896C': None,\n",
       " '71701898K': None,\n",
       " '71701899H': None,\n",
       " '71602131F': None,\n",
       " '71701916M': None,\n",
       " '71701921H': None,\n",
       " '71602120L': None,\n",
       " '71602399H': None,\n",
       " '71701927G': None,\n",
       " '71701931E': None,\n",
       " '71701936F': None,\n",
       " '71701946C': None,\n",
       " '71701947M': None,\n",
       " '71702565K': None,\n",
       " '71701948K': None,\n",
       " '71602623G': None,\n",
       " '71701959E': None,\n",
       " '71701960J': None,\n",
       " '71701971D': None,\n",
       " '71729086H': None,\n",
       " '71701973L': None,\n",
       " '71701977C': None,\n",
       " '71528392': None,\n",
       " '71701980C': None,\n",
       " '71701982K': None,\n",
       " '71601987G': None,\n",
       " '71701984F': None,\n",
       " '71602433M': None,\n",
       " '71701987L': None,\n",
       " '71602140E': None,\n",
       " '71701993E': None,\n",
       " '71701997H': None,\n",
       " '71702000C': None,\n",
       " '71702009G': None,\n",
       " '71729089B': None,\n",
       " '71702025J': None,\n",
       " '71702029M': None,\n",
       " '71601958C': None,\n",
       " '71702047K': None,\n",
       " '71729091D': None,\n",
       " '71602498F': None,\n",
       " '71702066F': None,\n",
       " '71602119G': None,\n",
       " '71702068B': None,\n",
       " '71702069L': None,\n",
       " '71702070D': None,\n",
       " '71602465K': None,\n",
       " '71702076C': None,\n",
       " '71602718G': None,\n",
       " '71602036L': None,\n",
       " '71602363G': None,\n",
       " '71702089E': None,\n",
       " '71528527M': None,\n",
       " '71702090J': None,\n",
       " '71601866H': None,\n",
       " '71702099B': None,\n",
       " '71702101H': None,\n",
       " '71702108E': None,\n",
       " '71702109C': None,\n",
       " '71602557E': None,\n",
       " '71702113M': None,\n",
       " '71601903F': None,\n",
       " '71702125E': None,\n",
       " '71702129H': None,\n",
       " '71528574C': None,\n",
       " '71702134D': None,\n",
       " '71702146H': None,\n",
       " '71729095G': None,\n",
       " '71702153L': None,\n",
       " '71729097C': None,\n",
       " '71601952D': None,\n",
       " '71702165D': None,\n",
       " '71602041G': None,\n",
       " '71702172G': None,\n",
       " '71602352M': None,\n",
       " '71702188C': None,\n",
       " '71602317C': None,\n",
       " '71702195F': None,\n",
       " '71729099K': None,\n",
       " '71702201D': None,\n",
       " '71702203L': None,\n",
       " '71729100G': None,\n",
       " '71702216B': None,\n",
       " '71602292D': None,\n",
       " '71702223E': None,\n",
       " '71702234L': None,\n",
       " '71602576M': None,\n",
       " '71702244H': None,\n",
       " '71602362J': None,\n",
       " '71729103M': None,\n",
       " '71702251L': None,\n",
       " '71729104K': None,\n",
       " '71729105H': None,\n",
       " '71702256M': None,\n",
       " '71702257K': None,\n",
       " '71702289H': None,\n",
       " '71602273H': None,\n",
       " '71702302J': None,\n",
       " '71702305C': None,\n",
       " '71702308H': None,\n",
       " '71702313D': None,\n",
       " '71702320G': None,\n",
       " '71702325H': None,\n",
       " '71702335E': None,\n",
       " '71729106F': None,\n",
       " '71702338K': None,\n",
       " '71729107D': None,\n",
       " '71702342H': None,\n",
       " '71702343F': None,\n",
       " '71702344D': None,\n",
       " '71729110D': None,\n",
       " '71702351G': None,\n",
       " '71702361D': None,\n",
       " '71702370C': None,\n",
       " '71702377L': None,\n",
       " '71702392D': None,\n",
       " '71602113H': None,\n",
       " '71602054J': None,\n",
       " '71702397E': None,\n",
       " '71602232L': None,\n",
       " '71702398C': None,\n",
       " '71602057C': None,\n",
       " '71729112L': None,\n",
       " '71702400J': None,\n",
       " '71702403C': None,\n",
       " '71702410F': None,\n",
       " '71602260F': None,\n",
       " '71702423H': None,\n",
       " '71702430L': None,\n",
       " '71702437H': None,\n",
       " '71702440H': None,\n",
       " '71702441F': None,\n",
       " '71702447E': None,\n",
       " '71602686E': None,\n",
       " '71702451C': None,\n",
       " '71702453K': None,\n",
       " '71702463G': None,\n",
       " '71601977K': None,\n",
       " '71702480G': None,\n",
       " '71702487D': None,\n",
       " '71702491B': None,\n",
       " '71702492L': None,\n",
       " '71702495E': None,\n",
       " '71702501C': None,\n",
       " '71601931M': None,\n",
       " '71702534K': None,\n",
       " '71602337H': None,\n",
       " '71702541B': None,\n",
       " '71702543J': None,\n",
       " '71601920F': None}"
      ]
     },
     "execution_count": 162,
     "metadata": {},
     "output_type": "execute_result"
    }
   ],
   "source": [
    "final_dict"
   ]
  },
  {
   "cell_type": "code",
   "execution_count": null,
   "metadata": {},
   "outputs": [],
   "source": [
    "#FINDING PRN NUMBER\n",
    "pattern = re.compile(r'\\d{7}[A-Z]')\n",
    "\n",
    "#FINDING SEAT No in \n",
    "pattern = re.compile(r'\\w{10}')\n",
    "\n",
    "#MATCHING SCORE CARD\n",
    "pattern = re.compile(r'\\w{2} \\w{2} \\[\\w{2}\\+\\w{2}\\] \\w{2} \\w{2} \\w{2} \\w{3}\\% \\w{3} \\w{3} \\w{3} \\w{3}')\n",
    "\n",
    "#MATCHING SEAT NO + NAME + MOTHER NAME + PRN \n",
    "pattern = re.compile(r'\\w{10} \\w[A-Z]+ \\w[A-Z]+ \\w[A-Z]+ \\d{8}[A-Z] [A-Z]{4}')\n",
    "\n",
    "\n",
    "#matching student score\n",
    "\n",
    "pattern = re.compile(r'[2]\\d{5} \\* \\d{3}\\/\\d{3} \\d{3}\\/\\d{3} \\d{3}\\/\\d{3} +\\w{2} \\d{2} \\w{1} \\w{2} \\w{2}')\n",
    "\n",
    "#MATCHIN STUDENT SCORE \n",
    "pattern = re.compile(r'[2]\\w{5}[A-Z]?\\s+\\w+(\\/| )\\w+(\\/| )\\w+(\\/| )\\w+(\\/| )\\w+(\\/| )\\w+(\\/| )\\w+ \\w+ \\w+ \\w+(\\+| )(\\w+| )\\s?\\w?(\\s?|\\w?)\\w+ ?\\w?\\w?')\n",
    "\n",
    "#total credit score\n",
    "pattern = re.compile(r'[T]\\w+ \\w+ \\w+\\s+\\d{2}')\n",
    "\n",
    "#sgpa\n",
    "pattern = re.compile(r'SGPA\\s+.{4}')\n",
    "\n",
    "#find score\n",
    "s = re.compile(r'2\\w{5,6}[A-Z]?\\s+\\w+[\\/!#&$@ \\*~]*\\w*\\s*\\w*[\\/!#&$@ \\*~^]*\\w*\\s*[\\/!#&$@ \\*~^]*\\w*\\s*[\\/!#&$@ \\*~^]*\\w*\\s*[\\/!#&$@ \\*~^]*\\w*\\s*[\\/!#&$@ \\*~^]*\\w*\\s*[\\+]*\\w*\\s*\\+*\\w*\\s*\\+*\\w*\\s*\\w*\\+*\\s*\\w*\\s*\\+*\\w*\\s*')"
   ]
  }
 ],
 "metadata": {
  "kernelspec": {
   "display_name": "Python 3.8.2 ('env': venv)",
   "language": "python",
   "name": "python3"
  },
  "language_info": {
   "codemirror_mode": {
    "name": "ipython",
    "version": 3
   },
   "file_extension": ".py",
   "mimetype": "text/x-python",
   "name": "python",
   "nbconvert_exporter": "python",
   "pygments_lexer": "ipython3",
   "version": "3.8.2"
  },
  "orig_nbformat": 4,
  "vscode": {
   "interpreter": {
    "hash": "4bcf47b0d8de28688cd5bd3273acf0b18a03fdcdc347192f2b71a0457c359e32"
   }
  }
 },
 "nbformat": 4,
 "nbformat_minor": 2
}
