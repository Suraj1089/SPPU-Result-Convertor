{
 "cells": [
  {
   "cell_type": "code",
   "execution_count": 2,
   "metadata": {},
   "outputs": [],
   "source": [
    "# from collections import namedtuple\n",
    "import re\n",
    "# import pdfplumber\n",
    "import pandas as pd\n",
    "import PyPDF2 "
   ]
  },
  {
   "cell_type": "code",
   "execution_count": 7,
   "metadata": {},
   "outputs": [],
   "source": [
    "def pdfToText(path):\n",
    "    pdfreader = PyPDF2.PdfFileReader(open(path,'rb'))\n",
    "    no_of_pages = pdfreader.numPages\n",
    "    with open('final_txt.txt','w') as f:\n",
    "        for i in range(0,no_of_pages):\n",
    "            pagObj = pdfreader.getPage(i)\n",
    "            f.write(pagObj.extractText())\n",
    "    with open('final_txt.txt','r') as f:\n",
    "        text = f.read()\n",
    "        return type(text) \n"
   ]
  },
  {
   "cell_type": "code",
   "execution_count": 8,
   "metadata": {},
   "outputs": [
    {
     "name": "stdout",
     "output_type": "stream",
     "text": [
      "<class 'str'>\n"
     ]
    }
   ],
   "source": [
    "print(pdfToText('result.pdf'))"
   ]
  },
  {
   "cell_type": "markdown",
   "metadata": {},
   "source": [
    "## pdf to text"
   ]
  },
  {
   "cell_type": "code",
   "execution_count": 2,
   "metadata": {},
   "outputs": [],
   "source": [
    "import PyPDF2 \n",
    "pdfreader = PyPDF2.PdfFileReader(open('result.pdf','rb'))\n",
    "no_of_pages = pdfreader.numPages\n",
    "with open('final_txt.txt','w') as f:\n",
    "    for i in range(0,no_of_pages):\n",
    "        pagObj = pdfreader.getPage(i)\n",
    "        f.write(pagObj.extractText())\n",
    "       "
   ]
  },
  {
   "cell_type": "markdown",
   "metadata": {},
   "source": [
    "## text file to string"
   ]
  },
  {
   "cell_type": "code",
   "execution_count": 3,
   "metadata": {},
   "outputs": [
    {
     "data": {
      "text/plain": [
       "str"
      ]
     },
     "execution_count": 3,
     "metadata": {},
     "output_type": "execute_result"
    }
   ],
   "source": [
    "file = open('final_txt.txt','r')\n",
    "text = file.read()\n",
    "file.close()\n",
    "type(text)"
   ]
  },
  {
   "cell_type": "code",
   "execution_count": 5,
   "metadata": {},
   "outputs": [],
   "source": [
    "# text"
   ]
  },
  {
   "cell_type": "markdown",
   "metadata": {},
   "source": [
    "## cleaning text file"
   ]
  },
  {
   "cell_type": "code",
   "execution_count": 6,
   "metadata": {},
   "outputs": [],
   "source": [
    "text = text.replace('SAVITRIBAI PHULE PUNE UNIVERSITY, S.E.(2015 COURSE) EXAMINATION,MAY 2018','')\n",
    "text = text.replace('COLLEGE    : D.Y. PATIL COLLEGE OF ENGINEERING,  PUNE','')\n",
    "text = text.replace('BRANCH CODE: 29-S.E.(2015 PAT.)(INFORMATIOM TECHNOLOGY)','')\n",
    "text = text.replace('DATE       : 23 JUL 2018','')\n",
    "text = text.replace('....................................................................................................','')\n",
    "text = text.replace('SEM.:1','')\n",
    "text = text.replace('SEM.:2','')\n",
    "text = text.replace('OE       TH     [OE+TH]     TW       PR       OR    Tot% Crd  Grd  Pts   Pts','')\n",
    "text = text.replace('OE       TH     [OE+TH]     TW       PR       OR    Tot% Crd  Grd  Pts   Pts','')\n",
    "text = text.replace('DYPP','')\n",
    "text = text.replace('Grd   Crd','')\n",
    "text = text.replace('SEM. 2','')\n",
    "text = text.replace('SEM. 1','')\n",
    "text = text.replace('~','')\n",
    "text = text.replace(' .','')\n",
    "text.replace('~','nan')\n",
    "text = text.replace('*',' ')\n",
    "text = text.replace(':',' ')\n",
    "text = text.replace('-','n')\n",
    "text = text.replace('SECOND YEAR SGPA','')\n",
    "text = text.replace('TOTAL CREDITS EARNED ','')\n",
    "# SECOND YEAR SGPA   8.08, TOTAL CREDITS EARNED   50\n",
    "text = text.strip()\n"
   ]
  },
  {
   "cell_type": "code",
   "execution_count": 8,
   "metadata": {},
   "outputs": [],
   "source": [
    "# text"
   ]
  },
  {
   "cell_type": "markdown",
   "metadata": {},
   "source": [
    "## further cleaning"
   ]
  },
  {
   "cell_type": "code",
   "execution_count": 9,
   "metadata": {},
   "outputs": [],
   "source": [
    "text = 'r{}'.format(text)\n",
    "with open('final_clean_output.txt','w') as o:\n",
    "    o.write(text)"
   ]
  },
  {
   "cell_type": "code",
   "execution_count": 10,
   "metadata": {},
   "outputs": [],
   "source": [
    "with open('final_clean_output.txt','r') as o:\n",
    "    text = o.read()"
   ]
  },
  {
   "cell_type": "code",
   "execution_count": 10,
   "metadata": {},
   "outputs": [],
   "source": [
    "# text"
   ]
  },
  {
   "cell_type": "markdown",
   "metadata": {},
   "source": [
    "## Extracting seat No \n"
   ]
  },
  {
   "cell_type": "code",
   "execution_count": 12,
   "metadata": {},
   "outputs": [
    {
     "data": {
      "text/plain": [
       "194"
      ]
     },
     "execution_count": 12,
     "metadata": {},
     "output_type": "execute_result"
    }
   ],
   "source": [
    "seatNo = re.findall(r'S\\d{9}',text)\n",
    "len(seatNo)\n",
    "# seatNo"
   ]
  },
  {
   "cell_type": "code",
   "execution_count": 14,
   "metadata": {},
   "outputs": [],
   "source": [
    "# seatNo"
   ]
  },
  {
   "cell_type": "markdown",
   "metadata": {},
   "source": [
    "## Extracting PRN NO"
   ]
  },
  {
   "cell_type": "code",
   "execution_count": 7,
   "metadata": {},
   "outputs": [
    {
     "data": {
      "text/plain": [
       "194"
      ]
     },
     "execution_count": 7,
     "metadata": {},
     "output_type": "execute_result"
    }
   ],
   "source": [
    "PRN_NO = re.findall(r'7\\d{7}[A-Z]*',text)\n",
    "len(PRN_NO)\n",
    "# PRN_NO\n",
    "# print('71842239C' in PRN_NO)"
   ]
  },
  {
   "cell_type": "markdown",
   "metadata": {},
   "source": [
    "## subject by subject mark"
   ]
  },
  {
   "cell_type": "code",
   "execution_count": 7,
   "metadata": {},
   "outputs": [],
   "source": [
    "import re \n",
    "import pandas as pd \n",
    "pattern = re.findall(r'214441[A-Z]?\\s+\\w+[\\/!#&$@ \\*~]*\\w*\\s*\\w*[\\/!#&$@ \\*~^]*\\w*\\s*[\\/!#&$@ \\*~^]*\\w*\\s*[\\/!#&$@ \\*~^]*\\w*\\s*[\\/!#&$@ \\*~^]*\\w*\\s*[\\/!#&$@ \\*~^]*\\w*\\s*[\\+]*\\w*\\s*\\+*\\w*\\s*\\+*\\w*\\s*\\w*\\+*\\s*\\w*\\s*\\+*\\w*\\s',text)\n",
    "d = {'subject':[],'OE':[],'TH':[],'OE_TH':[],'TW':[],'PR':[],'OR':[],'TOT':[],'CRD':[],'GRD':[],'PTS1':[],'PTS2':[]}\n",
    "for i in pattern:\n",
    "    temp = i.split()\n",
    "    # print(len(temp))\n",
    "    d['subject'].append(temp[0])\n",
    "    d['OE'].append(temp[1])\n",
    "    d['TH'].append(temp[2])\n",
    "    d['OE_TH'].append(temp[3])\n",
    "    d['TW'].append(temp[4])\n",
    "    d['PR'].append(temp[5])\n",
    "    d['OR'].append(temp[6])\n",
    "    d['TOT'].append(temp[7])\n",
    "    d['CRD'].append(temp[8])\n",
    "    d['GRD'].append(temp[9])\n",
    "    d['PTS1'].append(temp[10])\n",
    "    d['PTS2'].append(temp[11])\n",
    "\n",
    "data = pd.DataFrame(d)\n",
    "data = data.replace('nnnnnnn','--')\n",
    "data.to_csv('subject_21441.csv',columns=data.columns)\n"
   ]
  },
  {
   "cell_type": "code",
   "execution_count": 18,
   "metadata": {},
   "outputs": [],
   "source": [
    "import re \n",
    "import pandas as pd \n",
    "pattern = re.findall(r'214442[A-Z]?\\s+\\w+[\\/!#&$@ \\*~]*\\w*\\s*\\w*[\\/!#&$@ \\*~^]*\\w*\\s*[\\/!#&$@ \\*~^]*\\w*\\s*[\\/!#&$@ \\*~^]*\\w*\\s*[\\/!#&$@ \\*~^]*\\w*\\s*[\\/!#&$@ \\*~^]*\\w*\\s*[\\+]*\\w*\\s*\\+*\\w*\\s*\\+*\\w*\\s*\\w*\\+*\\s*\\w*\\s*\\+*\\w*\\s',text)\n",
    "d = {'subject':[],'OE':[],'TH':[],'OE_TH':[],'TW':[],'PR':[],'OR':[],'TOT':[],'CRD':[],'GRD':[],'PTS1':[],'PTS2':[]}\n",
    "for i in pattern:\n",
    "    temp = i.split()\n",
    "    # print(len(temp))\n",
    "    d['subject'].append(temp[0])\n",
    "    d['OE'].append(temp[1])\n",
    "    d['TH'].append(temp[2])\n",
    "    d['OE_TH'].append(temp[3])\n",
    "    d['TW'].append(temp[4])\n",
    "    d['PR'].append(temp[5])\n",
    "    d['OR'].append(temp[6])\n",
    "    d['TOT'].append(temp[7])\n",
    "    d['CRD'].append(temp[8])\n",
    "    d['GRD'].append(temp[9])\n",
    "    d['PTS1'].append(temp[10])\n",
    "    d['PTS2'].append(temp[11])\n",
    "\n",
    "data = pd.DataFrame(d)\n",
    "data = data.replace('nnnnnnn','--')\n",
    "data.to_csv('subject_214442.csv',columns=data.columns)"
   ]
  },
  {
   "cell_type": "code",
   "execution_count": 19,
   "metadata": {},
   "outputs": [],
   "source": [
    "import re \n",
    "import pandas as pd \n",
    "pattern = re.findall(r'214443[A-Z]?\\s+\\w+[\\/!#&$@ \\*~]*\\w*\\s*\\w*[\\/!#&$@ \\*~^]*\\w*\\s*[\\/!#&$@ \\*~^]*\\w*\\s*[\\/!#&$@ \\*~^]*\\w*\\s*[\\/!#&$@ \\*~^]*\\w*\\s*[\\/!#&$@ \\*~^]*\\w*\\s*[\\+]*\\w*\\s*\\+*\\w*\\s*\\+*\\w*\\s*\\w*\\+*\\s*\\w*\\s*\\+*\\w*\\s',text)\n",
    "d = {'subject':[],'OE':[],'TH':[],'OE_TH':[],'TW':[],'PR':[],'OR':[],'TOT':[],'CRD':[],'GRD':[],'PTS1':[],'PTS2':[]}\n",
    "for i in pattern:\n",
    "    temp = i.split()\n",
    "    # print(len(temp))\n",
    "    d['subject'].append(temp[0])\n",
    "    d['OE'].append(temp[1])\n",
    "    d['TH'].append(temp[2])\n",
    "    d['OE_TH'].append(temp[3])\n",
    "    d['TW'].append(temp[4])\n",
    "    d['PR'].append(temp[5])\n",
    "    d['OR'].append(temp[6])\n",
    "    d['TOT'].append(temp[7])\n",
    "    d['CRD'].append(temp[8])\n",
    "    d['GRD'].append(temp[9])\n",
    "    d['PTS1'].append(temp[10])\n",
    "    d['PTS2'].append(temp[11])\n",
    "\n",
    "data = pd.DataFrame(d)\n",
    "data = data.replace('nnnnnnn','--')\n",
    "data.to_csv('subject_214443.csv',columns=data.columns)"
   ]
  },
  {
   "cell_type": "code",
   "execution_count": 8,
   "metadata": {},
   "outputs": [],
   "source": [
    "import re \n",
    "import pandas as pd \n",
    "pattern = re.findall(r'214444[A-Z]?\\s+\\w+[\\/!#&$@ \\*~]*\\w*\\s*\\w*[\\/!#&$@ \\*~^]*\\w*\\s*[\\/!#&$@ \\*~^]*\\w*\\s*[\\/!#&$@ \\*~^]*\\w*\\s*[\\/!#&$@ \\*~^]*\\w*\\s*[\\/!#&$@ \\*~^]*\\w*\\s*[\\+]*\\w*\\s*\\+*\\w*\\s*\\+*\\w*\\s*\\w*\\+*\\s*\\w*\\s*\\+*\\w*\\s',text)\n",
    "d = {'subject':[],'OE':[],'TH':[],'OE_TH':[],'TW':[],'PR':[],'OR':[],'TOT':[],'CRD':[],'GRD':[],'PTS1':[],'PTS2':[]}\n",
    "for i in pattern:\n",
    "    temp = i.split()\n",
    "    # print(len(temp))\n",
    "    d['subject'].append(temp[0])\n",
    "    d['OE'].append(temp[1])\n",
    "    d['TH'].append(temp[2])\n",
    "    d['OE_TH'].append(temp[3])\n",
    "    d['TW'].append(temp[4])\n",
    "    d['PR'].append(temp[5])\n",
    "    d['OR'].append(temp[6])\n",
    "    d['TOT'].append(temp[7])\n",
    "    d['CRD'].append(temp[8])\n",
    "    d['GRD'].append(temp[9])\n",
    "    d['PTS1'].append(temp[10])\n",
    "    d['PTS2'].append(temp[11])\n",
    "\n",
    "data = pd.DataFrame(d)\n",
    "data = data.replace('nnnnnnn','--')\n",
    "data.to_csv('subject_214444.csv',columns=data.columns)"
   ]
  },
  {
   "cell_type": "code",
   "execution_count": 9,
   "metadata": {},
   "outputs": [],
   "source": [
    "import re \n",
    "import pandas as pd \n",
    "pattern = re.findall(r'214445[A-Z]?\\s+\\w+[\\/!#&$@ \\*~]*\\w*\\s*\\w*[\\/!#&$@ \\*~^]*\\w*\\s*[\\/!#&$@ \\*~^]*\\w*\\s*[\\/!#&$@ \\*~^]*\\w*\\s*[\\/!#&$@ \\*~^]*\\w*\\s*[\\/!#&$@ \\*~^]*\\w*\\s*[\\+]*\\w*\\s*\\+*\\w*\\s*\\+*\\w*\\s*\\w*\\+*\\s*\\w*\\s*\\+*\\w*\\s',text)\n",
    "d = {'subject':[],'OE':[],'TH':[],'OE_TH':[],'TW':[],'PR':[],'OR':[],'TOT':[],'CRD':[],'GRD':[],'PTS1':[],'PTS2':[]}\n",
    "for i in pattern:\n",
    "    temp = i.split()\n",
    "    # print(len(temp))\n",
    "    d['subject'].append(temp[0])\n",
    "    d['OE'].append(temp[1])\n",
    "    d['TH'].append(temp[2])\n",
    "    d['OE_TH'].append(temp[3])\n",
    "    d['TW'].append(temp[4])\n",
    "    d['PR'].append(temp[5])\n",
    "    d['OR'].append(temp[6])\n",
    "    d['TOT'].append(temp[7])\n",
    "    d['CRD'].append(temp[8])\n",
    "    d['GRD'].append(temp[9])\n",
    "    d['PTS1'].append(temp[10])\n",
    "    d['PTS2'].append(temp[11])\n",
    "\n",
    "data = pd.DataFrame(d)\n",
    "data = data.replace('nnnnnnn','--')\n",
    "data.to_csv('subject_214445.csv',columns=data.columns)"
   ]
  },
  {
   "cell_type": "code",
   "execution_count": 10,
   "metadata": {},
   "outputs": [],
   "source": [
    "import re \n",
    "import pandas as pd \n",
    "pattern = re.findall(r'214446[A-Z]?\\s+\\w+[\\/!#&$@ \\*~]*\\w*\\s*\\w*[\\/!#&$@ \\*~^]*\\w*\\s*[\\/!#&$@ \\*~^]*\\w*\\s*[\\/!#&$@ \\*~^]*\\w*\\s*[\\/!#&$@ \\*~^]*\\w*\\s*[\\/!#&$@ \\*~^]*\\w*\\s*[\\+]*\\w*\\s*\\+*\\w*\\s*\\+*\\w*\\s*\\w*\\+*\\s*\\w*\\s*\\+*\\w*\\s',text)\n",
    "d = {'subject':[],'OE':[],'TH':[],'OE_TH':[],'TW':[],'PR':[],'OR':[],'TOT':[],'CRD':[],'GRD':[],'PTS1':[],'PTS2':[]}\n",
    "for i in pattern:\n",
    "    temp = i.split()\n",
    "    # print(len(temp))\n",
    "    d['subject'].append(temp[0])\n",
    "    d['OE'].append(temp[1])\n",
    "    d['TH'].append(temp[2])\n",
    "    d['OE_TH'].append(temp[3])\n",
    "    d['TW'].append(temp[4])\n",
    "    d['PR'].append(temp[5])\n",
    "    d['OR'].append(temp[6])\n",
    "    d['TOT'].append(temp[7])\n",
    "    d['CRD'].append(temp[8])\n",
    "    d['GRD'].append(temp[9])\n",
    "    d['PTS1'].append(temp[10])\n",
    "    d['PTS2'].append(temp[11])\n",
    "\n",
    "data = pd.DataFrame(d)\n",
    "data = data.replace('nnnnnnn','--')\n",
    "data.to_csv('subject_214446.csv',columns=data.columns)"
   ]
  },
  {
   "cell_type": "code",
   "execution_count": 18,
   "metadata": {},
   "outputs": [],
   "source": [
    "import re \n",
    "import pandas as pd \n",
    "pattern = re.findall(r'214447[A-Z]?\\s+\\w+[\\/!#&$@ \\*~]*\\w*\\s*\\w*[\\/!#&$@ \\*~^]*\\w*\\s*[\\/!#&$@ \\*~^]*\\w*\\s*[\\/!#&$@ \\*~^]*\\w*\\s*[\\/!#&$@ \\*~^]*\\w*\\s*[\\/!#&$@ \\*~^]*\\w*\\s*[\\+]*\\w*\\s*\\+*\\w*\\s*\\+*\\w*\\s*\\w*\\+*\\s*\\w*\\s*\\+*\\w*\\s',text)\n",
    "d = {'subject':[],'OE':[],'TH':[],'OE_TH':[],'TW':[],'PR':[],'OR':[],'TOT':[],'CRD':[],'GRD':[],'PTS1':[],'PTS2':[]}\n",
    "for i in pattern:\n",
    "    temp = i.split()\n",
    "    # print(len(temp))\n",
    "    d['subject'].append(temp[0])\n",
    "    d['OE'].append(temp[1])\n",
    "    d['TH'].append(temp[2])\n",
    "    d['OE_TH'].append(temp[3])\n",
    "    d['TW'].append(temp[4])\n",
    "    d['PR'].append(temp[5])\n",
    "    d['OR'].append(temp[6])\n",
    "    d['TOT'].append(temp[7])\n",
    "    d['CRD'].append(temp[8])\n",
    "    d['GRD'].append(temp[9])\n",
    "    d['PTS1'].append(temp[10])\n",
    "    d['PTS2'].append(temp[11])\n",
    "\n",
    "data = pd.DataFrame(d)\n",
    "data = data.replace('nnnnnnn','--')\n",
    "data.to_csv('subject_214447.csv',columns=data.columns)"
   ]
  },
  {
   "cell_type": "code",
   "execution_count": 19,
   "metadata": {},
   "outputs": [],
   "source": [
    "import re \n",
    "import pandas as pd \n",
    "pattern = re.findall(r'214448[A-Z]?\\s+\\w+[\\/!#&$@ \\*~]*\\w*\\s*\\w*[\\/!#&$@ \\*~^]*\\w*\\s*[\\/!#&$@ \\*~^]*\\w*\\s*[\\/!#&$@ \\*~^]*\\w*\\s*[\\/!#&$@ \\*~^]*\\w*\\s*[\\/!#&$@ \\*~^]*\\w*\\s*[\\+]*\\w*\\s*\\+*\\w*\\s*\\+*\\w*\\s*\\w*\\+*\\s*\\w*\\s*\\+*\\w*\\s',text)\n",
    "d = {'subject':[],'OE':[],'TH':[],'OE_TH':[],'TW':[],'PR':[],'OR':[],'TOT':[],'CRD':[],'GRD':[],'PTS1':[],'PTS2':[]}\n",
    "for i in pattern:\n",
    "    temp = i.split()\n",
    "    # print(len(temp))\n",
    "    d['subject'].append(temp[0])\n",
    "    d['OE'].append(temp[1])\n",
    "    d['TH'].append(temp[2])\n",
    "    d['OE_TH'].append(temp[3])\n",
    "    d['TW'].append(temp[4])\n",
    "    d['PR'].append(temp[5])\n",
    "    d['OR'].append(temp[6])\n",
    "    d['TOT'].append(temp[7])\n",
    "    d['CRD'].append(temp[8])\n",
    "    d['GRD'].append(temp[9])\n",
    "    d['PTS1'].append(temp[10])\n",
    "    d['PTS2'].append(temp[11])\n",
    "\n",
    "data = pd.DataFrame(d)\n",
    "data = data.replace('nnnnnnn','--')\n",
    "data.to_csv('subject_214448.csv',columns=data.columns)"
   ]
  },
  {
   "cell_type": "code",
   "execution_count": 20,
   "metadata": {},
   "outputs": [],
   "source": [
    "import re \n",
    "import pandas as pd \n",
    "pattern = re.findall(r'214494[A-Z]?\\s+\\w+[\\/!#&$@ \\*~]*\\w*\\s*\\w*[\\/!#&$@ \\*~^]*\\w*\\s*[\\/!#&$@ \\*~^]*\\w*\\s*[\\/!#&$@ \\*~^]*\\w*\\s*[\\/!#&$@ \\*~^]*\\w*\\s*[\\/!#&$@ \\*~^]*\\w*\\s*[\\+]*\\w*\\s*\\+*\\w*\\s*\\+*\\w*\\s*\\w*\\+*\\s*\\w*\\s*\\+*\\w*\\s*',text)\n",
    "d = {'subject':[],'OE':[],'TH':[],'OE_TH':[],'TW':[],'PR':[],'OR':[],'TOT':[],'CRD':[],'GRD':[],'PTS1':[],'PTS2':[]}\n",
    "for i in pattern:\n",
    "    temp = i.split()\n",
    "    # print(len(temp))\n",
    "    d['subject'].append(temp[0])\n",
    "    d['OE'].append(temp[1])\n",
    "    d['TH'].append(temp[2])\n",
    "    d['OE_TH'].append(temp[3])\n",
    "    d['TW'].append(temp[4])\n",
    "    d['PR'].append(temp[5])\n",
    "    d['OR'].append(temp[6])\n",
    "    d['TOT'].append(temp[7])\n",
    "    d['CRD'].append(temp[8])\n",
    "    d['GRD'].append(temp[9])\n",
    "    d['PTS1'].append(temp[10])\n",
    "    d['PTS2'].append(temp[11])\n",
    "\n",
    "data = pd.DataFrame(d)\n",
    "data = data.replace('nnnnnnn','--')\n",
    "data.to_csv('subject_214449.csv',columns=data.columns)"
   ]
  },
  {
   "cell_type": "code",
   "execution_count": 23,
   "metadata": {},
   "outputs": [],
   "source": [
    "import re \n",
    "import pandas as pd \n",
    "pattern = re.findall(r'207003[A-Z]?\\s+\\w+[\\/!#&$@ \\*~]*\\w*\\s*\\w*[\\/!#&$@ \\*~^]*\\w*\\s*[\\/!#&$@ \\*~^]*\\w*\\s*[\\/!#&$@ \\*~^]*\\w*\\s*[\\/!#&$@ \\*~^]*\\w*\\s*[\\/!#&$@ \\*~^]*\\w*\\s*[\\+]*\\w*\\s*\\+*\\w*\\s*\\+*\\w*\\s*\\w*\\+*\\s*\\w*\\s*\\+*\\w*\\s*',text)\n",
    "d = {'subject':[],'OE':[],'TH':[],'OE_TH':[],'TW':[],'PR':[],'OR':[],'TOT':[],'CRD':[],'GRD':[],'PTS1':[],'PTS2':[]}\n",
    "\n",
    "for i in pattern:\n",
    "    temp = i.split()\n",
    "    # print(len(temp))\n",
    "    d['subject'].append(temp[0])\n",
    "    d['OE'].append(temp[1])\n",
    "    d['TH'].append(temp[2])\n",
    "    d['OE_TH'].append(temp[3])\n",
    "    d['TW'].append(temp[4])\n",
    "    d['PR'].append(temp[5])\n",
    "    d['OR'].append(temp[6])\n",
    "    d['TOT'].append(temp[7])\n",
    "    d['CRD'].append(temp[8])\n",
    "    d['GRD'].append(temp[9])\n",
    "    d['PTS1'].append(temp[10])\n",
    "    d['PTS2'].append(temp[11])\n",
    "\n",
    "data = pd.DataFrame(d)\n",
    "data = data.replace('nnnnnnn','--')\n",
    "data.to_csv('subject_207003.csv',columns=data.columns)"
   ]
  },
  {
   "cell_type": "code",
   "execution_count": 24,
   "metadata": {},
   "outputs": [],
   "source": [
    "import re \n",
    "import pandas as pd \n",
    "pattern = re.findall(r'214450[A-Z]?\\s+\\w+[\\/!#&$@ \\*~]*\\w*\\s*\\w*[\\/!#&$@ \\*~^]*\\w*\\s*[\\/!#&$@ \\*~^]*\\w*\\s*[\\/!#&$@ \\*~^]*\\w*\\s*[\\/!#&$@ \\*~^]*\\w*\\s*[\\/!#&$@ \\*~^]*\\w*\\s*[\\+]*\\w*\\s*\\+*\\w*\\s*\\+*\\w*\\s*\\w*\\+*\\s*\\w*\\s*\\+*\\w*\\s*',text)\n",
    "d = {'subject':[],'OE':[],'TH':[],'OE_TH':[],'TW':[],'PR':[],'OR':[],'TOT':[],'CRD':[],'GRD':[],'PTS1':[],'PTS2':[]}\n",
    "\n",
    "for i in pattern:\n",
    "    temp = i.split()\n",
    "    # print(len(temp))\n",
    "    d['subject'].append(temp[0])\n",
    "    d['OE'].append(temp[1])\n",
    "    d['TH'].append(temp[2])\n",
    "    d['OE_TH'].append(temp[3])\n",
    "    d['TW'].append(temp[4])\n",
    "    d['PR'].append(temp[5])\n",
    "    d['OR'].append(temp[6])\n",
    "    d['TOT'].append(temp[7])\n",
    "    d['CRD'].append(temp[8])\n",
    "    d['GRD'].append(temp[9])\n",
    "    d['PTS1'].append(temp[10])\n",
    "    d['PTS2'].append(temp[11])\n",
    "\n",
    "data = pd.DataFrame(d)\n",
    "data = data.replace('nnnnnnn','--')\n",
    "data.to_csv('subject_214450.csv',columns=data.columns)"
   ]
  },
  {
   "cell_type": "code",
   "execution_count": 25,
   "metadata": {},
   "outputs": [],
   "source": [
    "import re \n",
    "import pandas as pd \n",
    "pattern = re.findall(r'214451[A-Z]?\\s+\\w+[\\/!#&$@ \\*~]*\\w*\\s*\\w*[\\/!#&$@ \\*~^]*\\w*\\s*[\\/!#&$@ \\*~^]*\\w*\\s*[\\/!#&$@ \\*~^]*\\w*\\s*[\\/!#&$@ \\*~^]*\\w*\\s*[\\/!#&$@ \\*~^]*\\w*\\s*[\\+]*\\w*\\s*\\+*\\w*\\s*\\+*\\w*\\s*\\w*\\+*\\s*\\w*\\s*\\+*\\w*\\s*',text)\n",
    "d = {'subject':[],'OE':[],'TH':[],'OE_TH':[],'TW':[],'PR':[],'OR':[],'TOT':[],'CRD':[],'GRD':[],'PTS1':[],'PTS2':[]}\n",
    "\n",
    "for i in pattern:\n",
    "    temp = i.split()\n",
    "    # print(len(temp))\n",
    "    d['subject'].append(temp[0])\n",
    "    d['OE'].append(temp[1])\n",
    "    d['TH'].append(temp[2])\n",
    "    d['OE_TH'].append(temp[3])\n",
    "    d['TW'].append(temp[4])\n",
    "    d['PR'].append(temp[5])\n",
    "    d['OR'].append(temp[6])\n",
    "    d['TOT'].append(temp[7])\n",
    "    d['CRD'].append(temp[8])\n",
    "    d['GRD'].append(temp[9])\n",
    "    d['PTS1'].append(temp[10])\n",
    "    d['PTS2'].append(temp[11])\n",
    "\n",
    "data = pd.DataFrame(d)\n",
    "data = data.replace('nnnnnnn','--')\n",
    "data.to_csv('subject_214451.csv',columns=data.columns)"
   ]
  },
  {
   "cell_type": "code",
   "execution_count": 26,
   "metadata": {},
   "outputs": [],
   "source": [
    "import re \n",
    "import pandas as pd \n",
    "pattern = re.findall(r'214452[A-Z]?\\s+\\w+[\\/!#&$@ \\*~]*\\w*\\s*\\w*[\\/!#&$@ \\*~^]*\\w*\\s*[\\/!#&$@ \\*~^]*\\w*\\s*[\\/!#&$@ \\*~^]*\\w*\\s*[\\/!#&$@ \\*~^]*\\w*\\s*[\\/!#&$@ \\*~^]*\\w*\\s*[\\+]*\\w*\\s*\\+*\\w*\\s*\\+*\\w*\\s*\\w*\\+*\\s*\\w*\\s*\\+*\\w*\\s*',text)\n",
    "d = {'subject':[],'OE':[],'TH':[],'OE_TH':[],'TW':[],'PR':[],'OR':[],'TOT':[],'CRD':[],'GRD':[],'PTS1':[],'PTS2':[]}\n",
    "\n",
    "for i in pattern:\n",
    "    temp = i.split()\n",
    "    # print(len(temp))\n",
    "    d['subject'].append(temp[0])\n",
    "    d['OE'].append(temp[1])\n",
    "    d['TH'].append(temp[2])\n",
    "    d['OE_TH'].append(temp[3])\n",
    "    d['TW'].append(temp[4])\n",
    "    d['PR'].append(temp[5])\n",
    "    d['OR'].append(temp[6])\n",
    "    d['TOT'].append(temp[7])\n",
    "    d['CRD'].append(temp[8])\n",
    "    d['GRD'].append(temp[9])\n",
    "    d['PTS1'].append(temp[10])\n",
    "    d['PTS2'].append(temp[11])\n",
    "\n",
    "data = pd.DataFrame(d)\n",
    "data = data.replace('nnnnnnn','--')\n",
    "data.to_csv('subject_214452.csv',columns=data.columns)"
   ]
  },
  {
   "cell_type": "code",
   "execution_count": 27,
   "metadata": {},
   "outputs": [],
   "source": [
    "import re \n",
    "import pandas as pd \n",
    "pattern = re.findall(r'214453[A-Z]?\\s+\\w+[\\/!#&$@ \\*~]*\\w*\\s*\\w*[\\/!#&$@ \\*~^]*\\w*\\s*[\\/!#&$@ \\*~^]*\\w*\\s*[\\/!#&$@ \\*~^]*\\w*\\s*[\\/!#&$@ \\*~^]*\\w*\\s*[\\/!#&$@ \\*~^]*\\w*\\s*[\\+]*\\w*\\s*\\+*\\w*\\s*\\+*\\w*\\s*\\w*\\+*\\s*\\w*\\s*\\+*\\w*\\s*',text)\n",
    "d = {'subject':[],'OE':[],'TH':[],'OE_TH':[],'TW':[],'PR':[],'OR':[],'TOT':[],'CRD':[],'GRD':[],'PTS1':[],'PTS2':[]}\n",
    "\n",
    "for i in pattern:\n",
    "    temp = i.split()\n",
    "    # print(len(temp))\n",
    "    d['subject'].append(temp[0])\n",
    "    d['OE'].append(temp[1])\n",
    "    d['TH'].append(temp[2])\n",
    "    d['OE_TH'].append(temp[3])\n",
    "    d['TW'].append(temp[4])\n",
    "    d['PR'].append(temp[5])\n",
    "    d['OR'].append(temp[6])\n",
    "    d['TOT'].append(temp[7])\n",
    "    d['CRD'].append(temp[8])\n",
    "    d['GRD'].append(temp[9])\n",
    "    d['PTS1'].append(temp[10])\n",
    "    d['PTS2'].append(temp[11])\n",
    "\n",
    "data = pd.DataFrame(d)\n",
    "data = data.replace('nnnnnnn','--')\n",
    "data.to_csv('subject_214453.csv',columns=data.columns)"
   ]
  },
  {
   "cell_type": "code",
   "execution_count": 28,
   "metadata": {},
   "outputs": [],
   "source": [
    "import re \n",
    "import pandas as pd \n",
    "pattern = re.findall(r'214454[A-Z]?\\s+\\w+[\\/!#&$@ \\*~]*\\w*\\s*\\w*[\\/!#&$@ \\*~^]*\\w*\\s*[\\/!#&$@ \\*~^]*\\w*\\s*[\\/!#&$@ \\*~^]*\\w*\\s*[\\/!#&$@ \\*~^]*\\w*\\s*[\\/!#&$@ \\*~^]*\\w*\\s*[\\+]*\\w*\\s*\\+*\\w*\\s*\\+*\\w*\\s*\\w*\\+*\\s*\\w*\\s*\\+*\\w*\\s*',text)\n",
    "d = {'subject':[],'OE':[],'TH':[],'OE_TH':[],'TW':[],'PR':[],'OR':[],'TOT':[],'CRD':[],'GRD':[],'PTS1':[],'PTS2':[]}\n",
    "\n",
    "for i in pattern:\n",
    "    temp = i.split()\n",
    "    # print(len(temp))\n",
    "    d['subject'].append(temp[0])\n",
    "    d['OE'].append(temp[1])\n",
    "    d['TH'].append(temp[2])\n",
    "    d['OE_TH'].append(temp[3])\n",
    "    d['TW'].append(temp[4])\n",
    "    d['PR'].append(temp[5])\n",
    "    d['OR'].append(temp[6])\n",
    "    d['TOT'].append(temp[7])\n",
    "    d['CRD'].append(temp[8])\n",
    "    d['GRD'].append(temp[9])\n",
    "    d['PTS1'].append(temp[10])\n",
    "    d['PTS2'].append(temp[11])\n",
    "\n",
    "data = pd.DataFrame(d)\n",
    "data = data.replace('nnnnnnn','--')\n",
    "data.to_csv('subject_214454.csv',columns=data.columns)"
   ]
  },
  {
   "cell_type": "code",
   "execution_count": 29,
   "metadata": {},
   "outputs": [],
   "source": [
    "import re \n",
    "import pandas as pd \n",
    "pattern = re.findall(r'214455[A-Z]?\\s+\\w+[\\/!#&$@ \\*~]*\\w*\\s*\\w*[\\/!#&$@ \\*~^]*\\w*\\s*[\\/!#&$@ \\*~^]*\\w*\\s*[\\/!#&$@ \\*~^]*\\w*\\s*[\\/!#&$@ \\*~^]*\\w*\\s*[\\/!#&$@ \\*~^]*\\w*\\s*[\\+]*\\w*\\s*\\+*\\w*\\s*\\+*\\w*\\s*\\w*\\+*\\s*\\w*\\s*\\+*\\w*\\s*',text)\n",
    "d = {'subject':[],'OE':[],'TH':[],'OE_TH':[],'TW':[],'PR':[],'OR':[],'TOT':[],'CRD':[],'GRD':[],'PTS1':[],'PTS2':[]}\n",
    "\n",
    "for i in pattern:\n",
    "    temp = i.split()\n",
    "    # print(len(temp))\n",
    "    d['subject'].append(temp[0])\n",
    "    d['OE'].append(temp[1])\n",
    "    d['TH'].append(temp[2])\n",
    "    d['OE_TH'].append(temp[3])\n",
    "    d['TW'].append(temp[4])\n",
    "    d['PR'].append(temp[5])\n",
    "    d['OR'].append(temp[6])\n",
    "    d['TOT'].append(temp[7])\n",
    "    d['CRD'].append(temp[8])\n",
    "    d['GRD'].append(temp[9])\n",
    "    d['PTS1'].append(temp[10])\n",
    "    d['PTS2'].append(temp[11])\n",
    "\n",
    "data = pd.DataFrame(d)\n",
    "data = data.replace('nnnnnnn','--')\n",
    "data.to_csv('subject_214455.csv',columns=data.columns)"
   ]
  },
  {
   "cell_type": "code",
   "execution_count": 30,
   "metadata": {},
   "outputs": [],
   "source": [
    "import re \n",
    "import pandas as pd \n",
    "pattern = re.findall(r'214456[A-Z]?\\s+\\w+[\\/!#&$@ \\*~]*\\w*\\s*\\w*[\\/!#&$@ \\*~^]*\\w*\\s*[\\/!#&$@ \\*~^]*\\w*\\s*[\\/!#&$@ \\*~^]*\\w*\\s*[\\/!#&$@ \\*~^]*\\w*\\s*[\\/!#&$@ \\*~^]*\\w*\\s*[\\+]*\\w*\\s*\\+*\\w*\\s*\\+*\\w*\\s*\\w*\\+*\\s*\\w*\\s*\\+*\\w*\\s*',text)\n",
    "d = {'subject':[],'OE':[],'TH':[],'OE_TH':[],'TW':[],'PR':[],'OR':[],'TOT':[],'CRD':[],'GRD':[],'PTS1':[],'PTS2':[]}\n",
    "\n",
    "for i in pattern:\n",
    "    temp = i.split()\n",
    "    # print(len(temp))\n",
    "    d['subject'].append(temp[0])\n",
    "    d['OE'].append(temp[1])\n",
    "    d['TH'].append(temp[2])\n",
    "    d['OE_TH'].append(temp[3])\n",
    "    d['TW'].append(temp[4])\n",
    "    d['PR'].append(temp[5])\n",
    "    d['OR'].append(temp[6])\n",
    "    d['TOT'].append(temp[7])\n",
    "    d['CRD'].append(temp[8])\n",
    "    d['GRD'].append(temp[9])\n",
    "    d['PTS1'].append(temp[10])\n",
    "    d['PTS2'].append(temp[11])\n",
    "\n",
    "data = pd.DataFrame(d)\n",
    "data = data.replace('nnnnnnn','--')\n",
    "data.to_csv('subject_214456.csv',columns=data.columns)"
   ]
  },
  {
   "cell_type": "code",
   "execution_count": null,
   "metadata": {},
   "outputs": [],
   "source": [
    "import re \n",
    "import pandas as pd \n",
    "pattern = re.findall(r'210258A[A-Z]?\\s+\\w+[\\/!#&$@ \\*~]*\\w*\\s*\\w*[\\/!#&$@ \\*~^]*\\w*\\s*[\\/!#&$@ \\*~^]*\\w*\\s*[\\/!#&$@ \\*~^]*\\w*\\s*[\\/!#&$@ \\*~^]*\\w*\\s*[\\/!#&$@ \\*~^]*\\w*\\s*[\\+]*\\w*\\s*\\+*\\w*\\s*\\+*\\w*\\s*\\w*\\+*\\s*\\w*\\s*\\+*\\w*\\s*',text)\n",
    "d = {'subject':[],'OE':[],'TH':[],'OE_TH':[],'TW':[],'PR':[],'OR':[],'TOT':[],'CRD':[],'GRD':[],'PTS1':[],'PTS2':[]}\n",
    "\n",
    "for i in pattern:\n",
    "    temp = i.split()\n",
    "    # print(len(temp))\n",
    "    d['subject'].append(temp[0])\n",
    "    d['OE'].append(temp[1])\n",
    "    d['TH'].append(temp[2])\n",
    "    d['OE_TH'].append(temp[3])\n",
    "    d['TW'].append(temp[4])\n",
    "    d['PR'].append(temp[5])\n",
    "    d['OR'].append(temp[6])\n",
    "    d['TOT'].append(temp[7])\n",
    "    d['CRD'].append(temp[8])\n",
    "    d['GRD'].append(temp[9])\n",
    "    d['PTS1'].append(temp[10])\n",
    "    d['PTS2'].append(temp[11])\n",
    "\n",
    "data = pd.DataFrame(d)\n",
    "data = data.replace('nnnnnnn','--')\n",
    "data.to_csv('subject_210258A.csv',columns=data.columns)"
   ]
  },
  {
   "cell_type": "code",
   "execution_count": null,
   "metadata": {},
   "outputs": [],
   "source": []
  },
  {
   "cell_type": "code",
   "execution_count": null,
   "metadata": {},
   "outputs": [],
   "source": []
  },
  {
   "cell_type": "markdown",
   "metadata": {},
   "source": [
    "#### seat_no + student name + mother name + prn"
   ]
  },
  {
   "cell_type": "code",
   "execution_count": 156,
   "metadata": {},
   "outputs": [],
   "source": [
    "import pandas as pd\n",
    "pattern = re.findall(r'[ST]\\w{9}\\s*\\w*\\s*\\w*\\s*\\w*\\s*\\w*\\w*\\s*\\w*\\s*\\w*\\s*\\w*\\s*',text)\n",
    "# print(len(pattern))\n",
    "d = {'seat_no':[],'name':[],'mother_name':[],'PRN_NO':[]}\n",
    "#0-seat no 1-2-3-name 4-mother_name 5-prn\n",
    "for i in pattern:\n",
    "    temp = i.split()\n",
    "    temp.pop()\n",
    "    temp.pop()\n",
    "    if len(temp)==5:\n",
    "        temp.append('Nan')\n",
    "    d['seat_no'].append(temp[0])\n",
    "    d['name'].append(temp[1]+' '+temp[2]+' '+temp[3])\n",
    "    d['mother_name'].append(temp[4])\n",
    "    d['PRN_NO'].append(temp[5])\n",
    "    datafrmae = pd.DataFrame(d)\n",
    "    datafrmae.to_csv('seat_no_name_monther_name.csv',header=datafrmae.columns)"
   ]
  },
  {
   "cell_type": "markdown",
   "metadata": {},
   "source": [
    "## extracting student marks"
   ]
  },
  {
   "cell_type": "code",
   "execution_count": 101,
   "metadata": {},
   "outputs": [],
   "source": [
    "p = re.findall(r'[2]\\w{5}[A-Z]?\\s+\\w+[\\/|\\s+][\\w+| ]\\w+\\s+[\\w|\\s+]\\w+[\\/| $]\\w* *\\w*\\/*\\w* *\\w* *\\/*\\w* *\\/*\\w* *\\/*\\w* *\\/*\\w* *\\/*[\\w| |\\+][\\w| |\\+]\\w* *\\/*\\w* *\\/*\\w* *\\/*\\w* *\\/*\\w*',text)\n",
    "d = {'subject':[],'OE':[],'TH':[],'OE_TH':[],'TW':[],'PR':[],'OR':[],'TOT':[],'CRD':[],'GRD':[],'PTS1':[],'PTS2':[]}\n",
    "for i in p:\n",
    "    temp = i.split()\n",
    "    if len(temp)!=12:\n",
    "        while(len(temp)!=12):\n",
    "            temp.append('Nan')\n",
    "\n",
    "    d['subject'].append(temp[0])\n",
    "    d['OE'].append(temp[1])\n",
    "    d['TH'].append(temp[2])\n",
    "    d['OE_TH'].append(temp[3])\n",
    "    d['TW'].append(temp[4])\n",
    "    d['PR'].append(temp[5])\n",
    "    d['OR'].append(temp[6])\n",
    "    d['TOT'].append(temp[7])\n",
    "    d['CRD'].append(temp[8])\n",
    "    d['GRD'].append(temp[9])\n",
    "    d['PTS1'].append(temp[10])\n",
    "    d['PTS2'].append(temp[11])\n",
    "\n",
    "data = pd.DataFrame(d)\n",
    "data = data.replace('nnnnnnn','--')\n",
    "data.to_csv('student_marks.csv',columns=data.columns)\n"
   ]
  },
  {
   "cell_type": "markdown",
   "metadata": {},
   "source": [
    "## split the text"
   ]
  },
  {
   "cell_type": "code",
   "execution_count": 13,
   "metadata": {},
   "outputs": [],
   "source": [
    "pattern = re.findall(r'2\\w{5,6}[A-Z]?\\s+\\w+[\\/!#&$@ \\*~]*\\w*\\s*\\w*[\\/!#&$@ \\*~^]*\\w*\\s*[\\/!#&$@ \\*~^]*\\w*\\s*[\\/!#&$@ \\*~^]*\\w*\\s*[\\/!#&$@ \\*~^]*\\w*\\s*[\\/!#&$@ \\*~^]*\\w*\\s*[\\+]*\\w*\\s*\\+*\\w*\\s*\\+*\\w*\\s*\\w*\\+*\\s*\\w*\\s*\\+*\\w*\\s*',text)"
   ]
  },
  {
   "cell_type": "code",
   "execution_count": 151,
   "metadata": {},
   "outputs": [
    {
     "data": {
      "text/plain": [
       "numpy.ndarray"
      ]
     },
     "execution_count": 151,
     "metadata": {},
     "output_type": "execute_result"
    }
   ],
   "source": [
    "t = {'214441':[],'214442':[],'214443':[],'214444':[],\n",
    "      '214445':[],'214446':[],'214447':[],'214448':[],\n",
    "      '214449':[],'202054A':[],'207003':[],'214450':[],\n",
    "      '214451':[],'214452':[],'214453':[],'214454':[],\n",
    "      '214455':[],'214456':[],'210258D':[],'214450C':[],\n",
    "      '214450B':[],'214459A':[],'214459B':[],'214459C':[],\n",
    "      '214459D':[],'210258A':[],'210258C':[],'210250':[],\n",
    "      '214458':[]\n",
    "}\n",
    "da = pd.read_csv('student_marks.csv')\n",
    "da.drop('Unnamed: 0',axis=1,inplace=True)\n",
    "d = da.iloc[:,:].values\n",
    "# for i in d:\n",
    "#     i = list(i)\n",
    "#     key = i[0]\n",
    "#     i.pop(0)\n",
    "#     value = i \n",
    "#     t[key].append(value)\n",
    "\n",
    "# d = list(d)\n",
    "# type(d[0])"
   ]
  },
  {
   "cell_type": "code",
   "execution_count": 161,
   "metadata": {},
   "outputs": [],
   "source": [
    "# a = pd.read_csv('student_marks.csv')\n",
    "# l1 = [1,2,3]\n",
    "# l2 = ['a','b','c']\n",
    "\n",
    "# for i in zip(l1,l2):\n",
    "#     print(i)\n",
    "final_dict = {key : None for key in PRN_NO}\n",
    "\n",
    "# for i in zip(PRN_NO,list(d)):\n",
    "#     try:\n",
    "#         final_dict[i[0]].append(list(i[1]))\n",
    "#     except KeyError:\n",
    "#         pass \n"
   ]
  },
  {
   "cell_type": "code",
   "execution_count": 1,
   "metadata": {},
   "outputs": [],
   "source": [
    "# final_dict"
   ]
  },
  {
   "cell_type": "code",
   "execution_count": null,
   "metadata": {},
   "outputs": [],
   "source": [
    "#FINDING PRN NUMBER\n",
    "pattern = re.compile(r'\\d{7}[A-Z]')\n",
    "\n",
    "#FINDING SEAT No in \n",
    "pattern = re.compile(r'\\w{10}')\n",
    "\n",
    "#MATCHING SCORE CARD\n",
    "pattern = re.compile(r'\\w{2} \\w{2} \\[\\w{2}\\+\\w{2}\\] \\w{2} \\w{2} \\w{2} \\w{3}\\% \\w{3} \\w{3} \\w{3} \\w{3}')\n",
    "\n",
    "#MATCHING SEAT NO + NAME + MOTHER NAME + PRN \n",
    "pattern = re.compile(r'\\w{10} \\w[A-Z]+ \\w[A-Z]+ \\w[A-Z]+ \\d{8}[A-Z] [A-Z]{4}')\n",
    "\n",
    "\n",
    "#matching student score\n",
    "\n",
    "pattern = re.compile(r'[2]\\d{5} \\* \\d{3}\\/\\d{3} \\d{3}\\/\\d{3} \\d{3}\\/\\d{3} +\\w{2} \\d{2} \\w{1} \\w{2} \\w{2}')\n",
    "\n",
    "#MATCHIN STUDENT SCORE \n",
    "pattern = re.compile(r'[2]\\w{5}[A-Z]?\\s+\\w+(\\/| )\\w+(\\/| )\\w+(\\/| )\\w+(\\/| )\\w+(\\/| )\\w+(\\/| )\\w+ \\w+ \\w+ \\w+(\\+| )(\\w+| )\\s?\\w?(\\s?|\\w?)\\w+ ?\\w?\\w?')\n",
    "\n",
    "#total credit score\n",
    "pattern = re.compile(r'[T]\\w+ \\w+ \\w+\\s+\\d{2}')\n",
    "\n",
    "#sgpa\n",
    "pattern = re.compile(r'SGPA\\s+.{4}')\n",
    "\n",
    "#find score\n",
    "s = re.compile(r'2\\w{5,6}[A-Z]?\\s+\\w+[\\/!#&$@ \\*~]*\\w*\\s*\\w*[\\/!#&$@ \\*~^]*\\w*\\s*[\\/!#&$@ \\*~^]*\\w*\\s*[\\/!#&$@ \\*~^]*\\w*\\s*[\\/!#&$@ \\*~^]*\\w*\\s*[\\/!#&$@ \\*~^]*\\w*\\s*[\\+]*\\w*\\s*\\+*\\w*\\s*\\+*\\w*\\s*\\w*\\+*\\s*\\w*\\s*\\+*\\w*\\s*')"
   ]
  }
 ],
 "metadata": {
  "kernelspec": {
   "display_name": "Python 3.8.2 ('env': venv)",
   "language": "python",
   "name": "python3"
  },
  "language_info": {
   "codemirror_mode": {
    "name": "ipython",
    "version": 3
   },
   "file_extension": ".py",
   "mimetype": "text/x-python",
   "name": "python",
   "nbconvert_exporter": "python",
   "pygments_lexer": "ipython3",
   "version": "3.8.2"
  },
  "orig_nbformat": 4,
  "vscode": {
   "interpreter": {
    "hash": "5cd46a275f8822b6fef7c1f085dcd5568910965774c2e3290ec37691aed9739e"
   }
  }
 },
 "nbformat": 4,
 "nbformat_minor": 2
}
