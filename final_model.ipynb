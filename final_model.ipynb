{
 "cells": [
  {
   "cell_type": "code",
   "execution_count": 2,
   "metadata": {},
   "outputs": [],
   "source": [
    "import re\n",
    "import pandas as pd\n",
    "import PyPDF2 "
   ]
  },
  {
   "cell_type": "code",
   "execution_count": 3,
   "metadata": {},
   "outputs": [],
   "source": [
    "def pdfToText(path):\n",
    "    pdfreader = PyPDF2.PdfFileReader(open(path,'rb'))\n",
    "    no_of_pages = pdfreader.numPages\n",
    "    with open('final_txt.txt','w') as f:\n",
    "        for i in range(0,no_of_pages):\n",
    "            pagObj = pdfreader.getPage(i)\n",
    "            f.write(pagObj.extractText())\n",
    "    with open('final_txt.txt','r') as f:\n",
    "        text = f.read()\n",
    "        return type(text) \n"
   ]
  },
  {
   "cell_type": "code",
   "execution_count": 4,
   "metadata": {},
   "outputs": [
    {
     "name": "stdout",
     "output_type": "stream",
     "text": [
      "<class 'str'>\n"
     ]
    }
   ],
   "source": [
    "print(pdfToText('result.pdf'))"
   ]
  },
  {
   "cell_type": "markdown",
   "metadata": {},
   "source": [
    "## pdf to text"
   ]
  },
  {
   "cell_type": "code",
   "execution_count": 5,
   "metadata": {},
   "outputs": [],
   "source": [
    "import PyPDF2 \n",
    "pdfreader = PyPDF2.PdfFileReader(open('result.pdf','rb'))\n",
    "no_of_pages = pdfreader.numPages\n",
    "with open('final_txt.txt','w') as f:\n",
    "    for i in range(0,no_of_pages):\n",
    "        pagObj = pdfreader.getPage(i)\n",
    "        f.write(pagObj.extractText())\n",
    "       "
   ]
  },
  {
   "cell_type": "markdown",
   "metadata": {},
   "source": [
    "## text file to string"
   ]
  },
  {
   "cell_type": "code",
   "execution_count": 6,
   "metadata": {},
   "outputs": [
    {
     "data": {
      "text/plain": [
       "str"
      ]
     },
     "execution_count": 6,
     "metadata": {},
     "output_type": "execute_result"
    }
   ],
   "source": [
    "file = open('final_txt.txt','r')\n",
    "text = file.read()\n",
    "file.close()\n",
    "type(text)"
   ]
  },
  {
   "cell_type": "code",
   "execution_count": 5,
   "metadata": {},
   "outputs": [],
   "source": [
    "# text"
   ]
  },
  {
   "cell_type": "markdown",
   "metadata": {},
   "source": [
    "## cleaning text file"
   ]
  },
  {
   "cell_type": "code",
   "execution_count": 7,
   "metadata": {},
   "outputs": [],
   "source": [
    "text = text.replace('SAVITRIBAI PHULE PUNE UNIVERSITY, S.E.(2015 COURSE) EXAMINATION,MAY 2018','')\n",
    "text = text.replace('COLLEGE    : D.Y. PATIL COLLEGE OF ENGINEERING,  PUNE','')\n",
    "text = text.replace('BRANCH CODE: 29-S.E.(2015 PAT.)(INFORMATIOM TECHNOLOGY)','')\n",
    "text = text.replace('DATE       : 23 JUL 2018','')\n",
    "text = text.replace('....................................................................................................','')\n",
    "text = text.replace('SEM.:1','')\n",
    "text = text.replace('SEM.:2','')\n",
    "text = text.replace('OE       TH     [OE+TH]     TW       PR       OR    Tot% Crd  Grd  Pts   Pts','')\n",
    "text = text.replace('OE       TH     [OE+TH]     TW       PR       OR    Tot% Crd  Grd  Pts   Pts','')\n",
    "text = text.replace('DYPP','')\n",
    "text = text.replace('Grd   Crd','')\n",
    "text = text.replace('SEM. 2','')\n",
    "text = text.replace('SEM. 1','')\n",
    "text = text.replace('~','')\n",
    "text = text.replace(' .','')\n",
    "text.replace('~','nan')\n",
    "text = text.replace('*',' ')\n",
    "text = text.replace(':',' ')\n",
    "text = text.replace('-','n')\n",
    "text = text.replace('SECOND YEAR SGPA','')\n",
    "text = text.replace('TOTAL CREDITS EARNED ','')\n",
    "# SECOND YEAR SGPA   8.08, TOTAL CREDITS EARNED   50\n",
    "text = text.strip()\n"
   ]
  },
  {
   "cell_type": "markdown",
   "metadata": {},
   "source": [
    "## further cleaning"
   ]
  },
  {
   "cell_type": "code",
   "execution_count": 8,
   "metadata": {},
   "outputs": [],
   "source": [
    "text = 'r{}'.format(text)\n",
    "with open('final_clean_output.txt','w') as o:\n",
    "    o.write(text)\n",
    "with open('final_clean_output.txt','r') as o:\n",
    "    text = o.read()"
   ]
  },
  {
   "cell_type": "markdown",
   "metadata": {},
   "source": [
    "## Extracting seat No \n"
   ]
  },
  {
   "cell_type": "code",
   "execution_count": 9,
   "metadata": {},
   "outputs": [
    {
     "data": {
      "text/plain": [
       "194"
      ]
     },
     "execution_count": 9,
     "metadata": {},
     "output_type": "execute_result"
    }
   ],
   "source": [
    "seatNo = re.findall(r'S\\d{9}',text)\n",
    "len(seatNo)\n",
    "# seatNo"
   ]
  },
  {
   "cell_type": "code",
   "execution_count": 14,
   "metadata": {},
   "outputs": [],
   "source": [
    "# seatNo"
   ]
  },
  {
   "cell_type": "markdown",
   "metadata": {},
   "source": [
    "## Extracting PRN NO"
   ]
  },
  {
   "cell_type": "code",
   "execution_count": 7,
   "metadata": {},
   "outputs": [
    {
     "data": {
      "text/plain": [
       "194"
      ]
     },
     "execution_count": 7,
     "metadata": {},
     "output_type": "execute_result"
    }
   ],
   "source": [
    "PRN_NO = re.findall(r'7\\d{7}[A-Z]*',text)\n",
    "len(PRN_NO)\n",
    "# PRN_NO\n",
    "# print('71842239C' in PRN_NO)"
   ]
  },
  {
   "cell_type": "markdown",
   "metadata": {},
   "source": [
    "## subject by subject mark"
   ]
  },
  {
   "cell_type": "code",
   "execution_count": 24,
   "metadata": {},
   "outputs": [],
   "source": [
    "import re \n",
    "import pandas as pd \n",
    "subject_code = input()\n",
    "pattern = re.findall(fr'{subject_code}[A-Z]?\\s+\\w+[\\/!#&$@ \\*~]*\\w*\\s*\\w*[\\/!#&$@ \\*~^]*\\w*\\s*[\\/!#&$@ \\*~^]*\\w*\\s*[\\/!#&$@ \\*~^]*\\w*\\s*[\\/!#&$@ \\*~^]*\\w*\\s*[\\/!#&$@ \\*~^]*\\w*\\s*[\\+]*\\w*\\s*\\+*\\w*\\s*\\+*\\w*\\s*\\w*\\+*\\s*\\w*\\s*\\+*\\w*\\s',text)\n",
    "d = {'subject':[],'OE':[],'TH':[],'OE_TH':[],'TW':[],'PR':[],'OR':[],'TOT':[],'CRD':[],'GRD':[],'PTS1':[],'PTS2':[]}\n",
    "for i in pattern:\n",
    "    temp = i.split()\n",
    "    # print(len(temp))\n",
    "    d['subject'].append(temp[0])\n",
    "    d['OE'].append(temp[1])\n",
    "    d['TH'].append(temp[2])\n",
    "    d['OE_TH'].append(temp[3])\n",
    "    d['TW'].append(temp[4])\n",
    "    d['PR'].append(temp[5])\n",
    "    d['OR'].append(temp[6])\n",
    "    d['TOT'].append(temp[7])\n",
    "    d['CRD'].append(temp[8])\n",
    "    d['GRD'].append(temp[9])\n",
    "    d['PTS1'].append(temp[10])\n",
    "    d['PTS2'].append(temp[11])\n",
    "\n",
    "data = pd.DataFrame(d)\n",
    "data = data.replace('nnnnnnn','--')\n",
    "data.to_csv(subject_code+'.csv',columns=data.columns,index=False)\n"
   ]
  },
  {
   "cell_type": "code",
   "execution_count": 25,
   "metadata": {},
   "outputs": [],
   "source": [
    "import re \n",
    "import pandas as pd \n",
    "pattern = re.findall(r'214442[A-Z]?\\s+\\w+[\\/!#&$@ \\*~]*\\w*\\s*\\w*[\\/!#&$@ \\*~^]*\\w*\\s*[\\/!#&$@ \\*~^]*\\w*\\s*[\\/!#&$@ \\*~^]*\\w*\\s*[\\/!#&$@ \\*~^]*\\w*\\s*[\\/!#&$@ \\*~^]*\\w*\\s*[\\+]*\\w*\\s*\\+*\\w*\\s*\\+*\\w*\\s*\\w*\\+*\\s*\\w*\\s*\\+*\\w*\\s',text)\n",
    "d = {'subject':[],'OE':[],'TH':[],'OE_TH':[],'TW':[],'PR':[],'OR':[],'TOT':[],'CRD':[],'GRD':[],'PTS1':[],'PTS2':[]}\n",
    "for i in pattern:\n",
    "    temp = i.split()\n",
    "    # print(len(temp))\n",
    "    d['subject'].append(temp[0])\n",
    "    d['OE'].append(temp[1])\n",
    "    d['TH'].append(temp[2])\n",
    "    d['OE_TH'].append(temp[3])\n",
    "    d['TW'].append(temp[4])\n",
    "    d['PR'].append(temp[5])\n",
    "    d['OR'].append(temp[6])\n",
    "    d['TOT'].append(temp[7])\n",
    "    d['CRD'].append(temp[8])\n",
    "    d['GRD'].append(temp[9])\n",
    "    d['PTS1'].append(temp[10])\n",
    "    d['PTS2'].append(temp[11])\n",
    "\n",
    "data = pd.DataFrame(d)\n",
    "data = data.replace('nnnnnnn','--')\n",
    "data.to_csv('subject_214442.csv',columns=data.columns,index=False)"
   ]
  },
  {
   "cell_type": "code",
   "execution_count": 19,
   "metadata": {},
   "outputs": [],
   "source": [
    "import re \n",
    "import pandas as pd \n",
    "pattern = re.findall(r'214443[A-Z]?\\s+\\w+[\\/!#&$@ \\*~]*\\w*\\s*\\w*[\\/!#&$@ \\*~^]*\\w*\\s*[\\/!#&$@ \\*~^]*\\w*\\s*[\\/!#&$@ \\*~^]*\\w*\\s*[\\/!#&$@ \\*~^]*\\w*\\s*[\\/!#&$@ \\*~^]*\\w*\\s*[\\+]*\\w*\\s*\\+*\\w*\\s*\\+*\\w*\\s*\\w*\\+*\\s*\\w*\\s*\\+*\\w*\\s',text)\n",
    "d = {'subject':[],'OE':[],'TH':[],'OE_TH':[],'TW':[],'PR':[],'OR':[],'TOT':[],'CRD':[],'GRD':[],'PTS1':[],'PTS2':[]}\n",
    "for i in pattern:\n",
    "    temp = i.split()\n",
    "    # print(len(temp))\n",
    "    d['subject'].append(temp[0])\n",
    "    d['OE'].append(temp[1])\n",
    "    d['TH'].append(temp[2])\n",
    "    d['OE_TH'].append(temp[3])\n",
    "    d['TW'].append(temp[4])\n",
    "    d['PR'].append(temp[5])\n",
    "    d['OR'].append(temp[6])\n",
    "    d['TOT'].append(temp[7])\n",
    "    d['CRD'].append(temp[8])\n",
    "    d['GRD'].append(temp[9])\n",
    "    d['PTS1'].append(temp[10])\n",
    "    d['PTS2'].append(temp[11])\n",
    "\n",
    "data = pd.DataFrame(d)\n",
    "data = data.replace('nnnnnnn','--')\n",
    "data.to_csv('subject_214443.csv',columns=data.columns)"
   ]
  },
  {
   "cell_type": "code",
   "execution_count": 8,
   "metadata": {},
   "outputs": [],
   "source": [
    "import re \n",
    "import pandas as pd \n",
    "pattern = re.findall(r'214444[A-Z]?\\s+\\w+[\\/!#&$@ \\*~]*\\w*\\s*\\w*[\\/!#&$@ \\*~^]*\\w*\\s*[\\/!#&$@ \\*~^]*\\w*\\s*[\\/!#&$@ \\*~^]*\\w*\\s*[\\/!#&$@ \\*~^]*\\w*\\s*[\\/!#&$@ \\*~^]*\\w*\\s*[\\+]*\\w*\\s*\\+*\\w*\\s*\\+*\\w*\\s*\\w*\\+*\\s*\\w*\\s*\\+*\\w*\\s',text)\n",
    "d = {'subject':[],'OE':[],'TH':[],'OE_TH':[],'TW':[],'PR':[],'OR':[],'TOT':[],'CRD':[],'GRD':[],'PTS1':[],'PTS2':[]}\n",
    "for i in pattern:\n",
    "    temp = i.split()\n",
    "    # print(len(temp))\n",
    "    d['subject'].append(temp[0])\n",
    "    d['OE'].append(temp[1])\n",
    "    d['TH'].append(temp[2])\n",
    "    d['OE_TH'].append(temp[3])\n",
    "    d['TW'].append(temp[4])\n",
    "    d['PR'].append(temp[5])\n",
    "    d['OR'].append(temp[6])\n",
    "    d['TOT'].append(temp[7])\n",
    "    d['CRD'].append(temp[8])\n",
    "    d['GRD'].append(temp[9])\n",
    "    d['PTS1'].append(temp[10])\n",
    "    d['PTS2'].append(temp[11])\n",
    "\n",
    "data = pd.DataFrame(d)\n",
    "data = data.replace('nnnnnnn','--')\n",
    "data.to_csv('subject_214444.csv',columns=data.columns)"
   ]
  },
  {
   "cell_type": "code",
   "execution_count": 9,
   "metadata": {},
   "outputs": [],
   "source": [
    "import re \n",
    "import pandas as pd \n",
    "pattern = re.findall(r'214445[A-Z]?\\s+\\w+[\\/!#&$@ \\*~]*\\w*\\s*\\w*[\\/!#&$@ \\*~^]*\\w*\\s*[\\/!#&$@ \\*~^]*\\w*\\s*[\\/!#&$@ \\*~^]*\\w*\\s*[\\/!#&$@ \\*~^]*\\w*\\s*[\\/!#&$@ \\*~^]*\\w*\\s*[\\+]*\\w*\\s*\\+*\\w*\\s*\\+*\\w*\\s*\\w*\\+*\\s*\\w*\\s*\\+*\\w*\\s',text)\n",
    "d = {'subject':[],'OE':[],'TH':[],'OE_TH':[],'TW':[],'PR':[],'OR':[],'TOT':[],'CRD':[],'GRD':[],'PTS1':[],'PTS2':[]}\n",
    "for i in pattern:\n",
    "    temp = i.split()\n",
    "    # print(len(temp))\n",
    "    d['subject'].append(temp[0])\n",
    "    d['OE'].append(temp[1])\n",
    "    d['TH'].append(temp[2])\n",
    "    d['OE_TH'].append(temp[3])\n",
    "    d['TW'].append(temp[4])\n",
    "    d['PR'].append(temp[5])\n",
    "    d['OR'].append(temp[6])\n",
    "    d['TOT'].append(temp[7])\n",
    "    d['CRD'].append(temp[8])\n",
    "    d['GRD'].append(temp[9])\n",
    "    d['PTS1'].append(temp[10])\n",
    "    d['PTS2'].append(temp[11])\n",
    "\n",
    "data = pd.DataFrame(d)\n",
    "data = data.replace('nnnnnnn','--')\n",
    "data.to_csv('subject_214445.csv',columns=data.columns)"
   ]
  },
  {
   "cell_type": "code",
   "execution_count": 10,
   "metadata": {},
   "outputs": [],
   "source": [
    "import re \n",
    "import pandas as pd \n",
    "pattern = re.findall(r'214446[A-Z]?\\s+\\w+[\\/!#&$@ \\*~]*\\w*\\s*\\w*[\\/!#&$@ \\*~^]*\\w*\\s*[\\/!#&$@ \\*~^]*\\w*\\s*[\\/!#&$@ \\*~^]*\\w*\\s*[\\/!#&$@ \\*~^]*\\w*\\s*[\\/!#&$@ \\*~^]*\\w*\\s*[\\+]*\\w*\\s*\\+*\\w*\\s*\\+*\\w*\\s*\\w*\\+*\\s*\\w*\\s*\\+*\\w*\\s',text)\n",
    "d = {'subject':[],'OE':[],'TH':[],'OE_TH':[],'TW':[],'PR':[],'OR':[],'TOT':[],'CRD':[],'GRD':[],'PTS1':[],'PTS2':[]}\n",
    "for i in pattern:\n",
    "    temp = i.split()\n",
    "    # print(len(temp))\n",
    "    d['subject'].append(temp[0])\n",
    "    d['OE'].append(temp[1])\n",
    "    d['TH'].append(temp[2])\n",
    "    d['OE_TH'].append(temp[3])\n",
    "    d['TW'].append(temp[4])\n",
    "    d['PR'].append(temp[5])\n",
    "    d['OR'].append(temp[6])\n",
    "    d['TOT'].append(temp[7])\n",
    "    d['CRD'].append(temp[8])\n",
    "    d['GRD'].append(temp[9])\n",
    "    d['PTS1'].append(temp[10])\n",
    "    d['PTS2'].append(temp[11])\n",
    "\n",
    "data = pd.DataFrame(d)\n",
    "data = data.replace('nnnnnnn','--')\n",
    "data.to_csv('subject_214446.csv',columns=data.columns)"
   ]
  },
  {
   "cell_type": "code",
   "execution_count": 18,
   "metadata": {},
   "outputs": [],
   "source": [
    "import re \n",
    "import pandas as pd \n",
    "pattern = re.findall(r'214447[A-Z]?\\s+\\w+[\\/!#&$@ \\*~]*\\w*\\s*\\w*[\\/!#&$@ \\*~^]*\\w*\\s*[\\/!#&$@ \\*~^]*\\w*\\s*[\\/!#&$@ \\*~^]*\\w*\\s*[\\/!#&$@ \\*~^]*\\w*\\s*[\\/!#&$@ \\*~^]*\\w*\\s*[\\+]*\\w*\\s*\\+*\\w*\\s*\\+*\\w*\\s*\\w*\\+*\\s*\\w*\\s*\\+*\\w*\\s',text)\n",
    "d = {'subject':[],'OE':[],'TH':[],'OE_TH':[],'TW':[],'PR':[],'OR':[],'TOT':[],'CRD':[],'GRD':[],'PTS1':[],'PTS2':[]}\n",
    "for i in pattern:\n",
    "    temp = i.split()\n",
    "    # print(len(temp))\n",
    "    d['subject'].append(temp[0])\n",
    "    d['OE'].append(temp[1])\n",
    "    d['TH'].append(temp[2])\n",
    "    d['OE_TH'].append(temp[3])\n",
    "    d['TW'].append(temp[4])\n",
    "    d['PR'].append(temp[5])\n",
    "    d['OR'].append(temp[6])\n",
    "    d['TOT'].append(temp[7])\n",
    "    d['CRD'].append(temp[8])\n",
    "    d['GRD'].append(temp[9])\n",
    "    d['PTS1'].append(temp[10])\n",
    "    d['PTS2'].append(temp[11])\n",
    "\n",
    "data = pd.DataFrame(d)\n",
    "data = data.replace('nnnnnnn','--')\n",
    "data.to_csv('subject_214447.csv',columns=data.columns)"
   ]
  },
  {
   "cell_type": "code",
   "execution_count": 19,
   "metadata": {},
   "outputs": [],
   "source": [
    "import re \n",
    "import pandas as pd \n",
    "pattern = re.findall(r'214448[A-Z]?\\s+\\w+[\\/!#&$@ \\*~]*\\w*\\s*\\w*[\\/!#&$@ \\*~^]*\\w*\\s*[\\/!#&$@ \\*~^]*\\w*\\s*[\\/!#&$@ \\*~^]*\\w*\\s*[\\/!#&$@ \\*~^]*\\w*\\s*[\\/!#&$@ \\*~^]*\\w*\\s*[\\+]*\\w*\\s*\\+*\\w*\\s*\\+*\\w*\\s*\\w*\\+*\\s*\\w*\\s*\\+*\\w*\\s',text)\n",
    "d = {'subject':[],'OE':[],'TH':[],'OE_TH':[],'TW':[],'PR':[],'OR':[],'TOT':[],'CRD':[],'GRD':[],'PTS1':[],'PTS2':[]}\n",
    "for i in pattern:\n",
    "    temp = i.split()\n",
    "    # print(len(temp))\n",
    "    d['subject'].append(temp[0])\n",
    "    d['OE'].append(temp[1])\n",
    "    d['TH'].append(temp[2])\n",
    "    d['OE_TH'].append(temp[3])\n",
    "    d['TW'].append(temp[4])\n",
    "    d['PR'].append(temp[5])\n",
    "    d['OR'].append(temp[6])\n",
    "    d['TOT'].append(temp[7])\n",
    "    d['CRD'].append(temp[8])\n",
    "    d['GRD'].append(temp[9])\n",
    "    d['PTS1'].append(temp[10])\n",
    "    d['PTS2'].append(temp[11])\n",
    "\n",
    "data = pd.DataFrame(d)\n",
    "data = data.replace('nnnnnnn','--')\n",
    "data.to_csv('subject_214448.csv',columns=data.columns)"
   ]
  },
  {
   "cell_type": "code",
   "execution_count": 20,
   "metadata": {},
   "outputs": [],
   "source": [
    "import re \n",
    "import pandas as pd \n",
    "pattern = re.findall(r'214494[A-Z]?\\s+\\w+[\\/!#&$@ \\*~]*\\w*\\s*\\w*[\\/!#&$@ \\*~^]*\\w*\\s*[\\/!#&$@ \\*~^]*\\w*\\s*[\\/!#&$@ \\*~^]*\\w*\\s*[\\/!#&$@ \\*~^]*\\w*\\s*[\\/!#&$@ \\*~^]*\\w*\\s*[\\+]*\\w*\\s*\\+*\\w*\\s*\\+*\\w*\\s*\\w*\\+*\\s*\\w*\\s*\\+*\\w*\\s*',text)\n",
    "d = {'subject':[],'OE':[],'TH':[],'OE_TH':[],'TW':[],'PR':[],'OR':[],'TOT':[],'CRD':[],'GRD':[],'PTS1':[],'PTS2':[]}\n",
    "for i in pattern:\n",
    "    temp = i.split()\n",
    "    # print(len(temp))\n",
    "    d['subject'].append(temp[0])\n",
    "    d['OE'].append(temp[1])\n",
    "    d['TH'].append(temp[2])\n",
    "    d['OE_TH'].append(temp[3])\n",
    "    d['TW'].append(temp[4])\n",
    "    d['PR'].append(temp[5])\n",
    "    d['OR'].append(temp[6])\n",
    "    d['TOT'].append(temp[7])\n",
    "    d['CRD'].append(temp[8])\n",
    "    d['GRD'].append(temp[9])\n",
    "    d['PTS1'].append(temp[10])\n",
    "    d['PTS2'].append(temp[11])\n",
    "\n",
    "data = pd.DataFrame(d)\n",
    "data = data.replace('nnnnnnn','--')\n",
    "data.to_csv('subject_214449.csv',columns=data.columns)"
   ]
  },
  {
   "cell_type": "code",
   "execution_count": 23,
   "metadata": {},
   "outputs": [],
   "source": [
    "import re \n",
    "import pandas as pd \n",
    "pattern = re.findall(r'207003[A-Z]?\\s+\\w+[\\/!#&$@ \\*~]*\\w*\\s*\\w*[\\/!#&$@ \\*~^]*\\w*\\s*[\\/!#&$@ \\*~^]*\\w*\\s*[\\/!#&$@ \\*~^]*\\w*\\s*[\\/!#&$@ \\*~^]*\\w*\\s*[\\/!#&$@ \\*~^]*\\w*\\s*[\\+]*\\w*\\s*\\+*\\w*\\s*\\+*\\w*\\s*\\w*\\+*\\s*\\w*\\s*\\+*\\w*\\s*',text)\n",
    "d = {'subject':[],'OE':[],'TH':[],'OE_TH':[],'TW':[],'PR':[],'OR':[],'TOT':[],'CRD':[],'GRD':[],'PTS1':[],'PTS2':[]}\n",
    "\n",
    "for i in pattern:\n",
    "    temp = i.split()\n",
    "    # print(len(temp))\n",
    "    d['subject'].append(temp[0])\n",
    "    d['OE'].append(temp[1])\n",
    "    d['TH'].append(temp[2])\n",
    "    d['OE_TH'].append(temp[3])\n",
    "    d['TW'].append(temp[4])\n",
    "    d['PR'].append(temp[5])\n",
    "    d['OR'].append(temp[6])\n",
    "    d['TOT'].append(temp[7])\n",
    "    d['CRD'].append(temp[8])\n",
    "    d['GRD'].append(temp[9])\n",
    "    d['PTS1'].append(temp[10])\n",
    "    d['PTS2'].append(temp[11])\n",
    "\n",
    "data = pd.DataFrame(d)\n",
    "data = data.replace('nnnnnnn','--')\n",
    "data.to_csv('subject_207003.csv',columns=data.columns)"
   ]
  },
  {
   "cell_type": "code",
   "execution_count": 24,
   "metadata": {},
   "outputs": [],
   "source": [
    "import re \n",
    "import pandas as pd \n",
    "pattern = re.findall(r'214450[A-Z]?\\s+\\w+[\\/!#&$@ \\*~]*\\w*\\s*\\w*[\\/!#&$@ \\*~^]*\\w*\\s*[\\/!#&$@ \\*~^]*\\w*\\s*[\\/!#&$@ \\*~^]*\\w*\\s*[\\/!#&$@ \\*~^]*\\w*\\s*[\\/!#&$@ \\*~^]*\\w*\\s*[\\+]*\\w*\\s*\\+*\\w*\\s*\\+*\\w*\\s*\\w*\\+*\\s*\\w*\\s*\\+*\\w*\\s*',text)\n",
    "d = {'subject':[],'OE':[],'TH':[],'OE_TH':[],'TW':[],'PR':[],'OR':[],'TOT':[],'CRD':[],'GRD':[],'PTS1':[],'PTS2':[]}\n",
    "\n",
    "for i in pattern:\n",
    "    temp = i.split()\n",
    "    # print(len(temp))\n",
    "    d['subject'].append(temp[0])\n",
    "    d['OE'].append(temp[1])\n",
    "    d['TH'].append(temp[2])\n",
    "    d['OE_TH'].append(temp[3])\n",
    "    d['TW'].append(temp[4])\n",
    "    d['PR'].append(temp[5])\n",
    "    d['OR'].append(temp[6])\n",
    "    d['TOT'].append(temp[7])\n",
    "    d['CRD'].append(temp[8])\n",
    "    d['GRD'].append(temp[9])\n",
    "    d['PTS1'].append(temp[10])\n",
    "    d['PTS2'].append(temp[11])\n",
    "\n",
    "data = pd.DataFrame(d)\n",
    "data = data.replace('nnnnnnn','--')\n",
    "data.to_csv('subject_214450.csv',columns=data.columns)"
   ]
  },
  {
   "cell_type": "code",
   "execution_count": 25,
   "metadata": {},
   "outputs": [],
   "source": [
    "import re \n",
    "import pandas as pd \n",
    "pattern = re.findall(r'214451[A-Z]?\\s+\\w+[\\/!#&$@ \\*~]*\\w*\\s*\\w*[\\/!#&$@ \\*~^]*\\w*\\s*[\\/!#&$@ \\*~^]*\\w*\\s*[\\/!#&$@ \\*~^]*\\w*\\s*[\\/!#&$@ \\*~^]*\\w*\\s*[\\/!#&$@ \\*~^]*\\w*\\s*[\\+]*\\w*\\s*\\+*\\w*\\s*\\+*\\w*\\s*\\w*\\+*\\s*\\w*\\s*\\+*\\w*\\s*',text)\n",
    "d = {'subject':[],'OE':[],'TH':[],'OE_TH':[],'TW':[],'PR':[],'OR':[],'TOT':[],'CRD':[],'GRD':[],'PTS1':[],'PTS2':[]}\n",
    "\n",
    "for i in pattern:\n",
    "    temp = i.split()\n",
    "    # print(len(temp))\n",
    "    d['subject'].append(temp[0])\n",
    "    d['OE'].append(temp[1])\n",
    "    d['TH'].append(temp[2])\n",
    "    d['OE_TH'].append(temp[3])\n",
    "    d['TW'].append(temp[4])\n",
    "    d['PR'].append(temp[5])\n",
    "    d['OR'].append(temp[6])\n",
    "    d['TOT'].append(temp[7])\n",
    "    d['CRD'].append(temp[8])\n",
    "    d['GRD'].append(temp[9])\n",
    "    d['PTS1'].append(temp[10])\n",
    "    d['PTS2'].append(temp[11])\n",
    "\n",
    "data = pd.DataFrame(d)\n",
    "data = data.replace('nnnnnnn','--')\n",
    "data.to_csv('subject_214451.csv',columns=data.columns)"
   ]
  },
  {
   "cell_type": "code",
   "execution_count": 26,
   "metadata": {},
   "outputs": [],
   "source": [
    "import re \n",
    "import pandas as pd \n",
    "pattern = re.findall(r'214452[A-Z]?\\s+\\w+[\\/!#&$@ \\*~]*\\w*\\s*\\w*[\\/!#&$@ \\*~^]*\\w*\\s*[\\/!#&$@ \\*~^]*\\w*\\s*[\\/!#&$@ \\*~^]*\\w*\\s*[\\/!#&$@ \\*~^]*\\w*\\s*[\\/!#&$@ \\*~^]*\\w*\\s*[\\+]*\\w*\\s*\\+*\\w*\\s*\\+*\\w*\\s*\\w*\\+*\\s*\\w*\\s*\\+*\\w*\\s*',text)\n",
    "d = {'subject':[],'OE':[],'TH':[],'OE_TH':[],'TW':[],'PR':[],'OR':[],'TOT':[],'CRD':[],'GRD':[],'PTS1':[],'PTS2':[]}\n",
    "\n",
    "for i in pattern:\n",
    "    temp = i.split()\n",
    "    # print(len(temp))\n",
    "    d['subject'].append(temp[0])\n",
    "    d['OE'].append(temp[1])\n",
    "    d['TH'].append(temp[2])\n",
    "    d['OE_TH'].append(temp[3])\n",
    "    d['TW'].append(temp[4])\n",
    "    d['PR'].append(temp[5])\n",
    "    d['OR'].append(temp[6])\n",
    "    d['TOT'].append(temp[7])\n",
    "    d['CRD'].append(temp[8])\n",
    "    d['GRD'].append(temp[9])\n",
    "    d['PTS1'].append(temp[10])\n",
    "    d['PTS2'].append(temp[11])\n",
    "\n",
    "data = pd.DataFrame(d)\n",
    "data = data.replace('nnnnnnn','--')\n",
    "data.to_csv('subject_214452.csv',columns=data.columns)"
   ]
  },
  {
   "cell_type": "code",
   "execution_count": 27,
   "metadata": {},
   "outputs": [],
   "source": [
    "import re \n",
    "import pandas as pd \n",
    "pattern = re.findall(r'214453[A-Z]?\\s+\\w+[\\/!#&$@ \\*~]*\\w*\\s*\\w*[\\/!#&$@ \\*~^]*\\w*\\s*[\\/!#&$@ \\*~^]*\\w*\\s*[\\/!#&$@ \\*~^]*\\w*\\s*[\\/!#&$@ \\*~^]*\\w*\\s*[\\/!#&$@ \\*~^]*\\w*\\s*[\\+]*\\w*\\s*\\+*\\w*\\s*\\+*\\w*\\s*\\w*\\+*\\s*\\w*\\s*\\+*\\w*\\s*',text)\n",
    "d = {'subject':[],'OE':[],'TH':[],'OE_TH':[],'TW':[],'PR':[],'OR':[],'TOT':[],'CRD':[],'GRD':[],'PTS1':[],'PTS2':[]}\n",
    "\n",
    "for i in pattern:\n",
    "    temp = i.split()\n",
    "    # print(len(temp))\n",
    "    d['subject'].append(temp[0])\n",
    "    d['OE'].append(temp[1])\n",
    "    d['TH'].append(temp[2])\n",
    "    d['OE_TH'].append(temp[3])\n",
    "    d['TW'].append(temp[4])\n",
    "    d['PR'].append(temp[5])\n",
    "    d['OR'].append(temp[6])\n",
    "    d['TOT'].append(temp[7])\n",
    "    d['CRD'].append(temp[8])\n",
    "    d['GRD'].append(temp[9])\n",
    "    d['PTS1'].append(temp[10])\n",
    "    d['PTS2'].append(temp[11])\n",
    "\n",
    "data = pd.DataFrame(d)\n",
    "data = data.replace('nnnnnnn','--')\n",
    "data.to_csv('subject_214453.csv',columns=data.columns)"
   ]
  },
  {
   "cell_type": "code",
   "execution_count": 28,
   "metadata": {},
   "outputs": [],
   "source": [
    "import re \n",
    "import pandas as pd \n",
    "pattern = re.findall(r'214454[A-Z]?\\s+\\w+[\\/!#&$@ \\*~]*\\w*\\s*\\w*[\\/!#&$@ \\*~^]*\\w*\\s*[\\/!#&$@ \\*~^]*\\w*\\s*[\\/!#&$@ \\*~^]*\\w*\\s*[\\/!#&$@ \\*~^]*\\w*\\s*[\\/!#&$@ \\*~^]*\\w*\\s*[\\+]*\\w*\\s*\\+*\\w*\\s*\\+*\\w*\\s*\\w*\\+*\\s*\\w*\\s*\\+*\\w*\\s*',text)\n",
    "d = {'subject':[],'OE':[],'TH':[],'OE_TH':[],'TW':[],'PR':[],'OR':[],'TOT':[],'CRD':[],'GRD':[],'PTS1':[],'PTS2':[]}\n",
    "\n",
    "for i in pattern:\n",
    "    temp = i.split()\n",
    "    # print(len(temp))\n",
    "    d['subject'].append(temp[0])\n",
    "    d['OE'].append(temp[1])\n",
    "    d['TH'].append(temp[2])\n",
    "    d['OE_TH'].append(temp[3])\n",
    "    d['TW'].append(temp[4])\n",
    "    d['PR'].append(temp[5])\n",
    "    d['OR'].append(temp[6])\n",
    "    d['TOT'].append(temp[7])\n",
    "    d['CRD'].append(temp[8])\n",
    "    d['GRD'].append(temp[9])\n",
    "    d['PTS1'].append(temp[10])\n",
    "    d['PTS2'].append(temp[11])\n",
    "\n",
    "data = pd.DataFrame(d)\n",
    "data = data.replace('nnnnnnn','--')\n",
    "data.to_csv('subject_214454.csv',columns=data.columns)"
   ]
  },
  {
   "cell_type": "code",
   "execution_count": 29,
   "metadata": {},
   "outputs": [],
   "source": [
    "import re \n",
    "import pandas as pd \n",
    "pattern = re.findall(r'214455[A-Z]?\\s+\\w+[\\/!#&$@ \\*~]*\\w*\\s*\\w*[\\/!#&$@ \\*~^]*\\w*\\s*[\\/!#&$@ \\*~^]*\\w*\\s*[\\/!#&$@ \\*~^]*\\w*\\s*[\\/!#&$@ \\*~^]*\\w*\\s*[\\/!#&$@ \\*~^]*\\w*\\s*[\\+]*\\w*\\s*\\+*\\w*\\s*\\+*\\w*\\s*\\w*\\+*\\s*\\w*\\s*\\+*\\w*\\s*',text)\n",
    "d = {'subject':[],'OE':[],'TH':[],'OE_TH':[],'TW':[],'PR':[],'OR':[],'TOT':[],'CRD':[],'GRD':[],'PTS1':[],'PTS2':[]}\n",
    "\n",
    "for i in pattern:\n",
    "    temp = i.split()\n",
    "    # print(len(temp))\n",
    "    d['subject'].append(temp[0])\n",
    "    d['OE'].append(temp[1])\n",
    "    d['TH'].append(temp[2])\n",
    "    d['OE_TH'].append(temp[3])\n",
    "    d['TW'].append(temp[4])\n",
    "    d['PR'].append(temp[5])\n",
    "    d['OR'].append(temp[6])\n",
    "    d['TOT'].append(temp[7])\n",
    "    d['CRD'].append(temp[8])\n",
    "    d['GRD'].append(temp[9])\n",
    "    d['PTS1'].append(temp[10])\n",
    "    d['PTS2'].append(temp[11])\n",
    "\n",
    "data = pd.DataFrame(d)\n",
    "data = data.replace('nnnnnnn','--')\n",
    "data.to_csv('subject_214455.csv',columns=data.columns)"
   ]
  },
  {
   "cell_type": "code",
   "execution_count": 30,
   "metadata": {},
   "outputs": [],
   "source": [
    "import re \n",
    "import pandas as pd \n",
    "pattern = re.findall(r'214456[A-Z]?\\s+\\w+[\\/!#&$@ \\*~]*\\w*\\s*\\w*[\\/!#&$@ \\*~^]*\\w*\\s*[\\/!#&$@ \\*~^]*\\w*\\s*[\\/!#&$@ \\*~^]*\\w*\\s*[\\/!#&$@ \\*~^]*\\w*\\s*[\\/!#&$@ \\*~^]*\\w*\\s*[\\+]*\\w*\\s*\\+*\\w*\\s*\\+*\\w*\\s*\\w*\\+*\\s*\\w*\\s*\\+*\\w*\\s*',text)\n",
    "d = {'subject':[],'OE':[],'TH':[],'OE_TH':[],'TW':[],'PR':[],'OR':[],'TOT':[],'CRD':[],'GRD':[],'PTS1':[],'PTS2':[]}\n",
    "\n",
    "for i in pattern:\n",
    "    temp = i.split()\n",
    "    # print(len(temp))\n",
    "    d['subject'].append(temp[0])\n",
    "    d['OE'].append(temp[1])\n",
    "    d['TH'].append(temp[2])\n",
    "    d['OE_TH'].append(temp[3])\n",
    "    d['TW'].append(temp[4])\n",
    "    d['PR'].append(temp[5])\n",
    "    d['OR'].append(temp[6])\n",
    "    d['TOT'].append(temp[7])\n",
    "    d['CRD'].append(temp[8])\n",
    "    d['GRD'].append(temp[9])\n",
    "    d['PTS1'].append(temp[10])\n",
    "    d['PTS2'].append(temp[11])\n",
    "\n",
    "data = pd.DataFrame(d)\n",
    "data = data.replace('nnnnnnn','--')\n",
    "data.to_csv('subject_214456.csv',columns=data.columns)"
   ]
  },
  {
   "cell_type": "code",
   "execution_count": 14,
   "metadata": {},
   "outputs": [
    {
     "ename": "IndexError",
     "evalue": "list index out of range",
     "output_type": "error",
     "traceback": [
      "\u001b[1;31m---------------------------------------------------------------------------\u001b[0m",
      "\u001b[1;31mIndexError\u001b[0m                                Traceback (most recent call last)",
      "Cell \u001b[1;32mIn [14], line 18\u001b[0m\n\u001b[0;32m     16\u001b[0m d[\u001b[38;5;124m'\u001b[39m\u001b[38;5;124mOR\u001b[39m\u001b[38;5;124m'\u001b[39m]\u001b[38;5;241m.\u001b[39mappend(temp[\u001b[38;5;241m6\u001b[39m])\n\u001b[0;32m     17\u001b[0m d[\u001b[38;5;124m'\u001b[39m\u001b[38;5;124mTOT\u001b[39m\u001b[38;5;124m'\u001b[39m]\u001b[38;5;241m.\u001b[39mappend(temp[\u001b[38;5;241m7\u001b[39m])\n\u001b[1;32m---> 18\u001b[0m d[\u001b[38;5;124m'\u001b[39m\u001b[38;5;124mCRD\u001b[39m\u001b[38;5;124m'\u001b[39m]\u001b[38;5;241m.\u001b[39mappend(temp[\u001b[38;5;241m8\u001b[39m])\n\u001b[0;32m     19\u001b[0m d[\u001b[38;5;124m'\u001b[39m\u001b[38;5;124mGRD\u001b[39m\u001b[38;5;124m'\u001b[39m]\u001b[38;5;241m.\u001b[39mappend(temp[\u001b[38;5;241m9\u001b[39m])\n\u001b[0;32m     20\u001b[0m d[\u001b[38;5;124m'\u001b[39m\u001b[38;5;124mPTS1\u001b[39m\u001b[38;5;124m'\u001b[39m]\u001b[38;5;241m.\u001b[39mappend(temp[\u001b[38;5;241m10\u001b[39m])\n",
      "\u001b[1;31mIndexError\u001b[0m: list index out of range"
     ]
    }
   ],
   "source": [
    "import re \n",
    "import pandas as pd \n",
    "subject_code = input()\n",
    "pattern = re.findall(fr'{subject_code}[A-Z]?\\s+\\w+[\\/!#&$@ \\*~]*\\w*\\s*\\w*[\\/!#&$@ \\*~^]*\\w*\\s*[\\/!#&$@ \\*~^]*\\w*\\s*[\\/!#&$@ \\*~^]*\\w*\\s*[\\/!#&$@ \\*~^]*\\w*\\s*[\\/!#&$@ \\*~^]*\\w*\\s*[\\+]*\\w*\\s*\\+*\\w*\\s*\\+*\\w*\\s*\\w*\\+*\\s*\\w*\\s*\\+*\\w*\\s*',text)\n",
    "d = {'subject':[],'OE':[],'TH':[],'OE_TH':[],'TW':[],'PR':[],'OR':[],'TOT':[],'CRD':[],'GRD':[],'PTS1':[],'PTS2':[]}\n",
    "\n",
    "for i in pattern:\n",
    "    temp = i.split()\n",
    "    # print(len(temp))\n",
    "    d['subject'].append(temp[0])\n",
    "    d['OE'].append(temp[1])\n",
    "    d['TH'].append(temp[2])\n",
    "    d['OE_TH'].append(temp[3])\n",
    "    d['TW'].append(temp[4])\n",
    "    d['PR'].append(temp[5])\n",
    "    d['OR'].append(temp[6])\n",
    "    d['TOT'].append(temp[7])\n",
    "    d['CRD'].append(temp[8])\n",
    "    d['GRD'].append(temp[9])\n",
    "    d['PTS1'].append(temp[10])\n",
    "    d['PTS2'].append(temp[11])\n",
    "\n",
    "data = pd.DataFrame(d)\n",
    "data = data.replace('nnnnnnn','--')\n",
    "data.to_csv(subject_code+'.csv',columns=data.columns)"
   ]
  },
  {
   "cell_type": "code",
   "execution_count": null,
   "metadata": {},
   "outputs": [],
   "source": []
  },
  {
   "cell_type": "code",
   "execution_count": null,
   "metadata": {},
   "outputs": [],
   "source": []
  },
  {
   "cell_type": "markdown",
   "metadata": {},
   "source": [
    "#### seat_no + student name + mother name + prn"
   ]
  },
  {
   "cell_type": "code",
   "execution_count": 156,
   "metadata": {},
   "outputs": [],
   "source": [
    "import pandas as pd\n",
    "pattern = re.findall(r'[ST]\\w{9}\\s*\\w*\\s*\\w*\\s*\\w*\\s*\\w*\\w*\\s*\\w*\\s*\\w*\\s*\\w*\\s*',text)\n",
    "# print(len(pattern))\n",
    "d = {'seat_no':[],'name':[],'mother_name':[],'PRN_NO':[]}\n",
    "#0-seat no 1-2-3-name 4-mother_name 5-prn\n",
    "for i in pattern:\n",
    "    temp = i.split()\n",
    "    temp.pop()\n",
    "    temp.pop()\n",
    "    if len(temp)==5:\n",
    "        temp.append('Nan')\n",
    "    d['seat_no'].append(temp[0])\n",
    "    d['name'].append(temp[1]+' '+temp[2]+' '+temp[3])\n",
    "    d['mother_name'].append(temp[4])\n",
    "    d['PRN_NO'].append(temp[5])\n",
    "    datafrmae = pd.DataFrame(d)\n",
    "    datafrmae.to_csv('seat_no_name_monther_name.csv',header=datafrmae.columns)"
   ]
  },
  {
   "cell_type": "markdown",
   "metadata": {},
   "source": [
    "## extracting student marks"
   ]
  },
  {
   "cell_type": "code",
   "execution_count": 101,
   "metadata": {},
   "outputs": [],
   "source": [
    "p = re.findall(r'[2]\\w{5}[A-Z]?\\s+\\w+[\\/|\\s+][\\w+| ]\\w+\\s+[\\w|\\s+]\\w+[\\/| $]\\w* *\\w*\\/*\\w* *\\w* *\\/*\\w* *\\/*\\w* *\\/*\\w* *\\/*\\w* *\\/*[\\w| |\\+][\\w| |\\+]\\w* *\\/*\\w* *\\/*\\w* *\\/*\\w* *\\/*\\w*',text)\n",
    "d = {'subject':[],'OE':[],'TH':[],'OE_TH':[],'TW':[],'PR':[],'OR':[],'TOT':[],'CRD':[],'GRD':[],'PTS1':[],'PTS2':[]}\n",
    "for i in p:\n",
    "    temp = i.split()\n",
    "    if len(temp)!=12:\n",
    "        while(len(temp)!=12):\n",
    "            temp.append('Nan')\n",
    "\n",
    "    d['subject'].append(temp[0])\n",
    "    d['OE'].append(temp[1])\n",
    "    d['TH'].append(temp[2])\n",
    "    d['OE_TH'].append(temp[3])\n",
    "    d['TW'].append(temp[4])\n",
    "    d['PR'].append(temp[5])\n",
    "    d['OR'].append(temp[6])\n",
    "    d['TOT'].append(temp[7])\n",
    "    d['CRD'].append(temp[8])\n",
    "    d['GRD'].append(temp[9])\n",
    "    d['PTS1'].append(temp[10])\n",
    "    d['PTS2'].append(temp[11])\n",
    "\n",
    "data = pd.DataFrame(d)\n",
    "data = data.replace('nnnnnnn','--')\n",
    "data.to_csv('student_marks.csv',columns=data.columns)\n"
   ]
  },
  {
   "cell_type": "markdown",
   "metadata": {},
   "source": [
    "## split the text"
   ]
  },
  {
   "cell_type": "code",
   "execution_count": 13,
   "metadata": {},
   "outputs": [],
   "source": [
    "pattern = re.findall(r'2\\w{5,6}[A-Z]?\\s+\\w+[\\/!#&$@ \\*~]*\\w*\\s*\\w*[\\/!#&$@ \\*~^]*\\w*\\s*[\\/!#&$@ \\*~^]*\\w*\\s*[\\/!#&$@ \\*~^]*\\w*\\s*[\\/!#&$@ \\*~^]*\\w*\\s*[\\/!#&$@ \\*~^]*\\w*\\s*[\\+]*\\w*\\s*\\+*\\w*\\s*\\+*\\w*\\s*\\w*\\+*\\s*\\w*\\s*\\+*\\w*\\s*',text)"
   ]
  },
  {
   "cell_type": "code",
   "execution_count": 151,
   "metadata": {},
   "outputs": [
    {
     "data": {
      "text/plain": [
       "numpy.ndarray"
      ]
     },
     "execution_count": 151,
     "metadata": {},
     "output_type": "execute_result"
    }
   ],
   "source": [
    "t = {'214441':[],'214442':[],'214443':[],'214444':[],\n",
    "      '214445':[],'214446':[],'214447':[],'214448':[],\n",
    "      '214449':[],'202054A':[],'207003':[],'214450':[],\n",
    "      '214451':[],'214452':[],'214453':[],'214454':[],\n",
    "      '214455':[],'214456':[],'210258D':[],'214450C':[],\n",
    "      '214450B':[],'214459A':[],'214459B':[],'214459C':[],\n",
    "      '214459D':[],'210258A':[],'210258C':[],'210250':[],\n",
    "      '214458':[]\n",
    "}\n",
    "da = pd.read_csv('student_marks.csv')\n",
    "da.drop('Unnamed: 0',axis=1,inplace=True)\n",
    "d = da.iloc[:,:].values\n",
    "# for i in d:\n",
    "#     i = list(i)\n",
    "#     key = i[0]\n",
    "#     i.pop(0)\n",
    "#     value = i \n",
    "#     t[key].append(value)\n",
    "\n",
    "# d = list(d)\n",
    "# type(d[0])"
   ]
  },
  {
   "cell_type": "code",
   "execution_count": 161,
   "metadata": {},
   "outputs": [],
   "source": [
    "# a = pd.read_csv('student_marks.csv')\n",
    "# l1 = [1,2,3]\n",
    "# l2 = ['a','b','c']\n",
    "\n",
    "# for i in zip(l1,l2):\n",
    "#     print(i)\n",
    "final_dict = {key : None for key in PRN_NO}\n",
    "\n",
    "# for i in zip(PRN_NO,list(d)):\n",
    "#     try:\n",
    "#         final_dict[i[0]].append(list(i[1]))\n",
    "#     except KeyError:\n",
    "#         pass \n"
   ]
  },
  {
   "cell_type": "code",
   "execution_count": 1,
   "metadata": {},
   "outputs": [],
   "source": [
    "# final_dict"
   ]
  },
  {
   "cell_type": "code",
   "execution_count": null,
   "metadata": {},
   "outputs": [],
   "source": [
    "#FINDING PRN NUMBER\n",
    "pattern = re.compile(r'\\d{7}[A-Z]')\n",
    "\n",
    "#FINDING SEAT No in \n",
    "pattern = re.compile(r'\\w{10}')\n",
    "\n",
    "#MATCHING SCORE CARD\n",
    "pattern = re.compile(r'\\w{2} \\w{2} \\[\\w{2}\\+\\w{2}\\] \\w{2} \\w{2} \\w{2} \\w{3}\\% \\w{3} \\w{3} \\w{3} \\w{3}')\n",
    "\n",
    "#MATCHING SEAT NO + NAME + MOTHER NAME + PRN \n",
    "pattern = re.compile(r'\\w{10} \\w[A-Z]+ \\w[A-Z]+ \\w[A-Z]+ \\d{8}[A-Z] [A-Z]{4}')\n",
    "\n",
    "\n",
    "#matching student score\n",
    "\n",
    "pattern = re.compile(r'[2]\\d{5} \\* \\d{3}\\/\\d{3} \\d{3}\\/\\d{3} \\d{3}\\/\\d{3} +\\w{2} \\d{2} \\w{1} \\w{2} \\w{2}')\n",
    "\n",
    "#MATCHIN STUDENT SCORE \n",
    "pattern = re.compile(r'[2]\\w{5}[A-Z]?\\s+\\w+(\\/| )\\w+(\\/| )\\w+(\\/| )\\w+(\\/| )\\w+(\\/| )\\w+(\\/| )\\w+ \\w+ \\w+ \\w+(\\+| )(\\w+| )\\s?\\w?(\\s?|\\w?)\\w+ ?\\w?\\w?')\n",
    "\n",
    "#total credit score\n",
    "pattern = re.compile(r'[T]\\w+ \\w+ \\w+\\s+\\d{2}')\n",
    "\n",
    "#sgpa\n",
    "pattern = re.compile(r'SGPA\\s+.{4}')\n",
    "\n",
    "#find score\n",
    "s = re.compile(r'2\\w{5,6}[A-Z]?\\s+\\w+[\\/!#&$@ \\*~]*\\w*\\s*\\w*[\\/!#&$@ \\*~^]*\\w*\\s*[\\/!#&$@ \\*~^]*\\w*\\s*[\\/!#&$@ \\*~^]*\\w*\\s*[\\/!#&$@ \\*~^]*\\w*\\s*[\\/!#&$@ \\*~^]*\\w*\\s*[\\+]*\\w*\\s*\\+*\\w*\\s*\\+*\\w*\\s*\\w*\\+*\\s*\\w*\\s*\\+*\\w*\\s*')"
   ]
  },
  {
   "cell_type": "code",
   "execution_count": 43,
   "metadata": {},
   "outputs": [],
   "source": [
    "import re \n",
    "import pandas as pd \n",
    "subject_code = input()\n",
    "pattern = re.findall(fr'{subject_code}[A-Z]?\\s+\\w+[\\/!#&$@ \\*~]*\\w*\\s*\\w*[\\/!#&$@ \\*~^]*\\w*\\s*[\\/!#&$@ \\*~^]*\\w*\\s*[\\/!#&$@ \\*~^]*\\w*\\s*[\\/!#&$@ \\*~^]*\\w*\\s*[\\/!#&$@ \\*~^]*\\w*\\s*[\\+]*\\w*\\s*\\+*\\w*\\s*\\+*\\w*\\s*\\w*\\+*\\s*\\w*\\s*\\+*\\w*\\s',text)\n",
    "d = {'subject':[],'OE':[],'TH':[],'OE_TH':[],'TW':[],'PR':[],'OR':[],'TOT':[],'CRD':[],'GRD':[],'PTS1':[],'PTS2':[]}\n",
    "for i in pattern:\n",
    "    temp = i.split()\n",
    "    # print(len(temp))\n",
    "    d['subject'].append(temp[0])\n",
    "    d['OE'].append(temp[1])\n",
    "    d['TH'].append(temp[2])\n",
    "    d['OE_TH'].append(temp[3])\n",
    "    d['TW'].append(temp[4])\n",
    "    d['PR'].append(temp[5])\n",
    "    d['OR'].append(temp[6])\n",
    "    d['TOT'].append(temp[7])\n",
    "    d['CRD'].append(temp[8])\n",
    "    d['GRD'].append(temp[9])\n",
    "    d['PTS1'].append(temp[10])\n",
    "    d['PTS2'].append(temp[11])\n",
    "\n",
    "data = pd.DataFrame(d)\n",
    "data = data.replace('nnnnnnn','--')\n",
    "data.to_csv(subject_code+'.csv',columns=data.columns,index=False)"
   ]
  },
  {
   "cell_type": "code",
   "execution_count": 44,
   "metadata": {},
   "outputs": [],
   "source": [
    "dd = pd.read_csv('final_students.csv')"
   ]
  },
  {
   "cell_type": "code",
   "execution_count": 45,
   "metadata": {},
   "outputs": [
    {
     "data": {
      "text/html": [
       "<div>\n",
       "<style scoped>\n",
       "    .dataframe tbody tr th:only-of-type {\n",
       "        vertical-align: middle;\n",
       "    }\n",
       "\n",
       "    .dataframe tbody tr th {\n",
       "        vertical-align: top;\n",
       "    }\n",
       "\n",
       "    .dataframe thead th {\n",
       "        text-align: right;\n",
       "    }\n",
       "</style>\n",
       "<table border=\"1\" class=\"dataframe\">\n",
       "  <thead>\n",
       "    <tr style=\"text-align: right;\">\n",
       "      <th></th>\n",
       "      <th>Unnamed: 0</th>\n",
       "      <th>seat_no</th>\n",
       "      <th>name</th>\n",
       "      <th>mother_name</th>\n",
       "      <th>PRN_NO</th>\n",
       "      <th>subject</th>\n",
       "      <th>OE</th>\n",
       "      <th>TH</th>\n",
       "      <th>OE_TH</th>\n",
       "      <th>TOT</th>\n",
       "      <th>...</th>\n",
       "      <th>PTS1.12</th>\n",
       "      <th>PTS2.12</th>\n",
       "      <th>subject.13</th>\n",
       "      <th>TW.6</th>\n",
       "      <th>PR.5</th>\n",
       "      <th>TOT.13</th>\n",
       "      <th>CRD.13</th>\n",
       "      <th>GRD.13</th>\n",
       "      <th>PTS1.13</th>\n",
       "      <th>PTS2.13</th>\n",
       "    </tr>\n",
       "  </thead>\n",
       "  <tbody>\n",
       "    <tr>\n",
       "      <th>0</th>\n",
       "      <td>0</td>\n",
       "      <td>S150088539</td>\n",
       "      <td>AVHAD KALPESH BALIRAM</td>\n",
       "      <td>RANJANABAI</td>\n",
       "      <td>71842239C</td>\n",
       "      <td>214441</td>\n",
       "      <td>030/050</td>\n",
       "      <td>024/050</td>\n",
       "      <td>054/100</td>\n",
       "      <td>54</td>\n",
       "      <td>...</td>\n",
       "      <td>9</td>\n",
       "      <td>18</td>\n",
       "      <td>214456</td>\n",
       "      <td>023/025</td>\n",
       "      <td>042/050</td>\n",
       "      <td>86</td>\n",
       "      <td>1</td>\n",
       "      <td>O</td>\n",
       "      <td>10</td>\n",
       "      <td>10</td>\n",
       "    </tr>\n",
       "    <tr>\n",
       "      <th>1</th>\n",
       "      <td>1</td>\n",
       "      <td>S150088540</td>\n",
       "      <td>AWACHAR SHOBHANA BHAURAO</td>\n",
       "      <td>SUNITATAI</td>\n",
       "      <td>71842242C</td>\n",
       "      <td>214441</td>\n",
       "      <td>013/050</td>\n",
       "      <td>011/050</td>\n",
       "      <td>024/100</td>\n",
       "      <td>FF</td>\n",
       "      <td>...</td>\n",
       "      <td>8</td>\n",
       "      <td>16</td>\n",
       "      <td>214456</td>\n",
       "      <td>021/025</td>\n",
       "      <td>026/050</td>\n",
       "      <td>62</td>\n",
       "      <td>1</td>\n",
       "      <td>A</td>\n",
       "      <td>8</td>\n",
       "      <td>8</td>\n",
       "    </tr>\n",
       "    <tr>\n",
       "      <th>2</th>\n",
       "      <td>2</td>\n",
       "      <td>S150088541</td>\n",
       "      <td>AWALE PRAJAKTA SUNIL</td>\n",
       "      <td>KUSUM</td>\n",
       "      <td>71842243M</td>\n",
       "      <td>214441</td>\n",
       "      <td>021/050</td>\n",
       "      <td>026/050</td>\n",
       "      <td>047/100</td>\n",
       "      <td>47</td>\n",
       "      <td>...</td>\n",
       "      <td>9</td>\n",
       "      <td>18</td>\n",
       "      <td>214456</td>\n",
       "      <td>023/025</td>\n",
       "      <td>045/050</td>\n",
       "      <td>90</td>\n",
       "      <td>1</td>\n",
       "      <td>O</td>\n",
       "      <td>10</td>\n",
       "      <td>10</td>\n",
       "    </tr>\n",
       "    <tr>\n",
       "      <th>3</th>\n",
       "      <td>3</td>\n",
       "      <td>S150088542</td>\n",
       "      <td>BHOSALE RUSHIKESH VIJAY</td>\n",
       "      <td>HIRABAI</td>\n",
       "      <td>71842298J</td>\n",
       "      <td>214441</td>\n",
       "      <td>022/050</td>\n",
       "      <td>035/050</td>\n",
       "      <td>057/100</td>\n",
       "      <td>57</td>\n",
       "      <td>...</td>\n",
       "      <td>10</td>\n",
       "      <td>20</td>\n",
       "      <td>214456</td>\n",
       "      <td>023/025</td>\n",
       "      <td>041/050</td>\n",
       "      <td>85</td>\n",
       "      <td>1</td>\n",
       "      <td>O</td>\n",
       "      <td>10</td>\n",
       "      <td>10</td>\n",
       "    </tr>\n",
       "    <tr>\n",
       "      <th>4</th>\n",
       "      <td>4</td>\n",
       "      <td>S150088543</td>\n",
       "      <td>BHOSALE VISHWAJEET VILAS</td>\n",
       "      <td>SUNITA</td>\n",
       "      <td>71842300D</td>\n",
       "      <td>214441</td>\n",
       "      <td>016/050</td>\n",
       "      <td>24$/050</td>\n",
       "      <td>040/100</td>\n",
       "      <td>40</td>\n",
       "      <td>...</td>\n",
       "      <td>10</td>\n",
       "      <td>20</td>\n",
       "      <td>214456</td>\n",
       "      <td>023/025</td>\n",
       "      <td>041/050</td>\n",
       "      <td>85</td>\n",
       "      <td>1</td>\n",
       "      <td>O</td>\n",
       "      <td>10</td>\n",
       "      <td>10</td>\n",
       "    </tr>\n",
       "  </tbody>\n",
       "</table>\n",
       "<p>5 rows × 123 columns</p>\n",
       "</div>"
      ],
      "text/plain": [
       "   Unnamed: 0     seat_no                      name mother_name     PRN_NO  \\\n",
       "0           0  S150088539     AVHAD KALPESH BALIRAM  RANJANABAI  71842239C   \n",
       "1           1  S150088540  AWACHAR SHOBHANA BHAURAO   SUNITATAI  71842242C   \n",
       "2           2  S150088541      AWALE PRAJAKTA SUNIL       KUSUM  71842243M   \n",
       "3           3  S150088542   BHOSALE RUSHIKESH VIJAY     HIRABAI  71842298J   \n",
       "4           4  S150088543  BHOSALE VISHWAJEET VILAS      SUNITA  71842300D   \n",
       "\n",
       "   subject       OE       TH    OE_TH TOT  ...  PTS1.12 PTS2.12  subject.13  \\\n",
       "0   214441  030/050  024/050  054/100  54  ...        9      18      214456   \n",
       "1   214441  013/050  011/050  024/100  FF  ...        8      16      214456   \n",
       "2   214441  021/050  026/050  047/100  47  ...        9      18      214456   \n",
       "3   214441  022/050  035/050  057/100  57  ...       10      20      214456   \n",
       "4   214441  016/050  24$/050  040/100  40  ...       10      20      214456   \n",
       "\n",
       "      TW.6     PR.5 TOT.13 CRD.13 GRD.13 PTS1.13  PTS2.13  \n",
       "0  023/025  042/050     86      1      O      10       10  \n",
       "1  021/025  026/050     62      1      A       8        8  \n",
       "2  023/025  045/050     90      1      O      10       10  \n",
       "3  023/025  041/050     85      1      O      10       10  \n",
       "4  023/025  041/050     85      1      O      10       10  \n",
       "\n",
       "[5 rows x 123 columns]"
      ]
     },
     "execution_count": 45,
     "metadata": {},
     "output_type": "execute_result"
    }
   ],
   "source": [
    "dd.head()"
   ]
  },
  {
   "cell_type": "code",
   "execution_count": null,
   "metadata": {},
   "outputs": [],
   "source": []
  }
 ],
 "metadata": {
  "kernelspec": {
   "display_name": "Python 3.8.2 ('env': venv)",
   "language": "python",
   "name": "python3"
  },
  "language_info": {
   "codemirror_mode": {
    "name": "ipython",
    "version": 3
   },
   "file_extension": ".py",
   "mimetype": "text/x-python",
   "name": "python",
   "nbconvert_exporter": "python",
   "pygments_lexer": "ipython3",
   "version": "3.8.2"
  },
  "orig_nbformat": 4,
  "vscode": {
   "interpreter": {
    "hash": "5cd46a275f8822b6fef7c1f085dcd5568910965774c2e3290ec37691aed9739e"
   }
  }
 },
 "nbformat": 4,
 "nbformat_minor": 2
}
