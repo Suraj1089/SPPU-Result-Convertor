{
 "cells": [
  {
   "cell_type": "code",
   "execution_count": 1,
   "metadata": {},
   "outputs": [],
   "source": [
    "# from PyPDF2 import PdfReader"
   ]
  },
  {
   "cell_type": "code",
   "execution_count": 2,
   "metadata": {},
   "outputs": [],
   "source": [
    "import ast "
   ]
  },
  {
   "cell_type": "code",
   "execution_count": 3,
   "metadata": {},
   "outputs": [
    {
     "data": {
      "text/plain": [
       "[{}, {}, {}]"
      ]
     },
     "execution_count": 3,
     "metadata": {},
     "output_type": "execute_result"
    }
   ],
   "source": [
    "ast.literal_eval('[{},{},{}]')"
   ]
  },
  {
   "cell_type": "code",
   "execution_count": 18,
   "metadata": {},
   "outputs": [
    {
     "data": {
      "text/plain": [
       "8924"
      ]
     },
     "execution_count": 18,
     "metadata": {},
     "output_type": "execute_result"
    }
   ],
   "source": [
    "s = '''\n",
    "....................................................................................................\n",
    "SECOND YEAR SGPA   nannan, TOTAL CREDITS EARNED   42\n",
    " \n",
    ".................................................................................................... \n",
    "                    \n",
    "S150088548  GAVHANE SHUBHAM KANTILAL                SHOBHA                   71842457D DYPP\n",
    "                                                                                  Grd   Crd\n",
    "               OE       TH     [OE+TH]     TW       PR       OR    Tot% Crd  Grd  Pts   Pts\n",
    "             ~~~~~~~  ~~~~~~~  ~~~~~~~  ~~~~~~~  ~~~~~~~  ~~~~~~~  ~~~  ~~   ~~~  ~~    ~~\n",
    " SEM. 1\n",
    " \n",
    "   214441    018/050  023/050  041/100  nannannannannannannan  nannannannannannannan  nannannannannannannan  41   04   P    04    16\n",
    "   214442    016!/050  028/050  044&/100  nannannannannannannan  nannannannannannannan  nannannannannannannan  44   04   P    04    16\n",
    "   214443    030/050  021#/050  051/100  nannannannannannannan  nannannannannannannan  nannannannannannannan  51   04   B    06    24\n",
    "   214444    022!/050  029/050  051/100  nannannannannannannan  nannannannannannannan  nannannannannannannan  51   04   B    06    24\n",
    "   214445    034/050  031/050  065/100  nannannannannannannan  nannannannannannannan  nannannannannannannan  65   04   A    08    32\n",
    "   214446    nannannannannannannan  nannannannannannannan  nannannannannannannan  022/025  022/050  nannannannannannannan  58   01   B+   07    07\n",
    "   214447    nannannannannannannan  nannannannannannannan  nannannannannannannan  022/025  041/050  nannannannannannannan  84   02   O    10    20\n",
    "   214448    nannannannannannannan  nannannannannannannan  nannannannannannannan  021/025  036/050  nannannannannannannan  76   01   A+   09    09\n",
    "   214449    nannannannannannannan  nannannannannannannan  nannannannannannannan  020/025  nannannannannannannan  nannannannannannannan  80   01   O    10    10\n",
    "  202054A    nannannannannannannan  nannannannannannannan  nannannannannannannan       PP  nannannannannannannan  nannannannannannannan  PP   00   P    00    00\n",
    " \n",
    " SEM. 2\n",
    " \n",
    "   207003    026/050  021/050  047!/100  nannannannannannannan  nannannannannannannan  nannannannannannannan  47   04   C    05    20\n",
    "   207003    nannannannannannannan  nannannannannannannan  nannannannannannannan  023/025  nannannannannannannan  nannannannannannannan  92   01   O    10    10\n",
    "   214450    020/050  031/050  051/100  nannannannannannannan  nannannannannannannan  nannannannannannannan  51   03   B    06    18\n",
    "   214451    022/050  020/050  042/100  nannannannannannannan  nannannannannannannan  nannannannannannannan  42   04   P    04    16\n",
    "   214452    030/050  022/050  052/100  nannannannannannannan  nannannannannannannan  nannannannannannannan  52   04   B    06    24\n",
    "   214453    034/050  024/050  058/100  nannannannannannannan  nannannannannannannan  nannannannannannannan  58   04   B+   07    28\n",
    "   214454    nannannannannannannan  nannannannannannannan  nannannannannannannan  022/025  030/050  nannannannannannannan  69   02   A    08    16\n",
    "   214455    nannannannannannannan  nannannannannannannan  nannannannannannannan  022!/025  044/050  nannannannannannannan  88   02   O    10    20\n",
    "   214456    nannannannannannannan  nannannannannannannan  nannannannannannannan  021/025  040/050  nannannannannannannan  81   01   O    10    10\n",
    "  210258A    nannannannannannannan  nannannannannannannan  nannannannannannannan       PP  nannannannannannannan  nannannannannannannan  PP   00   P    00    00\n",
    " \n",
    " \n",
    "SECOND YEAR SGPA   6.4, TOTAL CREDITS EARNED   50\n",
    " \n",
    "....................................................................................................\n",
    " \n",
    "S150088549  JADHAV APARNA  KANTA                    SUNITA                   71842537F DYPP\n",
    "                                                                                  Grd   Crd\n",
    "               OE       TH     [OE+TH]     TW       PR       OR    Tot% Crd  Grd  Pts   Pts\n",
    "             ~~~~~~~  ~~~~~~~  ~~~~~~~  ~~~~~~~  ~~~~~~~  ~~~~~~~  ~~~  ~~   ~~~  ~~    ~~\n",
    " SEM. 1\n",
    " \n",
    "   214441    015/050  25$/050  040/100  nannannannannannannan  nannannannannannannan  nannannannannannannan  40   04   P    04    16\n",
    "   214442    028/050  026/050  054/100  nannannannannannannan  nannannannannannannan  nannannannannannannan  54   04   B    06    24\n",
    "   214443    030/050  030/050  060/100  nannannannannannannan  nannannannannannannan  nannannannannannannan  60   04   A    08    32\n",
    "   214444    016/050  037/050  053/100  nannannannannannannan  nannannannannannannan  nannannannannannannan  53   04   B    06    24\n",
    "   214445    036/050  034/050  070/100  nannannannannannannan  nannannannannannannan  nannannannannannannan  70   04   A+   09    36\n",
    "   214446    nannannannannannannan  nannannannannannannan  nannannannannannannan  022/025  026/050  nannannannannannannan  64   01   A    08    08\n",
    "   214447    nannannannannannannan  nannannannannannannan  nannannannannannannan  020/025  032/050  nannannannannannannan  69   02   A    08    16\n",
    "   214448    nannannannannannannan  nannannannannannannan  nannannannannannannan  021/025  040/050  nannannannannannannan  81   01   O    10    10\n",
    "   214449    nannannannannannannan  nannannannannannannan  nannannannannannannan  020/025  nannannannannannannan  nannannannannannannan  80   01   O    10    10\n",
    "  202054A    nannannannannannannan  nannannannannannannan  nannannannannannannan       PP  nannannannannannannan  nannannannannannannan  PP   00   P    00    00\n",
    " \n",
    " SEM. 2\n",
    " \n",
    "   207003    029/050  030/050  059/100  nannannannannannannan  nannannannannannannan  nannannannannannannan  59   04   B+   07    28\n",
    "   207003    nannannannannannannan  nannannannannannannan  nannannannannannannan  022/025  nannannannannannannan  nannannannannannannan  88   01   O    10    10\n",
    "   214450    027/050  030@/050  057/100  nannannannannannannan  nannannannannannannan  nannannannannannannan  57   03   B+   07    21\n",
    "   214451    025/050  022/050  047/100  nannannannannannannan  nannannannannannannan  nannannannannannannan  47   04   C    05    20\n",
    "   214452    032/050  032/050  064$/100  nannannannannannannan  nannannannannannannan  nannannannannannannan  64   04   A    08    32\n",
    "   214453    039$/050  029/050  068/100  nannannannannannannan  nannannannannannannan  nannannannannannannan  68   04   A    08    32\n",
    "   214454    nannannannannannannan  nannannannannannannan  nannannannannannannan  022/025  030/050  nannannannannannannan  69   02   A    08    16\n",
    "   214455    nannannannannannannan  nannannannannannannan  nannannannannannannan  022/025  034/050  nannannannannannannan  74   02   A+   09    18\n",
    "   214456    nannannannannannannan  nannannannannannannan  nannannannannannannan  022/025  040/050  nannannannannannannan  82   01   O    10    10\n",
    "  210258A    nannannannannannannan  nannannannannannannan  nannannannannannannan       PP  nannannannannannannan  nannannannannannannan  PP   00   P    00    00\n",
    " \n",
    " \n",
    "SECOND YEAR SGPA   7.26, TOTAL CREDITS EARNED   50\n",
    " \n",
    ".................................................................................................... \n",
    "                    \n",
    "S150088550  JADHAV SOMESH SANJAY                    UJWALA                   71842547C DYPP\n",
    "                                                                                  Grd   Crd\n",
    "               OE       TH     [OE+TH]     TW       PR       OR    Tot% Crd  Grd  Pts   Pts\n",
    "             ~~~~~~~  ~~~~~~~  ~~~~~~~  ~~~~~~~  ~~~~~~~  ~~~~~~~  ~~~  ~~   ~~~  ~~    ~~\n",
    " SEM. 1\n",
    " \n",
    "   214441    023/050  017/050  040/100  nannannannannannannan  nannannannannannannan  nannannannannannannan  FF   04   F    00    00\n",
    "   214442    023/050  022/050  045/100  nannannannannannannan  nannannannannannannan  nannannannannannannan  45   04   C    05    20\n",
    "   214443    018/050  011/050  029/100  nannannannannannannan  nannannannannannannan  nannannannannannannan  FF   04   F    00    00\n",
    "   214444    020/050  029/050  049/100  nannannannannannannan  nannannannannannannan  nannannannannannannan  49   04   C    05    20\n",
    "   214445    025/050  023/050  048/100  nannannannannannannan  nannannannannannannan  nannannannannannannan  48   04   C    05    20\n",
    "   214446    nannannannannannannan  nannannannannannannan  nannannannannannannan  017/025  023/050  nannannannannannannan  53   01   B    06    06\n",
    "   214447    nannannannannannannan  nannannannannannannan  nannannannannannannan  017/025  027/050  nannannannannannannan  58   02   B+   07    14\n",
    "   214448    nannannannannannannan  nannannannannannannan  nannannannannannannan  017/025  032/050  nannannannannannannan  65   01   A    08    08\n",
    "   214449    nannannannannannannan  nannannannannannannan  nannannannannannannan  016/025  nannannannannannannan  nannannannannannannan  64   01   A    08    08\n",
    "  202054A    nannannannannannannan  nannannannannannannan  nannannannannannannan       PP  nannannannannannannan  nannannannannannannan  PP   00   P    00    00\n",
    " \n",
    "\n",
    "'''\n",
    "len(s)"
   ]
  },
  {
   "cell_type": "code",
   "execution_count": 19,
   "metadata": {},
   "outputs": [],
   "source": [
    "import re "
   ]
  },
  {
   "cell_type": "code",
   "execution_count": 22,
   "metadata": {},
   "outputs": [],
   "source": [
    "t = re.findall(r'[\\.]\\W{50,300}',s)"
   ]
  },
  {
   "cell_type": "code",
   "execution_count": 23,
   "metadata": {},
   "outputs": [],
   "source": [
    "for i in t:\n",
    "    if i in s:\n",
    "        s.replace(i,'')"
   ]
  },
  {
   "cell_type": "code",
   "execution_count": 25,
   "metadata": {},
   "outputs": [],
   "source": [
    "s = '''\n",
    "   214451    031/050  17#/050  048/100  nannannannannannannan  nannannannannannannan  nannannannannannannan  48   04   C    05    20\n",
    "'''"
   ]
  },
  {
   "cell_type": "code",
   "execution_count": 26,
   "metadata": {},
   "outputs": [],
   "source": [
    "s = s.replace('#','')"
   ]
  },
  {
   "cell_type": "code",
   "execution_count": 27,
   "metadata": {},
   "outputs": [
    {
     "data": {
      "text/plain": [
       "'\\n   214451    031/050  17/050  048/100  nannannannannannannan  nannannannannannannan  nannannannannannannan  48   04   C    05    20\\n'"
      ]
     },
     "execution_count": 27,
     "metadata": {},
     "output_type": "execute_result"
    }
   ],
   "source": [
    "2[0|1]\\w+[A-Z]?\\s+\\w+[\\/|\\s+][\\w+| ]\\w+\\s+[\\w|\\s+]\\w+[\\/| $]\\w* *\\w*\\/*\\w* *\\w* *\\/*\\w* *\\/*\\w* *\\/*\\w* *\\/*\\w* *\\/*[\\w| |\\+][\\w| |\\+]\\w* *\\/*\\w* *\\/*\\w* *\\/*\\w* *\\/*\\w*"
   ]
  },
  {
   "cell_type": "code",
   "execution_count": 1,
   "metadata": {},
   "outputs": [
    {
     "data": {
      "text/plain": [
       "list"
      ]
     },
     "execution_count": 1,
     "metadata": {},
     "output_type": "execute_result"
    }
   ],
   "source": [
    "import tabula\n",
    "\n",
    "# Read pdf into list of DataFrame\n",
    "dfs = tabula.read_pdf(\"result.pdf\", pages='all')\n",
    "\n",
    "# Read remote pdf into list of DataFrame\n",
    "type(dfs)\n",
    "# convert PDF into CSV file\n",
    "# tabula.convert_into(\"test.pdf\", \"output.csv\", output_format=\"csv\", pages='all')\n"
   ]
  },
  {
   "cell_type": "code",
   "execution_count": 13,
   "metadata": {},
   "outputs": [],
   "source": [
    "# dfs"
   ]
  },
  {
   "cell_type": "code",
   "execution_count": 4,
   "metadata": {},
   "outputs": [],
   "source": [
    "df = dfs[0]"
   ]
  },
  {
   "cell_type": "code",
   "execution_count": 11,
   "metadata": {},
   "outputs": [
    {
     "data": {
      "text/plain": [
       "0    214444029/050  036/050  065/100  -------  ----...\n",
       "1    214445040/050  032/050  072/100  -------  ----...\n",
       "2    214446-------  -------  -------  022/025  028/...\n",
       "3    214447-------  -------  -------  023/025  038/...\n",
       "Name: 214443026/050  033/050  059/100  -------  -------  -------  59, dtype: object"
      ]
     },
     "execution_count": 11,
     "metadata": {},
     "output_type": "execute_result"
    }
   ],
   "source": [
    "df[df.columns[0]][0:4]"
   ]
  },
  {
   "cell_type": "code",
   "execution_count": 16,
   "metadata": {},
   "outputs": [],
   "source": [
    "reader = PdfReader('result.pdf')\n",
    "page = reader.pages[0]\n",
    "# print(page.extract_text())\n",
    "with open('text_file.txt','w') as t:\n",
    "    t.write(page.extract_text())"
   ]
  },
  {
   "cell_type": "code",
   "execution_count": null,
   "metadata": {},
   "outputs": [],
   "source": []
  },
  {
   "cell_type": "code",
   "execution_count": 66,
   "metadata": {},
   "outputs": [
    {
     "name": "stdout",
     "output_type": "stream",
     "text": [
      "['OE', 'TH', 'OE', 'TH', 'TW', 'PR', 'OR', 'T', 'C', 'G', 'P', 'P', 'SEM', 'B', 'A', 'B', 'A', 'A', 'A', 'O', 'O', 'O', 'A', 'PP', 'PP', 'P', 'SEM', 'A', 'O', 'A', 'B', 'B', 'A', 'A', 'A', 'O', 'A', 'PP', 'PP', 'P', 'OE', 'TH', 'OE', 'TH', 'TW', 'PR', 'OR', 'T', 'C', 'G', 'P', 'P', 'SEM', 'FF', 'F', 'C', 'P', 'P', 'B', 'B', 'B', 'B', 'A', 'A', 'PP', 'PP', 'P', 'SEM', 'FF', 'F', 'A', 'P', 'FF', 'F', 'B', 'C', 'A', 'A', 'A', 'D', 'PP', 'PP', 'P']\n"
     ]
    }
   ],
   "source": [
    "import re \n",
    "with open('text_file.txt','r') as t:\n",
    "    s = t.read()\n",
    "    a = re.findall(r'[A-Z]+',s)\n",
    "    print(a)\n",
    "    "
   ]
  },
  {
   "cell_type": "code",
   "execution_count": 32,
   "metadata": {},
   "outputs": [],
   "source": [
    "people = {\n",
    "    'first': ['Corey', 'Jane', 'John'], \n",
    "    'last': ['Schafer', 'Doe', 'Doe'], \n",
    "    'email': ['CoreyMSchafer@gmail.com', 'JaneDoe@email.com', 'JohnDoe@email.com']\n",
    "}\n",
    "persons = {\n",
    "    'first': ['suraj', 'Jane', 'df'], \n",
    "    'last': ['Schafer', 'dfDoe', 'fefr'], \n",
    "    'email': ['surajpisal@gmail.com', 'dfjeo@email.com', 'JohnDoe@graer.com']\n",
    "}"
   ]
  },
  {
   "cell_type": "code",
   "execution_count": 33,
   "metadata": {},
   "outputs": [],
   "source": [
    "import pandas as pd"
   ]
  },
  {
   "cell_type": "code",
   "execution_count": 34,
   "metadata": {},
   "outputs": [],
   "source": [
    "df = pd.DataFrame(people)\n",
    "df2 = pd.DataFrame(persons)"
   ]
  },
  {
   "cell_type": "code",
   "execution_count": 37,
   "metadata": {},
   "outputs": [
    {
     "data": {
      "text/html": [
       "<div>\n",
       "<style scoped>\n",
       "    .dataframe tbody tr th:only-of-type {\n",
       "        vertical-align: middle;\n",
       "    }\n",
       "\n",
       "    .dataframe tbody tr th {\n",
       "        vertical-align: top;\n",
       "    }\n",
       "\n",
       "    .dataframe thead th {\n",
       "        text-align: right;\n",
       "    }\n",
       "</style>\n",
       "<table border=\"1\" class=\"dataframe\">\n",
       "  <thead>\n",
       "    <tr style=\"text-align: right;\">\n",
       "      <th></th>\n",
       "      <th>first</th>\n",
       "      <th>last</th>\n",
       "      <th>email</th>\n",
       "    </tr>\n",
       "  </thead>\n",
       "  <tbody>\n",
       "    <tr>\n",
       "      <th>0</th>\n",
       "      <td>Corey</td>\n",
       "      <td>Schafer</td>\n",
       "      <td>CoreyMSchafer@gmail.com</td>\n",
       "    </tr>\n",
       "    <tr>\n",
       "      <th>1</th>\n",
       "      <td>Jane</td>\n",
       "      <td>Doe</td>\n",
       "      <td>JaneDoe@email.com</td>\n",
       "    </tr>\n",
       "    <tr>\n",
       "      <th>2</th>\n",
       "      <td>John</td>\n",
       "      <td>Doe</td>\n",
       "      <td>JohnDoe@email.com</td>\n",
       "    </tr>\n",
       "  </tbody>\n",
       "</table>\n",
       "</div>"
      ],
      "text/plain": [
       "   first     last                    email\n",
       "0  Corey  Schafer  CoreyMSchafer@gmail.com\n",
       "1   Jane      Doe        JaneDoe@email.com\n",
       "2   John      Doe        JohnDoe@email.com"
      ]
     },
     "execution_count": 37,
     "metadata": {},
     "output_type": "execute_result"
    }
   ],
   "source": [
    "df.head()"
   ]
  },
  {
   "cell_type": "code",
   "execution_count": 41,
   "metadata": {},
   "outputs": [
    {
     "data": {
      "text/html": [
       "<div>\n",
       "<style scoped>\n",
       "    .dataframe tbody tr th:only-of-type {\n",
       "        vertical-align: middle;\n",
       "    }\n",
       "\n",
       "    .dataframe tbody tr th {\n",
       "        vertical-align: top;\n",
       "    }\n",
       "\n",
       "    .dataframe thead th {\n",
       "        text-align: right;\n",
       "    }\n",
       "</style>\n",
       "<table border=\"1\" class=\"dataframe\">\n",
       "  <thead>\n",
       "    <tr style=\"text-align: right;\">\n",
       "      <th></th>\n",
       "      <th>first</th>\n",
       "      <th>last</th>\n",
       "      <th>email</th>\n",
       "    </tr>\n",
       "  </thead>\n",
       "  <tbody>\n",
       "    <tr>\n",
       "      <th>0</th>\n",
       "      <td>Corey</td>\n",
       "      <td>Schafer</td>\n",
       "      <td>CoreyMSchafer@gmail.com</td>\n",
       "    </tr>\n",
       "  </tbody>\n",
       "</table>\n",
       "</div>"
      ],
      "text/plain": [
       "   first     last                    email\n",
       "0  Corey  Schafer  CoreyMSchafer@gmail.com"
      ]
     },
     "execution_count": 41,
     "metadata": {},
     "output_type": "execute_result"
    }
   ],
   "source": [
    "df.drop(index=df[df['last'] == 'Doe'].index)"
   ]
  },
  {
   "cell_type": "code",
   "execution_count": 4,
   "metadata": {},
   "outputs": [
    {
     "data": {
      "text/html": [
       "<div>\n",
       "<style scoped>\n",
       "    .dataframe tbody tr th:only-of-type {\n",
       "        vertical-align: middle;\n",
       "    }\n",
       "\n",
       "    .dataframe tbody tr th {\n",
       "        vertical-align: top;\n",
       "    }\n",
       "\n",
       "    .dataframe thead th {\n",
       "        text-align: right;\n",
       "    }\n",
       "</style>\n",
       "<table border=\"1\" class=\"dataframe\">\n",
       "  <thead>\n",
       "    <tr style=\"text-align: right;\">\n",
       "      <th></th>\n",
       "      <th>first</th>\n",
       "      <th>last</th>\n",
       "      <th>email</th>\n",
       "    </tr>\n",
       "  </thead>\n",
       "  <tbody>\n",
       "    <tr>\n",
       "      <th>0</th>\n",
       "      <td>Corey</td>\n",
       "      <td>Schafer</td>\n",
       "      <td>CoreyMSchafer@gmail.com</td>\n",
       "    </tr>\n",
       "    <tr>\n",
       "      <th>1</th>\n",
       "      <td>Jane</td>\n",
       "      <td>Doe</td>\n",
       "      <td>JaneDoe@email.com</td>\n",
       "    </tr>\n",
       "    <tr>\n",
       "      <th>2</th>\n",
       "      <td>John</td>\n",
       "      <td>Doe</td>\n",
       "      <td>JohnDoe@email.com</td>\n",
       "    </tr>\n",
       "  </tbody>\n",
       "</table>\n",
       "</div>"
      ],
      "text/plain": [
       "   first     last                    email\n",
       "0  Corey  Schafer  CoreyMSchafer@gmail.com\n",
       "1   Jane      Doe        JaneDoe@email.com\n",
       "2   John      Doe        JohnDoe@email.com"
      ]
     },
     "execution_count": 4,
     "metadata": {},
     "output_type": "execute_result"
    }
   ],
   "source": [
    "df.head()"
   ]
  },
  {
   "cell_type": "code",
   "execution_count": 5,
   "metadata": {},
   "outputs": [],
   "source": [
    "df['full_name'] = df['first'] + ' ' + df['last']"
   ]
  },
  {
   "cell_type": "code",
   "execution_count": 8,
   "metadata": {},
   "outputs": [],
   "source": [
    "t = df.drop(['first','last'],axis=1)"
   ]
  },
  {
   "cell_type": "code",
   "execution_count": 10,
   "metadata": {},
   "outputs": [
    {
     "data": {
      "text/html": [
       "<div>\n",
       "<style scoped>\n",
       "    .dataframe tbody tr th:only-of-type {\n",
       "        vertical-align: middle;\n",
       "    }\n",
       "\n",
       "    .dataframe tbody tr th {\n",
       "        vertical-align: top;\n",
       "    }\n",
       "\n",
       "    .dataframe thead th {\n",
       "        text-align: right;\n",
       "    }\n",
       "</style>\n",
       "<table border=\"1\" class=\"dataframe\">\n",
       "  <thead>\n",
       "    <tr style=\"text-align: right;\">\n",
       "      <th></th>\n",
       "      <th>email</th>\n",
       "      <th>full_name</th>\n",
       "    </tr>\n",
       "  </thead>\n",
       "  <tbody>\n",
       "    <tr>\n",
       "      <th>0</th>\n",
       "      <td>CoreyMSchafer@gmail.com</td>\n",
       "      <td>Corey Schafer</td>\n",
       "    </tr>\n",
       "    <tr>\n",
       "      <th>1</th>\n",
       "      <td>JaneDoe@email.com</td>\n",
       "      <td>Jane Doe</td>\n",
       "    </tr>\n",
       "    <tr>\n",
       "      <th>2</th>\n",
       "      <td>JohnDoe@email.com</td>\n",
       "      <td>John Doe</td>\n",
       "    </tr>\n",
       "  </tbody>\n",
       "</table>\n",
       "</div>"
      ],
      "text/plain": [
       "                     email      full_name\n",
       "0  CoreyMSchafer@gmail.com  Corey Schafer\n",
       "1        JaneDoe@email.com       Jane Doe\n",
       "2        JohnDoe@email.com       John Doe"
      ]
     },
     "execution_count": 10,
     "metadata": {},
     "output_type": "execute_result"
    }
   ],
   "source": [
    "t.head()"
   ]
  },
  {
   "cell_type": "code",
   "execution_count": 18,
   "metadata": {},
   "outputs": [
    {
     "data": {
      "text/html": [
       "<div>\n",
       "<style scoped>\n",
       "    .dataframe tbody tr th:only-of-type {\n",
       "        vertical-align: middle;\n",
       "    }\n",
       "\n",
       "    .dataframe tbody tr th {\n",
       "        vertical-align: top;\n",
       "    }\n",
       "\n",
       "    .dataframe thead th {\n",
       "        text-align: right;\n",
       "    }\n",
       "</style>\n",
       "<table border=\"1\" class=\"dataframe\">\n",
       "  <thead>\n",
       "    <tr style=\"text-align: right;\">\n",
       "      <th></th>\n",
       "      <th>first</th>\n",
       "      <th>last</th>\n",
       "      <th>email</th>\n",
       "      <th>full_name</th>\n",
       "    </tr>\n",
       "  </thead>\n",
       "  <tbody>\n",
       "    <tr>\n",
       "      <th>0</th>\n",
       "      <td>Corey</td>\n",
       "      <td>Schafer</td>\n",
       "      <td>CoreyMSchafer@gmail.com</td>\n",
       "      <td>Corey Schafer</td>\n",
       "    </tr>\n",
       "    <tr>\n",
       "      <th>1</th>\n",
       "      <td>Jane</td>\n",
       "      <td>Doe</td>\n",
       "      <td>JaneDoe@email.com</td>\n",
       "      <td>Jane Doe</td>\n",
       "    </tr>\n",
       "    <tr>\n",
       "      <th>2</th>\n",
       "      <td>John</td>\n",
       "      <td>Doe</td>\n",
       "      <td>JohnDoe@email.com</td>\n",
       "      <td>John Doe</td>\n",
       "    </tr>\n",
       "  </tbody>\n",
       "</table>\n",
       "</div>"
      ],
      "text/plain": [
       "   first     last                    email      full_name\n",
       "0  Corey  Schafer  CoreyMSchafer@gmail.com  Corey Schafer\n",
       "1   Jane      Doe        JaneDoe@email.com       Jane Doe\n",
       "2   John      Doe        JohnDoe@email.com       John Doe"
      ]
     },
     "execution_count": 18,
     "metadata": {},
     "output_type": "execute_result"
    }
   ],
   "source": [
    "df.head()"
   ]
  },
  {
   "cell_type": "code",
   "execution_count": 20,
   "metadata": {},
   "outputs": [
    {
     "name": "stderr",
     "output_type": "stream",
     "text": [
      "C:\\Users\\Suraj\\AppData\\Local\\Temp\\ipykernel_17528\\3646968812.py:1: FutureWarning: The frame.append method is deprecated and will be removed from pandas in a future version. Use pandas.concat instead.\n",
      "  df.append({'first':'suraj'},ignore_index=True)\n"
     ]
    },
    {
     "data": {
      "text/html": [
       "<div>\n",
       "<style scoped>\n",
       "    .dataframe tbody tr th:only-of-type {\n",
       "        vertical-align: middle;\n",
       "    }\n",
       "\n",
       "    .dataframe tbody tr th {\n",
       "        vertical-align: top;\n",
       "    }\n",
       "\n",
       "    .dataframe thead th {\n",
       "        text-align: right;\n",
       "    }\n",
       "</style>\n",
       "<table border=\"1\" class=\"dataframe\">\n",
       "  <thead>\n",
       "    <tr style=\"text-align: right;\">\n",
       "      <th></th>\n",
       "      <th>first</th>\n",
       "      <th>last</th>\n",
       "      <th>email</th>\n",
       "      <th>full_name</th>\n",
       "    </tr>\n",
       "  </thead>\n",
       "  <tbody>\n",
       "    <tr>\n",
       "      <th>0</th>\n",
       "      <td>Corey</td>\n",
       "      <td>Schafer</td>\n",
       "      <td>CoreyMSchafer@gmail.com</td>\n",
       "      <td>Corey Schafer</td>\n",
       "    </tr>\n",
       "    <tr>\n",
       "      <th>1</th>\n",
       "      <td>Jane</td>\n",
       "      <td>Doe</td>\n",
       "      <td>JaneDoe@email.com</td>\n",
       "      <td>Jane Doe</td>\n",
       "    </tr>\n",
       "    <tr>\n",
       "      <th>2</th>\n",
       "      <td>John</td>\n",
       "      <td>Doe</td>\n",
       "      <td>JohnDoe@email.com</td>\n",
       "      <td>John Doe</td>\n",
       "    </tr>\n",
       "    <tr>\n",
       "      <th>3</th>\n",
       "      <td>suraj</td>\n",
       "      <td>NaN</td>\n",
       "      <td>NaN</td>\n",
       "      <td>NaN</td>\n",
       "    </tr>\n",
       "  </tbody>\n",
       "</table>\n",
       "</div>"
      ],
      "text/plain": [
       "   first     last                    email      full_name\n",
       "0  Corey  Schafer  CoreyMSchafer@gmail.com  Corey Schafer\n",
       "1   Jane      Doe        JaneDoe@email.com       Jane Doe\n",
       "2   John      Doe        JohnDoe@email.com       John Doe\n",
       "3  suraj      NaN                      NaN            NaN"
      ]
     },
     "execution_count": 20,
     "metadata": {},
     "output_type": "execute_result"
    }
   ],
   "source": [
    "df.append({'first':'suraj'},ignore_index=True)"
   ]
  },
  {
   "cell_type": "code",
   "execution_count": 28,
   "metadata": {},
   "outputs": [
    {
     "ename": "ValueError",
     "evalue": "Shape of passed values is (3, 1), indices imply (3, 3)",
     "output_type": "error",
     "traceback": [
      "\u001b[1;31m---------------------------------------------------------------------------\u001b[0m",
      "\u001b[1;31mValueError\u001b[0m                                Traceback (most recent call last)",
      "Cell \u001b[1;32mIn [28], line 3\u001b[0m\n\u001b[0;32m      1\u001b[0m data \u001b[38;5;241m=\u001b[39m [\u001b[38;5;124m'\u001b[39m\u001b[38;5;124ma\u001b[39m\u001b[38;5;124m'\u001b[39m,\u001b[38;5;124m'\u001b[39m\u001b[38;5;124mb\u001b[39m\u001b[38;5;124m'\u001b[39m,\u001b[38;5;124m'\u001b[39m\u001b[38;5;124mc\u001b[39m\u001b[38;5;124m'\u001b[39m]\n\u001b[0;32m      2\u001b[0m cols \u001b[38;5;241m=\u001b[39m [\u001b[38;5;124m'\u001b[39m\u001b[38;5;124ma1\u001b[39m\u001b[38;5;124m'\u001b[39m,\u001b[38;5;124m'\u001b[39m\u001b[38;5;124mb1\u001b[39m\u001b[38;5;124m'\u001b[39m,\u001b[38;5;124m'\u001b[39m\u001b[38;5;124mc1\u001b[39m\u001b[38;5;124m'\u001b[39m]\n\u001b[1;32m----> 3\u001b[0m p \u001b[38;5;241m=\u001b[39m \u001b[43mpd\u001b[49m\u001b[38;5;241;43m.\u001b[39;49m\u001b[43mDataFrame\u001b[49m\u001b[43m(\u001b[49m\u001b[43mdata\u001b[49m\u001b[43m,\u001b[49m\u001b[43mcolumns\u001b[49m\u001b[38;5;241;43m=\u001b[39;49m\u001b[43mcols\u001b[49m\u001b[43m)\u001b[49m\n",
      "File \u001b[1;32mc:\\Users\\Suraj\\OneDrive\\Desktop\\Streamlit_web_app\\env\\lib\\site-packages\\pandas\\core\\frame.py:737\u001b[0m, in \u001b[0;36mDataFrame.__init__\u001b[1;34m(self, data, index, columns, dtype, copy)\u001b[0m\n\u001b[0;32m    729\u001b[0m         mgr \u001b[39m=\u001b[39m arrays_to_mgr(\n\u001b[0;32m    730\u001b[0m             arrays,\n\u001b[0;32m    731\u001b[0m             columns,\n\u001b[1;32m   (...)\u001b[0m\n\u001b[0;32m    734\u001b[0m             typ\u001b[39m=\u001b[39mmanager,\n\u001b[0;32m    735\u001b[0m         )\n\u001b[0;32m    736\u001b[0m     \u001b[39melse\u001b[39;00m:\n\u001b[1;32m--> 737\u001b[0m         mgr \u001b[39m=\u001b[39m ndarray_to_mgr(\n\u001b[0;32m    738\u001b[0m             data,\n\u001b[0;32m    739\u001b[0m             index,\n\u001b[0;32m    740\u001b[0m             columns,\n\u001b[0;32m    741\u001b[0m             dtype\u001b[39m=\u001b[39;49mdtype,\n\u001b[0;32m    742\u001b[0m             copy\u001b[39m=\u001b[39;49mcopy,\n\u001b[0;32m    743\u001b[0m             typ\u001b[39m=\u001b[39;49mmanager,\n\u001b[0;32m    744\u001b[0m         )\n\u001b[0;32m    745\u001b[0m \u001b[39melse\u001b[39;00m:\n\u001b[0;32m    746\u001b[0m     mgr \u001b[39m=\u001b[39m dict_to_mgr(\n\u001b[0;32m    747\u001b[0m         {},\n\u001b[0;32m    748\u001b[0m         index,\n\u001b[1;32m   (...)\u001b[0m\n\u001b[0;32m    751\u001b[0m         typ\u001b[39m=\u001b[39mmanager,\n\u001b[0;32m    752\u001b[0m     )\n",
      "File \u001b[1;32mc:\\Users\\Suraj\\OneDrive\\Desktop\\Streamlit_web_app\\env\\lib\\site-packages\\pandas\\core\\internals\\construction.py:351\u001b[0m, in \u001b[0;36mndarray_to_mgr\u001b[1;34m(values, index, columns, dtype, copy, typ)\u001b[0m\n\u001b[0;32m    346\u001b[0m \u001b[39m# _prep_ndarray ensures that values.ndim == 2 at this point\u001b[39;00m\n\u001b[0;32m    347\u001b[0m index, columns \u001b[39m=\u001b[39m _get_axes(\n\u001b[0;32m    348\u001b[0m     values\u001b[39m.\u001b[39mshape[\u001b[39m0\u001b[39m], values\u001b[39m.\u001b[39mshape[\u001b[39m1\u001b[39m], index\u001b[39m=\u001b[39mindex, columns\u001b[39m=\u001b[39mcolumns\n\u001b[0;32m    349\u001b[0m )\n\u001b[1;32m--> 351\u001b[0m _check_values_indices_shape_match(values, index, columns)\n\u001b[0;32m    353\u001b[0m \u001b[39mif\u001b[39;00m typ \u001b[39m==\u001b[39m \u001b[39m\"\u001b[39m\u001b[39marray\u001b[39m\u001b[39m\"\u001b[39m:\n\u001b[0;32m    355\u001b[0m     \u001b[39mif\u001b[39;00m \u001b[39missubclass\u001b[39m(values\u001b[39m.\u001b[39mdtype\u001b[39m.\u001b[39mtype, \u001b[39mstr\u001b[39m):\n",
      "File \u001b[1;32mc:\\Users\\Suraj\\OneDrive\\Desktop\\Streamlit_web_app\\env\\lib\\site-packages\\pandas\\core\\internals\\construction.py:422\u001b[0m, in \u001b[0;36m_check_values_indices_shape_match\u001b[1;34m(values, index, columns)\u001b[0m\n\u001b[0;32m    420\u001b[0m passed \u001b[39m=\u001b[39m values\u001b[39m.\u001b[39mshape\n\u001b[0;32m    421\u001b[0m implied \u001b[39m=\u001b[39m (\u001b[39mlen\u001b[39m(index), \u001b[39mlen\u001b[39m(columns))\n\u001b[1;32m--> 422\u001b[0m \u001b[39mraise\u001b[39;00m \u001b[39mValueError\u001b[39;00m(\u001b[39mf\u001b[39m\u001b[39m\"\u001b[39m\u001b[39mShape of passed values is \u001b[39m\u001b[39m{\u001b[39;00mpassed\u001b[39m}\u001b[39;00m\u001b[39m, indices imply \u001b[39m\u001b[39m{\u001b[39;00mimplied\u001b[39m}\u001b[39;00m\u001b[39m\"\u001b[39m)\n",
      "\u001b[1;31mValueError\u001b[0m: Shape of passed values is (3, 1), indices imply (3, 3)"
     ]
    }
   ],
   "source": [
    "data = ['a','b','c']\n",
    "cols = ['a1','b1','c1']\n",
    "p = pd.DataFrame(data,columns=cols)"
   ]
  },
  {
   "cell_type": "code",
   "execution_count": null,
   "metadata": {},
   "outputs": [],
   "source": []
  },
  {
   "cell_type": "code",
   "execution_count": 16,
   "metadata": {},
   "outputs": [],
   "source": [
    "t[['first','last']] = t['full_name'].str.split(' ',expand=True)"
   ]
  },
  {
   "cell_type": "code",
   "execution_count": 17,
   "metadata": {},
   "outputs": [
    {
     "data": {
      "text/html": [
       "<div>\n",
       "<style scoped>\n",
       "    .dataframe tbody tr th:only-of-type {\n",
       "        vertical-align: middle;\n",
       "    }\n",
       "\n",
       "    .dataframe tbody tr th {\n",
       "        vertical-align: top;\n",
       "    }\n",
       "\n",
       "    .dataframe thead th {\n",
       "        text-align: right;\n",
       "    }\n",
       "</style>\n",
       "<table border=\"1\" class=\"dataframe\">\n",
       "  <thead>\n",
       "    <tr style=\"text-align: right;\">\n",
       "      <th></th>\n",
       "      <th>email</th>\n",
       "      <th>full_name</th>\n",
       "      <th>first</th>\n",
       "      <th>last</th>\n",
       "    </tr>\n",
       "  </thead>\n",
       "  <tbody>\n",
       "    <tr>\n",
       "      <th>0</th>\n",
       "      <td>CoreyMSchafer@gmail.com</td>\n",
       "      <td>Corey Schafer</td>\n",
       "      <td>Corey</td>\n",
       "      <td>Schafer</td>\n",
       "    </tr>\n",
       "    <tr>\n",
       "      <th>1</th>\n",
       "      <td>JaneDoe@email.com</td>\n",
       "      <td>Jane Doe</td>\n",
       "      <td>Jane</td>\n",
       "      <td>Doe</td>\n",
       "    </tr>\n",
       "    <tr>\n",
       "      <th>2</th>\n",
       "      <td>JohnDoe@email.com</td>\n",
       "      <td>John Doe</td>\n",
       "      <td>John</td>\n",
       "      <td>Doe</td>\n",
       "    </tr>\n",
       "  </tbody>\n",
       "</table>\n",
       "</div>"
      ],
      "text/plain": [
       "                     email      full_name  first     last\n",
       "0  CoreyMSchafer@gmail.com  Corey Schafer  Corey  Schafer\n",
       "1        JaneDoe@email.com       Jane Doe   Jane      Doe\n",
       "2        JohnDoe@email.com       John Doe   John      Doe"
      ]
     },
     "execution_count": 17,
     "metadata": {},
     "output_type": "execute_result"
    }
   ],
   "source": [
    "t"
   ]
  },
  {
   "cell_type": "code",
   "execution_count": 80,
   "metadata": {},
   "outputs": [],
   "source": [
    "from collections import namedtuple\n",
    "import re\n",
    "import pdfplumber\n",
    "import pandas as pd"
   ]
  },
  {
   "cell_type": "code",
   "execution_count": 81,
   "metadata": {},
   "outputs": [],
   "source": [
    "# list_of_columns = namedtuple('Point','ExamseatNo PRN NameofStudent OE TH OE+TH TW PR OR TOT CRD GRD PTS')"
   ]
  },
  {
   "cell_type": "code",
   "execution_count": 82,
   "metadata": {},
   "outputs": [],
   "source": [
    "S = '''\n",
    "   214441    030/050  024/050  054/100  -------  -------  -------  54   04   B    06    24\n",
    "   214442    036/050  031/050  067/100  -------  -------  -------  67   04   A    08    32\n",
    "   214443    026/050  033/050  059/100  -------  -------  -------  59   04   B+   07    28\n",
    "   214444    029/050  036/050  065/100  -------  -------  -------  65   04   A    08    32\n",
    "   214445    040/050  032/050  072/100  -------  -------  -------  72   04   A+   09    36\n",
    "   214446    -------  -------  -------  022/025  028/050  -------  66   01   A    08    08\n",
    "'''"
   ]
  },
  {
   "cell_type": "code",
   "execution_count": 95,
   "metadata": {},
   "outputs": [],
   "source": [
    "# import re \n",
    "# pattern = re.compile(r'')\n",
    "# match = pattern.finditer(S)\n",
    "# for m in match:\n",
    "#     print(m)"
   ]
  },
  {
   "cell_type": "code",
   "execution_count": 96,
   "metadata": {},
   "outputs": [],
   "source": [
    "import csv \n",
    "with open('tt.csv','w',encoding='utf-8') as tt:\n",
    "    writer = csv.writer(tt)\n",
    "    writer.writerows(s)"
   ]
  },
  {
   "cell_type": "code",
   "execution_count": 105,
   "metadata": {},
   "outputs": [],
   "source": [
    "# d = pd.read_csv('text_file.txt',header=None,sep=' ')\n"
   ]
  },
  {
   "cell_type": "code",
   "execution_count": 117,
   "metadata": {},
   "outputs": [],
   "source": [
    "# with open('text_file.txt','r') as file:\n",
    "#     words = file.read()\n",
    "#     words = words.replace('-------',' ')\n",
    "#     words = words.replace('~~~~~~~ ',' ')\n",
    "#     words = words.replace('~~',' ')\n",
    "#     words = words.replace('~~~ ',' ')\n",
    "#     words = words.replace('~',' ')\n",
    "#     words = words.replace('SEM.:',' ')\n",
    "#     words = words.replace('*',' ')\n",
    "    \n",
    "\n",
    "#     with open('new_txt.txt','w') as new:\n",
    "#         new.write(words)\n"
   ]
  },
  {
   "cell_type": "code",
   "execution_count": 62,
   "metadata": {},
   "outputs": [],
   "source": [
    "file = open('new_txt.txt','r') \n",
    "text = file.read()\n",
    "words = text.split()\n",
    "import re \n",
    "words = words[12:]\n",
    "d = {'20205':[], '20700':[], '21025':[], '21444':[], '21445':[]}\n",
    "index = None\n",
    "for w in words:\n",
    "    if re.search('\\d{5}',w):\n",
    "        index  = re.search('(\\d{5})',w)[1]\n",
    "    \n",
    "    d[index].append(w)\n",
    "        \n"
   ]
  },
  {
   "cell_type": "code",
   "execution_count": 66,
   "metadata": {},
   "outputs": [],
   "source": [
    "import re\n",
    "import parse\n",
    "import pdfplumber\n",
    "import pandas as pd\n",
    "from collections import namedtuple"
   ]
  },
  {
   "cell_type": "code",
   "execution_count": null,
   "metadata": {},
   "outputs": [],
   "source": []
  },
  {
   "cell_type": "code",
   "execution_count": 61,
   "metadata": {},
   "outputs": [
    {
     "data": {
      "text/plain": [
       "{'20205': ['202054A', '202054A'],\n",
       " '20700': ['207003', '207003', '207003', '207003'],\n",
       " '21025': ['210258A', '210258D'],\n",
       " '21444': ['214441',\n",
       "  '214442',\n",
       "  '214443',\n",
       "  '214444',\n",
       "  '214445',\n",
       "  '214446',\n",
       "  '214447',\n",
       "  '214448',\n",
       "  '214449',\n",
       "  '214441',\n",
       "  '214442',\n",
       "  '214443',\n",
       "  '214444',\n",
       "  '214445',\n",
       "  '214446',\n",
       "  '214447',\n",
       "  '214448',\n",
       "  '214449'],\n",
       " '21445': ['214450',\n",
       "  '214451',\n",
       "  '214452',\n",
       "  '214453',\n",
       "  '214454',\n",
       "  '214455',\n",
       "  '214456',\n",
       "  '214450',\n",
       "  '214451',\n",
       "  '214452',\n",
       "  '214453',\n",
       "  '214454',\n",
       "  '214455',\n",
       "  '214456']}"
      ]
     },
     "execution_count": 61,
     "metadata": {},
     "output_type": "execute_result"
    }
   ],
   "source": [
    "# d = {'21444':[],'20205':[],''}\n",
    "# for w in words:\n",
    "#     if re.search('\\d{5}',w):\n",
    "#         index  = re.search('(\\d{5})',w)[1]\n",
    "#         print(index,end=' ')\n",
    "#         if index not in d.keys():\n",
    "#             d[index].append(w)\n",
    "\n",
    "\n",
    "d"
   ]
  },
  {
   "cell_type": "code",
   "execution_count": 58,
   "metadata": {},
   "outputs": [],
   "source": [
    "l = set()\n",
    "for w in words:\n",
    "    if re.search('\\d{5}',w):\n",
    "        index  = re.search('(\\d{5})',w)[1]\n",
    "        \n",
    "        l.add(index)"
   ]
  },
  {
   "cell_type": "code",
   "execution_count": 59,
   "metadata": {},
   "outputs": [
    {
     "data": {
      "text/plain": [
       "{'20205', '20700', '21025', '21444', '21445'}"
      ]
     },
     "execution_count": 59,
     "metadata": {},
     "output_type": "execute_result"
    }
   ],
   "source": [
    "l"
   ]
  },
  {
   "cell_type": "code",
   "execution_count": 11,
   "metadata": {},
   "outputs": [
    {
     "name": "stdout",
     "output_type": "stream",
     "text": [
      "OE TH [OE+TH] TW PR OR Tot% Crd Grd Pts Pts "
     ]
    }
   ],
   "source": [
    "# import csv \n",
    "# filename = 'pp.csv'\n",
    "# file = open('new_txt.txt','r') \n",
    "# text = file.read()\n",
    "# with open(filename,'w') as pp:\n",
    "#     writer = csv.writer(filename)\n",
    "#     writer.writerows()"
   ]
  },
  {
   "cell_type": "code",
   "execution_count": 9,
   "metadata": {},
   "outputs": [],
   "source": [
    "l10.remove('1')"
   ]
  },
  {
   "cell_type": "code",
   "execution_count": 10,
   "metadata": {},
   "outputs": [
    {
     "data": {
      "text/plain": [
       "['OE', 'TH', '[OE+TH]', 'TW', 'PR', 'OR', 'Tot%', 'Crd', 'Grd', 'Pts', 'Pts']"
      ]
     },
     "execution_count": 10,
     "metadata": {},
     "output_type": "execute_result"
    }
   ],
   "source": [
    "l10"
   ]
  },
  {
   "cell_type": "code",
   "execution_count": 69,
   "metadata": {},
   "outputs": [],
   "source": [
    "import re\n",
    "import parse\n",
    "import pdfplumber\n",
    "import pandas as pd\n",
    "from collections import namedtuple\n",
    "import requests"
   ]
  },
  {
   "cell_type": "code",
   "execution_count": 70,
   "metadata": {},
   "outputs": [],
   "source": [
    "def download_file(url):\n",
    "    local_filename = url.split('/')[-1]\n",
    "    \n",
    "    with requests.get(url) as r:\n",
    "        with open(local_filename, 'wb') as f:\n",
    "            f.write(r.content)\n",
    "        \n",
    "    return local_filename"
   ]
  },
  {
   "cell_type": "code",
   "execution_count": 71,
   "metadata": {},
   "outputs": [],
   "source": [
    "ap_url = 'https://www.tabs3.com/support/sample/apreports.pdf'\n",
    "ap = download_file(ap_url)"
   ]
  },
  {
   "cell_type": "code",
   "execution_count": 72,
   "metadata": {},
   "outputs": [
    {
     "data": {
      "text/plain": [
       "'apreports.pdf'"
      ]
     },
     "execution_count": 72,
     "metadata": {},
     "output_type": "execute_result"
    }
   ],
   "source": [
    "ap"
   ]
  },
  {
   "cell_type": "code",
   "execution_count": 73,
   "metadata": {},
   "outputs": [],
   "source": [
    "with pdfplumber.open(ap) as pdf:\n",
    "    page = pdf.pages[15]\n",
    "    text = page.extract_text()"
   ]
  },
  {
   "cell_type": "code",
   "execution_count": 74,
   "metadata": {},
   "outputs": [
    {
     "name": "stdout",
     "output_type": "stream",
     "text": [
      "AccountsPayableReportPack\n",
      "invoicesenteredandcomparingthetotaltothechecksum,youcanensurethatalltransactions\n",
      "havebeenenteredandassignedtothepropervendor.\n",
      "ChangedEntriesand AnyentriesthatareeditedordeletedwillbelistedundertheChangedEntriesorDeletedEntries\n",
      "DeletedEntries sections.Forchangedentries,theoriginalentrywillbeshownunderthe\"Old\"heading,andthe\n",
      "changeswillbereflectedunderthe\"New\"heading.Whenaninvoiceormanualcheckisdeleted,\n",
      "theInvoiceAmountisautomaticallychangedtozeroandtheStatusfieldischangedto\"D\".\n",
      "TotalTransactionCount Totalnumberoftransactionsonthelistincludingchangesanddeletions.Eachchangedtransaction\n",
      "(i.e.,botholdandnew)countsasonetransaction.\n",
      "1Notshownonsamplereport.\n",
      "-16-\n"
     ]
    }
   ],
   "source": [
    "print(text)"
   ]
  },
  {
   "cell_type": "code",
   "execution_count": 75,
   "metadata": {},
   "outputs": [],
   "source": [
    "new_vend_re = re.compile(r'^\\d{3} [A-Z].*')"
   ]
  },
  {
   "cell_type": "code",
   "execution_count": 76,
   "metadata": {},
   "outputs": [],
   "source": [
    "for line in text.split('\\n'):\n",
    "    if new_vend_re.match(line):\n",
    "        print(line)"
   ]
  },
  {
   "cell_type": "code",
   "execution_count": null,
   "metadata": {},
   "outputs": [],
   "source": []
  }
 ],
 "metadata": {
  "kernelspec": {
   "display_name": "Python 3.8.2 ('env': venv)",
   "language": "python",
   "name": "python3"
  },
  "language_info": {
   "codemirror_mode": {
    "name": "ipython",
    "version": 3
   },
   "file_extension": ".py",
   "mimetype": "text/x-python",
   "name": "python",
   "nbconvert_exporter": "python",
   "pygments_lexer": "ipython3",
   "version": "3.8.2"
  },
  "orig_nbformat": 4,
  "vscode": {
   "interpreter": {
    "hash": "4bcf47b0d8de28688cd5bd3273acf0b18a03fdcdc347192f2b71a0457c359e32"
   }
  }
 },
 "nbformat": 4,
 "nbformat_minor": 2
}
