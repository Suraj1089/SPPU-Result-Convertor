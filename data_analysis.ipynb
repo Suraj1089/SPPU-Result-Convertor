{
 "cells": [
  {
   "cell_type": "code",
   "execution_count": 1,
   "metadata": {},
   "outputs": [],
   "source": [
    "import numpy \n",
    "import pandas as pd "
   ]
  },
  {
   "cell_type": "code",
   "execution_count": 2,
   "metadata": {},
   "outputs": [],
   "source": [
    "s = pd.read_csv('seat_no_name_monther_name.csv')"
   ]
  },
  {
   "cell_type": "code",
   "execution_count": 3,
   "metadata": {},
   "outputs": [
    {
     "data": {
      "text/html": [
       "<div>\n",
       "<style scoped>\n",
       "    .dataframe tbody tr th:only-of-type {\n",
       "        vertical-align: middle;\n",
       "    }\n",
       "\n",
       "    .dataframe tbody tr th {\n",
       "        vertical-align: top;\n",
       "    }\n",
       "\n",
       "    .dataframe thead th {\n",
       "        text-align: right;\n",
       "    }\n",
       "</style>\n",
       "<table border=\"1\" class=\"dataframe\">\n",
       "  <thead>\n",
       "    <tr style=\"text-align: right;\">\n",
       "      <th></th>\n",
       "      <th>Unnamed: 0</th>\n",
       "      <th>seat_no</th>\n",
       "      <th>name</th>\n",
       "      <th>mother_name</th>\n",
       "      <th>PRN_NO</th>\n",
       "    </tr>\n",
       "  </thead>\n",
       "  <tbody>\n",
       "    <tr>\n",
       "      <th>0</th>\n",
       "      <td>0</td>\n",
       "      <td>S150088539</td>\n",
       "      <td>AVHAD KALPESH BALIRAM</td>\n",
       "      <td>RANJANABAI</td>\n",
       "      <td>71842239C</td>\n",
       "    </tr>\n",
       "    <tr>\n",
       "      <th>1</th>\n",
       "      <td>1</td>\n",
       "      <td>S150088540</td>\n",
       "      <td>AWACHAR SHOBHANA BHAURAO</td>\n",
       "      <td>SUNITATAI</td>\n",
       "      <td>71842242C</td>\n",
       "    </tr>\n",
       "    <tr>\n",
       "      <th>2</th>\n",
       "      <td>2</td>\n",
       "      <td>S150088541</td>\n",
       "      <td>AWALE PRAJAKTA SUNIL</td>\n",
       "      <td>KUSUM</td>\n",
       "      <td>71842243M</td>\n",
       "    </tr>\n",
       "    <tr>\n",
       "      <th>3</th>\n",
       "      <td>3</td>\n",
       "      <td>S150088542</td>\n",
       "      <td>BHOSALE RUSHIKESH VIJAY</td>\n",
       "      <td>HIRABAI</td>\n",
       "      <td>71842298J</td>\n",
       "    </tr>\n",
       "    <tr>\n",
       "      <th>4</th>\n",
       "      <td>4</td>\n",
       "      <td>S150088543</td>\n",
       "      <td>BHOSALE VISHWAJEET VILAS</td>\n",
       "      <td>SUNITA</td>\n",
       "      <td>71842300D</td>\n",
       "    </tr>\n",
       "  </tbody>\n",
       "</table>\n",
       "</div>"
      ],
      "text/plain": [
       "   Unnamed: 0     seat_no                      name mother_name     PRN_NO\n",
       "0           0  S150088539     AVHAD KALPESH BALIRAM  RANJANABAI  71842239C\n",
       "1           1  S150088540  AWACHAR SHOBHANA BHAURAO   SUNITATAI  71842242C\n",
       "2           2  S150088541      AWALE PRAJAKTA SUNIL       KUSUM  71842243M\n",
       "3           3  S150088542   BHOSALE RUSHIKESH VIJAY     HIRABAI  71842298J\n",
       "4           4  S150088543  BHOSALE VISHWAJEET VILAS      SUNITA  71842300D"
      ]
     },
     "execution_count": 3,
     "metadata": {},
     "output_type": "execute_result"
    }
   ],
   "source": [
    "s.head()"
   ]
  },
  {
   "cell_type": "code",
   "execution_count": 12,
   "metadata": {},
   "outputs": [],
   "source": [
    "d = pd.read_csv(r'C:\\Users\\Suraj\\OneDrive\\Desktop\\Streamlit_web_app\\final_mark_output.csv')"
   ]
  },
  {
   "cell_type": "code",
   "execution_count": 13,
   "metadata": {},
   "outputs": [
    {
     "data": {
      "text/html": [
       "<div>\n",
       "<style scoped>\n",
       "    .dataframe tbody tr th:only-of-type {\n",
       "        vertical-align: middle;\n",
       "    }\n",
       "\n",
       "    .dataframe tbody tr th {\n",
       "        vertical-align: top;\n",
       "    }\n",
       "\n",
       "    .dataframe thead th {\n",
       "        text-align: right;\n",
       "    }\n",
       "</style>\n",
       "<table border=\"1\" class=\"dataframe\">\n",
       "  <thead>\n",
       "    <tr style=\"text-align: right;\">\n",
       "      <th></th>\n",
       "      <th>Unnamed: 0</th>\n",
       "      <th>subject</th>\n",
       "      <th>OE</th>\n",
       "      <th>TH</th>\n",
       "      <th>OE_TH</th>\n",
       "      <th>TW</th>\n",
       "      <th>PR</th>\n",
       "      <th>OR</th>\n",
       "      <th>TOT</th>\n",
       "      <th>CRD</th>\n",
       "      <th>GRD</th>\n",
       "      <th>PTS1</th>\n",
       "      <th>PTS2</th>\n",
       "    </tr>\n",
       "  </thead>\n",
       "  <tbody>\n",
       "    <tr>\n",
       "      <th>0</th>\n",
       "      <td>0</td>\n",
       "      <td>214441</td>\n",
       "      <td>030/050</td>\n",
       "      <td>024/050</td>\n",
       "      <td>054/100</td>\n",
       "      <td>--</td>\n",
       "      <td>--</td>\n",
       "      <td>--</td>\n",
       "      <td>54</td>\n",
       "      <td>04</td>\n",
       "      <td>B</td>\n",
       "      <td>06</td>\n",
       "      <td>24</td>\n",
       "    </tr>\n",
       "    <tr>\n",
       "      <th>1</th>\n",
       "      <td>1</td>\n",
       "      <td>214442</td>\n",
       "      <td>036/050</td>\n",
       "      <td>031/050</td>\n",
       "      <td>067/100</td>\n",
       "      <td>--</td>\n",
       "      <td>--</td>\n",
       "      <td>--</td>\n",
       "      <td>67</td>\n",
       "      <td>04</td>\n",
       "      <td>A</td>\n",
       "      <td>08</td>\n",
       "      <td>32</td>\n",
       "    </tr>\n",
       "    <tr>\n",
       "      <th>2</th>\n",
       "      <td>2</td>\n",
       "      <td>214443</td>\n",
       "      <td>026/050</td>\n",
       "      <td>033/050</td>\n",
       "      <td>059/100</td>\n",
       "      <td>--</td>\n",
       "      <td>--</td>\n",
       "      <td>--</td>\n",
       "      <td>59</td>\n",
       "      <td>04</td>\n",
       "      <td>B+</td>\n",
       "      <td>07</td>\n",
       "      <td>28</td>\n",
       "    </tr>\n",
       "    <tr>\n",
       "      <th>3</th>\n",
       "      <td>3</td>\n",
       "      <td>214444</td>\n",
       "      <td>029/050</td>\n",
       "      <td>036/050</td>\n",
       "      <td>065/100</td>\n",
       "      <td>--</td>\n",
       "      <td>--</td>\n",
       "      <td>--</td>\n",
       "      <td>65</td>\n",
       "      <td>04</td>\n",
       "      <td>A</td>\n",
       "      <td>08</td>\n",
       "      <td>32</td>\n",
       "    </tr>\n",
       "    <tr>\n",
       "      <th>4</th>\n",
       "      <td>4</td>\n",
       "      <td>214445</td>\n",
       "      <td>040/050</td>\n",
       "      <td>032/050</td>\n",
       "      <td>072/100</td>\n",
       "      <td>--</td>\n",
       "      <td>--</td>\n",
       "      <td>--</td>\n",
       "      <td>72</td>\n",
       "      <td>04</td>\n",
       "      <td>A+</td>\n",
       "      <td>09</td>\n",
       "      <td>36</td>\n",
       "    </tr>\n",
       "  </tbody>\n",
       "</table>\n",
       "</div>"
      ],
      "text/plain": [
       "   Unnamed: 0 subject       OE       TH    OE_TH  TW  PR  OR TOT CRD GRD PTS1  \\\n",
       "0           0  214441  030/050  024/050  054/100  --  --  --  54  04   B   06   \n",
       "1           1  214442  036/050  031/050  067/100  --  --  --  67  04   A   08   \n",
       "2           2  214443  026/050  033/050  059/100  --  --  --  59  04  B+   07   \n",
       "3           3  214444  029/050  036/050  065/100  --  --  --  65  04   A   08   \n",
       "4           4  214445  040/050  032/050  072/100  --  --  --  72  04  A+   09   \n",
       "\n",
       "  PTS2  \n",
       "0   24  \n",
       "1   32  \n",
       "2   28  \n",
       "3   32  \n",
       "4   36  "
      ]
     },
     "execution_count": 13,
     "metadata": {},
     "output_type": "execute_result"
    }
   ],
   "source": [
    "d[d['subject']=='207003']"
   ]
  },
  {
   "cell_type": "code",
   "execution_count": 16,
   "metadata": {},
   "outputs": [],
   "source": [
    "a = d.groupby('subject')"
   ]
  },
  {
   "cell_type": "code",
   "execution_count": null,
   "metadata": {},
   "outputs": [],
   "source": [
    "p = pd.DataFrame({'subj'})"
   ]
  },
  {
   "cell_type": "code",
   "execution_count": 25,
   "metadata": {},
   "outputs": [
    {
     "data": {
      "text/plain": [
       "127"
      ]
     },
     "execution_count": 25,
     "metadata": {},
     "output_type": "execute_result"
    }
   ],
   "source": [
    "len(d[d['subject'] == '214441'])"
   ]
  },
  {
   "cell_type": "code",
   "execution_count": null,
   "metadata": {},
   "outputs": [],
   "source": []
  }
 ],
 "metadata": {
  "kernelspec": {
   "display_name": "Python 3.8.2 ('env': venv)",
   "language": "python",
   "name": "python3"
  },
  "language_info": {
   "codemirror_mode": {
    "name": "ipython",
    "version": 3
   },
   "file_extension": ".py",
   "mimetype": "text/x-python",
   "name": "python",
   "nbconvert_exporter": "python",
   "pygments_lexer": "ipython3",
   "version": "3.8.2"
  },
  "orig_nbformat": 4,
  "vscode": {
   "interpreter": {
    "hash": "4bcf47b0d8de28688cd5bd3273acf0b18a03fdcdc347192f2b71a0457c359e32"
   }
  }
 },
 "nbformat": 4,
 "nbformat_minor": 2
}
