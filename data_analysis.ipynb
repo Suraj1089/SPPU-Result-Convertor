{
 "cells": [
  {
   "cell_type": "code",
   "execution_count": 1,
   "metadata": {},
   "outputs": [],
   "source": [
    "import numpy \n",
    "import pandas as pd "
   ]
  },
  {
   "cell_type": "code",
   "execution_count": 56,
   "metadata": {},
   "outputs": [],
   "source": [
    "a1 = pd.read_csv('subject_214441.csv')\n",
    "a2 = pd.read_csv('subject_214442.csv')\n",
    "a3 = pd.read_csv('subject_214443.csv')\n",
    "a4 = pd.read_csv('subject_214444.csv')\n",
    "a5 = pd.read_csv('subject_214445.csv')\n",
    "a5 = pd.read_csv('subject_214446.csv')\n",
    "a6 = pd.read_csv('subject_214447.csv')\n",
    "a7 = pd.read_csv('subject_214448.csv')\n",
    "a8 = pd.read_csv('subject_214449.csv')\n",
    "a9 = pd.read_csv('subject_214450.csv')\n",
    "a10 = pd.read_csv('subject_214451.csv')\n",
    "a11 = pd.read_csv('subject_214452.csv')\n",
    "a12 = pd.read_csv('subject_214453.csv')\n",
    "a13 = pd.read_csv('subject_214454.csv')\n",
    "a14 = pd.read_csv('subject_214455.csv')\n",
    "a15 = pd.read_csv('subject_214456.csv')\n",
    "st = pd.read_csv('seat_no_name_monther_name.csv')\n"
   ]
  },
  {
   "cell_type": "code",
   "execution_count": 84,
   "metadata": {},
   "outputs": [],
   "source": [
    "st = pd.read_csv('seat_no_name_monther_name.csv')\n",
    "r = pd.concat([st,a1,a2,a4,a5,a6,a7,a8,a9,a10,a11,a12,a13,a14,a15],axis=1)\n",
    "r.to_csv('final_students.csv',index=False)"
   ]
  },
  {
   "cell_type": "code",
   "execution_count": 85,
   "metadata": {},
   "outputs": [],
   "source": []
  }
 ],
 "metadata": {
  "kernelspec": {
   "display_name": "Python 3.8.2 ('env': venv)",
   "language": "python",
   "name": "python3"
  },
  "language_info": {
   "codemirror_mode": {
    "name": "ipython",
    "version": 3
   },
   "file_extension": ".py",
   "mimetype": "text/x-python",
   "name": "python",
   "nbconvert_exporter": "python",
   "pygments_lexer": "ipython3",
   "version": "3.8.2"
  },
  "orig_nbformat": 4,
  "vscode": {
   "interpreter": {
    "hash": "5cd46a275f8822b6fef7c1f085dcd5568910965774c2e3290ec37691aed9739e"
   }
  }
 },
 "nbformat": 4,
 "nbformat_minor": 2
}
