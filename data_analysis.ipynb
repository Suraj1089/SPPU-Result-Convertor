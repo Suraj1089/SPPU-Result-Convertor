{
 "cells": [
  {
   "cell_type": "code",
   "execution_count": 2,
   "metadata": {},
   "outputs": [],
   "source": [
    "import numpy \n",
    "import pandas as pd "
   ]
  },
  {
   "cell_type": "code",
   "execution_count": 13,
   "metadata": {},
   "outputs": [],
   "source": [
    "a1 = pd.read_csv('214441.csv',na_values='--')\n",
    "a2 = pd.read_csv('214442.csv',na_values='--')\n",
    "a3 = pd.read_csv('214443.csv',na_values='--')\n",
    "a4 = pd.read_csv('214444.csv',na_values='--')\n",
    "a5 = pd.read_csv('214445.csv',na_values='--')\n",
    "a5 = pd.read_csv('214446.csv',na_values='--')\n",
    "a6 = pd.read_csv('214447.csv',na_values='--')\n",
    "a7 = pd.read_csv('214448.csv',na_values='--')\n",
    "a8 = pd.read_csv('214449.csv',na_values='--')\n",
    "a9 = pd.read_csv('214450.csv',na_values='--')\n",
    "a10 = pd.read_csv('214451.csv',na_values='--')\n",
    "a11 = pd.read_csv('214452.csv',na_values='--')\n",
    "a12 = pd.read_csv('214453.csv',na_values='--')\n",
    "a13 = pd.read_csv('214454.csv',na_values='--')\n",
    "a14 = pd.read_csv('214455.csv',na_values='--')\n",
    "a15 = pd.read_csv('214456.csv',na_values='--')\n",
    "st = pd.read_csv('seat_no_name_monther_name.csv')\n"
   ]
  },
  {
   "cell_type": "code",
   "execution_count": 30,
   "metadata": {},
   "outputs": [],
   "source": [
    "a1 = a1.dropna(how='all',axis=1)\n",
    "a2 = a2.dropna(how='all',axis=1)\n",
    "a3 = a3.dropna(how='all',axis=1)\n",
    "a4 = a4.dropna(how='all',axis=1)\n",
    "a5 = a5.dropna(how='all',axis=1)\n",
    "a5 = a5.dropna(how='all',axis=1)\n",
    "a6 = a6.dropna(how='all',axis=1)\n",
    "a7 = a7.dropna(how='all',axis=1)\n",
    "a8 = a8.dropna(how='all',axis=1)\n",
    "a9 = a9.dropna(how='all',axis=1)\n",
    "a10 = a10.dropna(how='all',axis=1)\n",
    "a11 = a11.dropna(how='all',axis=1)\n",
    "a12 = a12.dropna(how='all',axis=1)\n",
    "a13 = a13.dropna(how='all',axis=1)\n",
    "a14 = a14.dropna(how='all',axis=1)\n",
    "a15 = a15.dropna(how='all',axis=1)"
   ]
  },
  {
   "cell_type": "code",
   "execution_count": 84,
   "metadata": {},
   "outputs": [],
   "source": [
    "st = pd.read_csv('seat_no_name_monther_name.csv')\n",
    "r = pd.concat([st,a1,a2,a4,a5,a6,a7,a8,a9,a10,a11,a12,a13,a14,a15],axis=1)\n",
    "r.to_csv('final_students.csv',index=False)"
   ]
  },
  {
   "cell_type": "code",
   "execution_count": 27,
   "metadata": {},
   "outputs": [],
   "source": [
    "import numpy as np \n",
    "data = {\n",
    "  \"name\": [\"Sally\", \"Mary\", \"John\"],\n",
    "  \"age\": [np.nan,np.nan,np.nan],\n",
    "  \"qualified\": [True, False, False]\n",
    "}\n",
    "\n",
    "df = pd.DataFrame(data)"
   ]
  },
  {
   "cell_type": "code",
   "execution_count": 17,
   "metadata": {},
   "outputs": [
    {
     "data": {
      "text/html": [
       "<div>\n",
       "<style scoped>\n",
       "    .dataframe tbody tr th:only-of-type {\n",
       "        vertical-align: middle;\n",
       "    }\n",
       "\n",
       "    .dataframe tbody tr th {\n",
       "        vertical-align: top;\n",
       "    }\n",
       "\n",
       "    .dataframe thead th {\n",
       "        text-align: right;\n",
       "    }\n",
       "</style>\n",
       "<table border=\"1\" class=\"dataframe\">\n",
       "  <thead>\n",
       "    <tr style=\"text-align: right;\">\n",
       "      <th></th>\n",
       "      <th>Unnamed: 0</th>\n",
       "      <th>seat_no</th>\n",
       "      <th>name</th>\n",
       "      <th>mother_name</th>\n",
       "      <th>PRN_NO</th>\n",
       "      <th>subject</th>\n",
       "      <th>OE</th>\n",
       "      <th>TH</th>\n",
       "      <th>OE_TH</th>\n",
       "      <th>TOT</th>\n",
       "      <th>...</th>\n",
       "      <th>PTS1.12</th>\n",
       "      <th>PTS2.12</th>\n",
       "      <th>subject.13</th>\n",
       "      <th>TW.6</th>\n",
       "      <th>PR.5</th>\n",
       "      <th>TOT.13</th>\n",
       "      <th>CRD.13</th>\n",
       "      <th>GRD.13</th>\n",
       "      <th>PTS1.13</th>\n",
       "      <th>PTS2.13</th>\n",
       "    </tr>\n",
       "  </thead>\n",
       "  <tbody>\n",
       "    <tr>\n",
       "      <th>0</th>\n",
       "      <td>0</td>\n",
       "      <td>S150088539</td>\n",
       "      <td>AVHAD KALPESH BALIRAM</td>\n",
       "      <td>RANJANABAI</td>\n",
       "      <td>71842239C</td>\n",
       "      <td>214441</td>\n",
       "      <td>030/050</td>\n",
       "      <td>024/050</td>\n",
       "      <td>054/100</td>\n",
       "      <td>54</td>\n",
       "      <td>...</td>\n",
       "      <td>9</td>\n",
       "      <td>18</td>\n",
       "      <td>214456</td>\n",
       "      <td>023/025</td>\n",
       "      <td>042/050</td>\n",
       "      <td>86</td>\n",
       "      <td>1</td>\n",
       "      <td>O</td>\n",
       "      <td>10</td>\n",
       "      <td>10</td>\n",
       "    </tr>\n",
       "    <tr>\n",
       "      <th>1</th>\n",
       "      <td>1</td>\n",
       "      <td>S150088540</td>\n",
       "      <td>AWACHAR SHOBHANA BHAURAO</td>\n",
       "      <td>SUNITATAI</td>\n",
       "      <td>71842242C</td>\n",
       "      <td>214441</td>\n",
       "      <td>013/050</td>\n",
       "      <td>011/050</td>\n",
       "      <td>024/100</td>\n",
       "      <td>FF</td>\n",
       "      <td>...</td>\n",
       "      <td>8</td>\n",
       "      <td>16</td>\n",
       "      <td>214456</td>\n",
       "      <td>021/025</td>\n",
       "      <td>026/050</td>\n",
       "      <td>62</td>\n",
       "      <td>1</td>\n",
       "      <td>A</td>\n",
       "      <td>8</td>\n",
       "      <td>8</td>\n",
       "    </tr>\n",
       "    <tr>\n",
       "      <th>2</th>\n",
       "      <td>2</td>\n",
       "      <td>S150088541</td>\n",
       "      <td>AWALE PRAJAKTA SUNIL</td>\n",
       "      <td>KUSUM</td>\n",
       "      <td>71842243M</td>\n",
       "      <td>214441</td>\n",
       "      <td>021/050</td>\n",
       "      <td>026/050</td>\n",
       "      <td>047/100</td>\n",
       "      <td>47</td>\n",
       "      <td>...</td>\n",
       "      <td>9</td>\n",
       "      <td>18</td>\n",
       "      <td>214456</td>\n",
       "      <td>023/025</td>\n",
       "      <td>045/050</td>\n",
       "      <td>90</td>\n",
       "      <td>1</td>\n",
       "      <td>O</td>\n",
       "      <td>10</td>\n",
       "      <td>10</td>\n",
       "    </tr>\n",
       "    <tr>\n",
       "      <th>3</th>\n",
       "      <td>3</td>\n",
       "      <td>S150088542</td>\n",
       "      <td>BHOSALE RUSHIKESH VIJAY</td>\n",
       "      <td>HIRABAI</td>\n",
       "      <td>71842298J</td>\n",
       "      <td>214441</td>\n",
       "      <td>022/050</td>\n",
       "      <td>035/050</td>\n",
       "      <td>057/100</td>\n",
       "      <td>57</td>\n",
       "      <td>...</td>\n",
       "      <td>10</td>\n",
       "      <td>20</td>\n",
       "      <td>214456</td>\n",
       "      <td>023/025</td>\n",
       "      <td>041/050</td>\n",
       "      <td>85</td>\n",
       "      <td>1</td>\n",
       "      <td>O</td>\n",
       "      <td>10</td>\n",
       "      <td>10</td>\n",
       "    </tr>\n",
       "    <tr>\n",
       "      <th>4</th>\n",
       "      <td>4</td>\n",
       "      <td>S150088543</td>\n",
       "      <td>BHOSALE VISHWAJEET VILAS</td>\n",
       "      <td>SUNITA</td>\n",
       "      <td>71842300D</td>\n",
       "      <td>214441</td>\n",
       "      <td>016/050</td>\n",
       "      <td>24$/050</td>\n",
       "      <td>040/100</td>\n",
       "      <td>40</td>\n",
       "      <td>...</td>\n",
       "      <td>10</td>\n",
       "      <td>20</td>\n",
       "      <td>214456</td>\n",
       "      <td>023/025</td>\n",
       "      <td>041/050</td>\n",
       "      <td>85</td>\n",
       "      <td>1</td>\n",
       "      <td>O</td>\n",
       "      <td>10</td>\n",
       "      <td>10</td>\n",
       "    </tr>\n",
       "  </tbody>\n",
       "</table>\n",
       "<p>5 rows × 123 columns</p>\n",
       "</div>"
      ],
      "text/plain": [
       "   Unnamed: 0     seat_no                      name mother_name     PRN_NO  \\\n",
       "0           0  S150088539     AVHAD KALPESH BALIRAM  RANJANABAI  71842239C   \n",
       "1           1  S150088540  AWACHAR SHOBHANA BHAURAO   SUNITATAI  71842242C   \n",
       "2           2  S150088541      AWALE PRAJAKTA SUNIL       KUSUM  71842243M   \n",
       "3           3  S150088542   BHOSALE RUSHIKESH VIJAY     HIRABAI  71842298J   \n",
       "4           4  S150088543  BHOSALE VISHWAJEET VILAS      SUNITA  71842300D   \n",
       "\n",
       "   subject       OE       TH    OE_TH TOT  ...  PTS1.12 PTS2.12  subject.13  \\\n",
       "0   214441  030/050  024/050  054/100  54  ...        9      18      214456   \n",
       "1   214441  013/050  011/050  024/100  FF  ...        8      16      214456   \n",
       "2   214441  021/050  026/050  047/100  47  ...        9      18      214456   \n",
       "3   214441  022/050  035/050  057/100  57  ...       10      20      214456   \n",
       "4   214441  016/050  24$/050  040/100  40  ...       10      20      214456   \n",
       "\n",
       "      TW.6     PR.5 TOT.13 CRD.13 GRD.13 PTS1.13  PTS2.13  \n",
       "0  023/025  042/050     86      1      O      10       10  \n",
       "1  021/025  026/050     62      1      A       8        8  \n",
       "2  023/025  045/050     90      1      O      10       10  \n",
       "3  023/025  041/050     85      1      O      10       10  \n",
       "4  023/025  041/050     85      1      O      10       10  \n",
       "\n",
       "[5 rows x 123 columns]"
      ]
     },
     "execution_count": 17,
     "metadata": {},
     "output_type": "execute_result"
    }
   ],
   "source": [
    "# df.head()\n",
    "import pandas as pd \n",
    "df = pd.read_csv('final_students.csv')\n",
    "\n",
    "df.head()"
   ]
  },
  {
   "cell_type": "code",
   "execution_count": 63,
   "metadata": {},
   "outputs": [
    {
     "data": {
      "text/plain": [
       "<AxesSubplot: ylabel='PTS2.12'>"
      ]
     },
     "execution_count": 63,
     "metadata": {},
     "output_type": "execute_result"
    },
    {
     "data": {
      "image/png": "[encoded data removed]",
      "text/plain": [
       "<Figure size 640x480 with 1 Axes>"
      ]
     },
     "metadata": {},
     "output_type": "display_data"
    }
   ],
   "source": [
    "import seaborn as sns \n",
    "sns.barplot(data=df,y='PTS2.12')"
   ]
  },
  {
   "cell_type": "code",
   "execution_count": 84,
   "metadata": {},
   "outputs": [],
   "source": [
    "# sns.countplot(x='PST2',data=df)"
   ]
  },
  {
   "cell_type": "code",
   "execution_count": 12,
   "metadata": {},
   "outputs": [
    {
     "name": "stdout",
     "output_type": "stream",
     "text": [
      "Unnamed: 0 -> int64\n",
      "seat_no -> object\n",
      "name -> object\n",
      "mother_name -> object\n",
      "PRN_NO -> object\n",
      "subject -> int64\n",
      "OE -> object\n",
      "TH -> object\n",
      "OE_TH -> object\n",
      "TOT -> object\n",
      "CRD -> int64\n",
      "GRD -> object\n",
      "PTS1 -> int64\n",
      "PTS2 -> int64\n",
      "subject.1 -> int64\n",
      "OE.1 -> object\n",
      "TH.1 -> object\n",
      "OE_TH.1 -> object\n",
      "TOT.1 -> object\n",
      "CRD.1 -> int64\n",
      "GRD.1 -> object\n",
      "PTS1.1 -> int64\n",
      "PTS2.1 -> int64\n",
      "subject.2 -> int64\n",
      "OE.2 -> object\n",
      "TH.2 -> object\n",
      "OE_TH.2 -> object\n",
      "TOT.2 -> object\n",
      "CRD.2 -> int64\n",
      "GRD.2 -> object\n",
      "PTS1.2 -> int64\n",
      "PTS2.2 -> int64\n",
      "subject.3 -> int64\n",
      "TW -> object\n",
      "PR -> object\n",
      "TOT.3 -> object\n",
      "CRD.3 -> int64\n",
      "GRD.3 -> object\n",
      "PTS1.3 -> int64\n",
      "PTS2.3 -> int64\n",
      "subject.4 -> int64\n",
      "TW.1 -> object\n",
      "PR.1 -> object\n",
      "TOT.4 -> object\n",
      "CRD.4 -> int64\n",
      "GRD.4 -> object\n",
      "PTS1.4 -> int64\n",
      "PTS2.4 -> int64\n",
      "subject.5 -> int64\n",
      "TW.2 -> object\n",
      "PR.2 -> object\n",
      "TOT.5 -> object\n",
      "CRD.5 -> int64\n",
      "GRD.5 -> object\n",
      "PTS1.5 -> int64\n",
      "PTS2.5 -> int64\n",
      "subject.6 -> int64\n",
      "TW.3 -> object\n",
      "TOT.6 -> int64\n",
      "CRD.6 -> int64\n",
      "GRD.6 -> object\n",
      "PTS1.6 -> int64\n",
      "PTS2.6 -> int64\n",
      "subject.7 -> int64\n",
      "OE.3 -> object\n",
      "TH.3 -> object\n",
      "OE_TH.3 -> object\n",
      "TOT.7 -> object\n",
      "CRD.7 -> int64\n",
      "GRD.7 -> object\n",
      "PTS1.7 -> int64\n",
      "PTS2.7 -> int64\n",
      "subject.8 -> int64\n",
      "OE.4 -> object\n",
      "TH.4 -> object\n",
      "OE_TH.4 -> object\n",
      "TOT.8 -> object\n",
      "CRD.8 -> int64\n",
      "GRD.8 -> object\n",
      "PTS1.8 -> int64\n",
      "PTS2.8 -> int64\n",
      "subject.9 -> int64\n",
      "OE.5 -> object\n",
      "TH.5 -> object\n",
      "OE_TH.5 -> object\n",
      "TOT.9 -> object\n",
      "CRD.9 -> int64\n",
      "GRD.9 -> object\n",
      "PTS1.9 -> int64\n",
      "PTS2.9 -> int64\n",
      "subject.10 -> int64\n",
      "OE.6 -> object\n",
      "TH.6 -> object\n",
      "OE_TH.6 -> object\n",
      "TOT.10 -> object\n",
      "CRD.10 -> int64\n",
      "GRD.10 -> object\n",
      "PTS1.10 -> int64\n",
      "PTS2.10 -> int64\n",
      "subject.11 -> int64\n",
      "TW.4 -> object\n",
      "PR.3 -> object\n",
      "TOT.11 -> object\n",
      "CRD.11 -> int64\n",
      "GRD.11 -> object\n",
      "PTS1.11 -> int64\n",
      "PTS2.11 -> int64\n",
      "subject.12 -> int64\n",
      "TW.5 -> object\n",
      "PR.4 -> object\n",
      "TOT.12 -> object\n",
      "CRD.12 -> int64\n",
      "GRD.12 -> object\n",
      "PTS1.12 -> int64\n",
      "PTS2.12 -> int64\n",
      "subject.13 -> int64\n",
      "TW.6 -> object\n",
      "PR.5 -> object\n",
      "TOT.13 -> object\n",
      "CRD.13 -> int64\n",
      "GRD.13 -> object\n",
      "PTS1.13 -> int64\n",
      "PTS2.13 -> int64\n"
     ]
    }
   ],
   "source": [
    "import seaborn as sns \n",
    "for i in df.columns:\n",
    "    print(i,'->',df[i].dtype)"
   ]
  },
  {
   "cell_type": "code",
   "execution_count": 30,
   "metadata": {},
   "outputs": [],
   "source": [
    "\n",
    "import matplotlib.pyplot as plt \n",
    "# plt.pie(df['GRD.13'])"
   ]
  },
  {
   "cell_type": "code",
   "execution_count": 52,
   "metadata": {},
   "outputs": [
    {
     "data": {
      "text/plain": [
       "[107, 36, 20, 14, 9, 5, 3]"
      ]
     },
     "execution_count": 52,
     "metadata": {},
     "output_type": "execute_result"
    }
   ],
   "source": [
    "sizes = list(df['GRD.13'].value_counts())"
   ]
  },
  {
   "cell_type": "code",
   "execution_count": 47,
   "metadata": {},
   "outputs": [
    {
     "data": {
      "text/plain": [
       "<matplotlib.legend.Legend at 0x197ca697970>"
      ]
     },
     "execution_count": 47,
     "metadata": {},
     "output_type": "execute_result"
    },
    {
     "data": {
      "image/png": "[encoded data removed]",
      "text/plain": [
       "<Figure size 640x480 with 1 Axes>"
      ]
     },
     "metadata": {},
     "output_type": "display_data"
    }
   ],
   "source": [
    "plt.pie([107, 36, 20, 14, 9, 5, 3],labels=['O', 'A', 'F', 'A+', 'B+', 'B', 'C'])\n",
    "# ,explode=[0.1,0,0,0,0,0,0]\n",
    "plt.legend(title='Grades')"
   ]
  },
  {
   "cell_type": "code",
   "execution_count": 70,
   "metadata": {},
   "outputs": [],
   "source": [
    "# sns.barplot(y='names',x='PST2',data=df)\n",
    "# a = df['PTS2.12']\n",
    "import plotly.express as px\n",
    "# # data_canada = px.data.gapminder().query(\"country == 'Canada'\")\n",
    "# fig = px.bar(a)\n",
    "# fig.show()"
   ]
  },
  {
   "cell_type": "code",
   "execution_count": 72,
   "metadata": {},
   "outputs": [],
   "source": [
    "df.drop('Unnamed: 0',axis=1,inplace=True)"
   ]
  },
  {
   "cell_type": "code",
   "execution_count": 78,
   "metadata": {},
   "outputs": [],
   "source": [
    "df = df.set_index('PRN_NO')"
   ]
  },
  {
   "cell_type": "code",
   "execution_count": 96,
   "metadata": {},
   "outputs": [],
   "source": [
    "def get_student_details(seatNo):\n",
    "    index_value = df[df['seat_no'] == seatNo].index[0]\n",
    "    return df.index_value\n",
    "    "
   ]
  },
  {
   "cell_type": "code",
   "execution_count": 97,
   "metadata": {},
   "outputs": [
    {
     "ename": "AttributeError",
     "evalue": "'DataFrame' object has no attribute 'index_value'",
     "output_type": "error",
     "traceback": [
      "\u001b[1;31m---------------------------------------------------------------------------\u001b[0m",
      "\u001b[1;31mAttributeError\u001b[0m                            Traceback (most recent call last)",
      "Cell \u001b[1;32mIn [97], line 1\u001b[0m\n\u001b[1;32m----> 1\u001b[0m get_student_details(\u001b[38;5;124m'\u001b[39m\u001b[38;5;124mS150088540\u001b[39m\u001b[38;5;124m'\u001b[39m)\n",
      "Cell \u001b[1;32mIn [96], line 3\u001b[0m, in \u001b[0;36mget_student_details\u001b[1;34m(seatNo)\u001b[0m\n\u001b[0;32m      1\u001b[0m \u001b[38;5;28;01mdef\u001b[39;00m \u001b[38;5;21mget_student_details\u001b[39m(seatNo):\n\u001b[0;32m      2\u001b[0m     index_value \u001b[38;5;241m=\u001b[39m df[df[\u001b[38;5;124m'\u001b[39m\u001b[38;5;124mseat_no\u001b[39m\u001b[38;5;124m'\u001b[39m] \u001b[38;5;241m==\u001b[39m seatNo]\u001b[38;5;241m.\u001b[39mindex[\u001b[38;5;241m0\u001b[39m]\n\u001b[1;32m----> 3\u001b[0m     \u001b[38;5;28;01mreturn\u001b[39;00m \u001b[43mdf\u001b[49m\u001b[38;5;241;43m.\u001b[39;49m\u001b[43mindex_value\u001b[49m\n",
      "File \u001b[1;32mc:\\Users\\Suraj\\.vscode\\SPPU-Result-Convertor\\env\\lib\\site-packages\\pandas\\core\\generic.py:5907\u001b[0m, in \u001b[0;36mNDFrame.__getattr__\u001b[1;34m(self, name)\u001b[0m\n\u001b[0;32m   5900\u001b[0m \u001b[39mif\u001b[39;00m (\n\u001b[0;32m   5901\u001b[0m     name \u001b[39mnot\u001b[39;00m \u001b[39min\u001b[39;00m \u001b[39mself\u001b[39m\u001b[39m.\u001b[39m_internal_names_set\n\u001b[0;32m   5902\u001b[0m     \u001b[39mand\u001b[39;00m name \u001b[39mnot\u001b[39;00m \u001b[39min\u001b[39;00m \u001b[39mself\u001b[39m\u001b[39m.\u001b[39m_metadata\n\u001b[0;32m   5903\u001b[0m     \u001b[39mand\u001b[39;00m name \u001b[39mnot\u001b[39;00m \u001b[39min\u001b[39;00m \u001b[39mself\u001b[39m\u001b[39m.\u001b[39m_accessors\n\u001b[0;32m   5904\u001b[0m     \u001b[39mand\u001b[39;00m \u001b[39mself\u001b[39m\u001b[39m.\u001b[39m_info_axis\u001b[39m.\u001b[39m_can_hold_identifiers_and_holds_name(name)\n\u001b[0;32m   5905\u001b[0m ):\n\u001b[0;32m   5906\u001b[0m     \u001b[39mreturn\u001b[39;00m \u001b[39mself\u001b[39m[name]\n\u001b[1;32m-> 5907\u001b[0m \u001b[39mreturn\u001b[39;00m \u001b[39mobject\u001b[39;49m\u001b[39m.\u001b[39;49m\u001b[39m__getattribute__\u001b[39;49m(\u001b[39mself\u001b[39;49m, name)\n",
      "\u001b[1;31mAttributeError\u001b[0m: 'DataFrame' object has no attribute 'index_value'"
     ]
    }
   ],
   "source": [
    "get_student_details('S150088540')"
   ]
  },
  {
   "cell_type": "code",
   "execution_count": 95,
   "metadata": {},
   "outputs": [
    {
     "data": {
      "text/plain": [
       "array([ True, False, False, False, False, False, False, False, False,\n",
       "       False, False, False, False, False, False, False, False, False,\n",
       "       False, False, False, False, False, False, False, False, False,\n",
       "       False, False, False, False, False, False, False, False, False,\n",
       "       False, False, False, False, False, False, False, False, False,\n",
       "       False, False, False, False, False, False, False, False, False,\n",
       "       False, False, False, False, False, False, False, False, False,\n",
       "       False, False, False, False, False, False, False, False, False,\n",
       "       False, False, False, False, False, False, False, False, False,\n",
       "       False, False, False, False, False, False, False, False, False,\n",
       "       False, False, False, False, False, False, False, False, False,\n",
       "       False, False, False, False, False, False, False, False, False,\n",
       "       False, False, False, False, False, False, False, False, False,\n",
       "       False, False, False, False, False, False, False, False, False,\n",
       "       False, False, False, False, False, False, False, False, False,\n",
       "       False, False, False, False, False, False, False, False, False,\n",
       "       False, False, False, False, False, False, False, False, False,\n",
       "       False, False, False, False, False, False, False, False, False,\n",
       "       False, False, False, False, False, False, False, False, False,\n",
       "       False, False, False, False, False, False, False, False, False,\n",
       "       False, False, False, False, False, False, False, False, False,\n",
       "       False, False, False, False, False])"
      ]
     },
     "execution_count": 95,
     "metadata": {},
     "output_type": "execute_result"
    }
   ],
   "source": [
    "df.index == '71842239C'"
   ]
  },
  {
   "cell_type": "code",
   "execution_count": null,
   "metadata": {},
   "outputs": [],
   "source": []
  }
 ],
 "metadata": {
  "kernelspec": {
   "display_name": "Python 3.8.2 ('env': venv)",
   "language": "python",
   "name": "python3"
  },
  "language_info": {
   "codemirror_mode": {
    "name": "ipython",
    "version": 3
   },
   "file_extension": ".py",
   "mimetype": "text/x-python",
   "name": "python",
   "nbconvert_exporter": "python",
   "pygments_lexer": "ipython3",
   "version": "3.8.2"
  },
  "orig_nbformat": 4,
  "vscode": {
   "interpreter": {
    "hash": "5cd46a275f8822b6fef7c1f085dcd5568910965774c2e3290ec37691aed9739e"
   }
  }
 },
 "nbformat": 4,
 "nbformat_minor": 2
}
