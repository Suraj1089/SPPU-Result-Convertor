{
 "cells": [
  {
   "cell_type": "code",
   "execution_count": 2,
   "metadata": {},
   "outputs": [],
   "source": [
    "import numpy \n",
    "import pandas as pd "
   ]
  },
  {
   "cell_type": "code",
   "execution_count": 13,
   "metadata": {},
   "outputs": [],
   "source": [
    "a1 = pd.read_csv('214441.csv',na_values='--')\n",
    "a2 = pd.read_csv('214442.csv',na_values='--')\n",
    "a3 = pd.read_csv('214443.csv',na_values='--')\n",
    "a4 = pd.read_csv('214444.csv',na_values='--')\n",
    "a5 = pd.read_csv('214445.csv',na_values='--')\n",
    "a5 = pd.read_csv('214446.csv',na_values='--')\n",
    "a6 = pd.read_csv('214447.csv',na_values='--')\n",
    "a7 = pd.read_csv('214448.csv',na_values='--')\n",
    "a8 = pd.read_csv('214449.csv',na_values='--')\n",
    "a9 = pd.read_csv('214450.csv',na_values='--')\n",
    "a10 = pd.read_csv('214451.csv',na_values='--')\n",
    "a11 = pd.read_csv('214452.csv',na_values='--')\n",
    "a12 = pd.read_csv('214453.csv',na_values='--')\n",
    "a13 = pd.read_csv('214454.csv',na_values='--')\n",
    "a14 = pd.read_csv('214455.csv',na_values='--')\n",
    "a15 = pd.read_csv('214456.csv',na_values='--')\n",
    "st = pd.read_csv('seat_no_name_monther_name.csv')\n"
   ]
  },
  {
   "cell_type": "code",
   "execution_count": 30,
   "metadata": {},
   "outputs": [],
   "source": [
    "a1 = a1.dropna(how='all',axis=1)\n",
    "a2 = a2.dropna(how='all',axis=1)\n",
    "a3 = a3.dropna(how='all',axis=1)\n",
    "a4 = a4.dropna(how='all',axis=1)\n",
    "a5 = a5.dropna(how='all',axis=1)\n",
    "a5 = a5.dropna(how='all',axis=1)\n",
    "a6 = a6.dropna(how='all',axis=1)\n",
    "a7 = a7.dropna(how='all',axis=1)\n",
    "a8 = a8.dropna(how='all',axis=1)\n",
    "a9 = a9.dropna(how='all',axis=1)\n",
    "a10 = a10.dropna(how='all',axis=1)\n",
    "a11 = a11.dropna(how='all',axis=1)\n",
    "a12 = a12.dropna(how='all',axis=1)\n",
    "a13 = a13.dropna(how='all',axis=1)\n",
    "a14 = a14.dropna(how='all',axis=1)\n",
    "a15 = a15.dropna(how='all',axis=1)"
   ]
  },
  {
   "cell_type": "code",
   "execution_count": 84,
   "metadata": {},
   "outputs": [],
   "source": [
    "st = pd.read_csv('seat_no_name_monther_name.csv')\n",
    "r = pd.concat([st,a1,a2,a4,a5,a6,a7,a8,a9,a10,a11,a12,a13,a14,a15],axis=1)\n",
    "r.to_csv('final_students.csv',index=False)"
   ]
  },
  {
   "cell_type": "code",
   "execution_count": 27,
   "metadata": {},
   "outputs": [],
   "source": [
    "import numpy as np \n",
    "data = {\n",
    "  \"name\": [\"Sally\", \"Mary\", \"John\"],\n",
    "  \"age\": [np.nan,np.nan,np.nan],\n",
    "  \"qualified\": [True, False, False]\n",
    "}\n",
    "\n",
    "df = pd.DataFrame(data)"
   ]
  },
  {
   "cell_type": "code",
   "execution_count": 28,
   "metadata": {},
   "outputs": [
    {
     "data": {
      "text/html": [
       "<div>\n",
       "<style scoped>\n",
       "    .dataframe tbody tr th:only-of-type {\n",
       "        vertical-align: middle;\n",
       "    }\n",
       "\n",
       "    .dataframe tbody tr th {\n",
       "        vertical-align: top;\n",
       "    }\n",
       "\n",
       "    .dataframe thead th {\n",
       "        text-align: right;\n",
       "    }\n",
       "</style>\n",
       "<table border=\"1\" class=\"dataframe\">\n",
       "  <thead>\n",
       "    <tr style=\"text-align: right;\">\n",
       "      <th></th>\n",
       "      <th>name</th>\n",
       "      <th>age</th>\n",
       "      <th>qualified</th>\n",
       "    </tr>\n",
       "  </thead>\n",
       "  <tbody>\n",
       "    <tr>\n",
       "      <th>0</th>\n",
       "      <td>Sally</td>\n",
       "      <td>NaN</td>\n",
       "      <td>True</td>\n",
       "    </tr>\n",
       "    <tr>\n",
       "      <th>1</th>\n",
       "      <td>Mary</td>\n",
       "      <td>NaN</td>\n",
       "      <td>False</td>\n",
       "    </tr>\n",
       "    <tr>\n",
       "      <th>2</th>\n",
       "      <td>John</td>\n",
       "      <td>NaN</td>\n",
       "      <td>False</td>\n",
       "    </tr>\n",
       "  </tbody>\n",
       "</table>\n",
       "</div>"
      ],
      "text/plain": [
       "    name  age  qualified\n",
       "0  Sally  NaN       True\n",
       "1   Mary  NaN      False\n",
       "2   John  NaN      False"
      ]
     },
     "execution_count": 28,
     "metadata": {},
     "output_type": "execute_result"
    }
   ],
   "source": [
    "df.head()"
   ]
  },
  {
   "cell_type": "code",
   "execution_count": 29,
   "metadata": {},
   "outputs": [
    {
     "data": {
      "text/html": [
       "<div>\n",
       "<style scoped>\n",
       "    .dataframe tbody tr th:only-of-type {\n",
       "        vertical-align: middle;\n",
       "    }\n",
       "\n",
       "    .dataframe tbody tr th {\n",
       "        vertical-align: top;\n",
       "    }\n",
       "\n",
       "    .dataframe thead th {\n",
       "        text-align: right;\n",
       "    }\n",
       "</style>\n",
       "<table border=\"1\" class=\"dataframe\">\n",
       "  <thead>\n",
       "    <tr style=\"text-align: right;\">\n",
       "      <th></th>\n",
       "      <th>name</th>\n",
       "      <th>qualified</th>\n",
       "    </tr>\n",
       "  </thead>\n",
       "  <tbody>\n",
       "    <tr>\n",
       "      <th>0</th>\n",
       "      <td>Sally</td>\n",
       "      <td>True</td>\n",
       "    </tr>\n",
       "    <tr>\n",
       "      <th>1</th>\n",
       "      <td>Mary</td>\n",
       "      <td>False</td>\n",
       "    </tr>\n",
       "    <tr>\n",
       "      <th>2</th>\n",
       "      <td>John</td>\n",
       "      <td>False</td>\n",
       "    </tr>\n",
       "  </tbody>\n",
       "</table>\n",
       "</div>"
      ],
      "text/plain": [
       "    name  qualified\n",
       "0  Sally       True\n",
       "1   Mary      False\n",
       "2   John      False"
      ]
     },
     "execution_count": 29,
     "metadata": {},
     "output_type": "execute_result"
    }
   ],
   "source": [
    "df.dropna(how='all',axis=1)"
   ]
  },
  {
   "cell_type": "code",
   "execution_count": null,
   "metadata": {},
   "outputs": [],
   "source": []
  }
 ],
 "metadata": {
  "kernelspec": {
   "display_name": "Python 3.8.2 ('env': venv)",
   "language": "python",
   "name": "python3"
  },
  "language_info": {
   "codemirror_mode": {
    "name": "ipython",
    "version": 3
   },
   "file_extension": ".py",
   "mimetype": "text/x-python",
   "name": "python",
   "nbconvert_exporter": "python",
   "pygments_lexer": "ipython3",
   "version": "3.8.2"
  },
  "orig_nbformat": 4,
  "vscode": {
   "interpreter": {
    "hash": "5cd46a275f8822b6fef7c1f085dcd5568910965774c2e3290ec37691aed9739e"
   }
  }
 },
 "nbformat": 4,
 "nbformat_minor": 2
}
