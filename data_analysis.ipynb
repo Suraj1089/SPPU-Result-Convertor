{
 "cells": [
  {
   "cell_type": "code",
   "execution_count": 1,
   "metadata": {},
   "outputs": [],
   "source": [
    "import numpy \n",
    "import pandas as pd "
   ]
  },
  {
   "cell_type": "code",
   "execution_count": 56,
   "metadata": {},
   "outputs": [],
   "source": [
    "a1 = pd.read_csv('subject_21441.csv')\n",
    "a2 = pd.read_csv('subject_214442.csv')\n",
    "a3 = pd.read_csv('subject_214443.csv')\n",
    "a4 = pd.read_csv('subject_214444.csv')\n",
    "a5 = pd.read_csv('subject_214445.csv')\n",
    "a5 = pd.read_csv('subject_214446.csv')\n",
    "a6 = pd.read_csv('subject_214447.csv')\n",
    "a7 = pd.read_csv('subject_214448.csv')\n",
    "a8 = pd.read_csv('subject_214449.csv')\n",
    "a9 = pd.read_csv('subject_214450.csv')\n",
    "a10 = pd.read_csv('subject_214451.csv')\n",
    "a11 = pd.read_csv('subject_214452.csv')\n",
    "a12 = pd.read_csv('subject_214453.csv')\n",
    "a13 = pd.read_csv('subject_214454.csv')\n",
    "a14 = pd.read_csv('subject_214455.csv')\n",
    "a15 = pd.read_csv('subject_214456.csv')\n"
   ]
  },
  {
   "cell_type": "code",
   "execution_count": 58,
   "metadata": {},
   "outputs": [],
   "source": [
    "a1.drop('Unnamed: 0',axis=1,inplace=True)\n",
    "a2.drop('Unnamed: 0',axis=1,inplace=True)\n",
    "a3.drop('Unnamed: 0',axis=1,inplace=True)\n",
    "a4.drop('Unnamed: 0',axis=1,inplace=True)\n",
    "a5.drop('Unnamed: 0',axis=1,inplace=True)\n",
    "a6.drop('Unnamed: 0',axis=1,inplace=True)\n",
    "a7.drop('Unnamed: 0',axis=1,inplace=True)\n",
    "a8.drop('Unnamed: 0',axis=1,inplace=True)\n",
    "a9.drop('Unnamed: 0',axis=1,inplace=True)\n",
    "a10.drop('Unnamed: 0',axis=1,inplace=True)\n",
    "a11.drop('Unnamed: 0',axis=1,inplace=True)\n",
    "a12.drop('Unnamed: 0',axis=1,inplace=True)\n",
    "a13.drop('Unnamed: 0',axis=1,inplace=True)\n",
    "a14.drop('Unnamed: 0',axis=1,inplace=True)\n",
    "a15.drop('Unnamed: 0',axis=1,inplace=True)"
   ]
  },
  {
   "cell_type": "code",
   "execution_count": null,
   "metadata": {},
   "outputs": [],
   "source": [
    "simi_final = pd.concat([a1,a2,a3,a4,a5,a6,a7,a8,a9,a10,a11,a12,a13,a14,a15],axis=1)"
   ]
  },
  {
   "cell_type": "code",
   "execution_count": 59,
   "metadata": {},
   "outputs": [],
   "source": [
    "simi_final.head()\n",
    "simi_final.to_csv('s3.csv',columns=list(simi_final.columns))"
   ]
  },
  {
   "cell_type": "code",
   "execution_count": 60,
   "metadata": {},
   "outputs": [],
   "source": [
    "d = {'214441':a1,'214442':a2,'214443':a3}"
   ]
  },
  {
   "cell_type": "code",
   "execution_count": 62,
   "metadata": {},
   "outputs": [
    {
     "ename": "ValueError",
     "evalue": "If using all scalar values, you must pass an index",
     "output_type": "error",
     "traceback": [
      "\u001b[1;31m---------------------------------------------------------------------------\u001b[0m",
      "\u001b[1;31mValueError\u001b[0m                                Traceback (most recent call last)",
      "Cell \u001b[1;32mIn [62], line 1\u001b[0m\n\u001b[1;32m----> 1\u001b[0m f \u001b[38;5;241m=\u001b[39m \u001b[43mpd\u001b[49m\u001b[38;5;241;43m.\u001b[39;49m\u001b[43mDataFrame\u001b[49m\u001b[43m(\u001b[49m\u001b[43md\u001b[49m\u001b[43m)\u001b[49m\n",
      "File \u001b[1;32mc:\\Users\\Suraj\\OneDrive\\Desktop\\Streamlit_web_app\\env\\lib\\site-packages\\pandas\\core\\frame.py:636\u001b[0m, in \u001b[0;36mDataFrame.__init__\u001b[1;34m(self, data, index, columns, dtype, copy)\u001b[0m\n\u001b[0;32m    630\u001b[0m     mgr \u001b[39m=\u001b[39m \u001b[39mself\u001b[39m\u001b[39m.\u001b[39m_init_mgr(\n\u001b[0;32m    631\u001b[0m         data, axes\u001b[39m=\u001b[39m{\u001b[39m\"\u001b[39m\u001b[39mindex\u001b[39m\u001b[39m\"\u001b[39m: index, \u001b[39m\"\u001b[39m\u001b[39mcolumns\u001b[39m\u001b[39m\"\u001b[39m: columns}, dtype\u001b[39m=\u001b[39mdtype, copy\u001b[39m=\u001b[39mcopy\n\u001b[0;32m    632\u001b[0m     )\n\u001b[0;32m    634\u001b[0m \u001b[39melif\u001b[39;00m \u001b[39misinstance\u001b[39m(data, \u001b[39mdict\u001b[39m):\n\u001b[0;32m    635\u001b[0m     \u001b[39m# GH#38939 de facto copy defaults to False only in non-dict cases\u001b[39;00m\n\u001b[1;32m--> 636\u001b[0m     mgr \u001b[39m=\u001b[39m dict_to_mgr(data, index, columns, dtype\u001b[39m=\u001b[39;49mdtype, copy\u001b[39m=\u001b[39;49mcopy, typ\u001b[39m=\u001b[39;49mmanager)\n\u001b[0;32m    637\u001b[0m \u001b[39melif\u001b[39;00m \u001b[39misinstance\u001b[39m(data, ma\u001b[39m.\u001b[39mMaskedArray):\n\u001b[0;32m    638\u001b[0m     \u001b[39mimport\u001b[39;00m \u001b[39mnumpy\u001b[39;00m\u001b[39m.\u001b[39;00m\u001b[39mma\u001b[39;00m\u001b[39m.\u001b[39;00m\u001b[39mmrecords\u001b[39;00m \u001b[39mas\u001b[39;00m \u001b[39mmrecords\u001b[39;00m\n",
      "File \u001b[1;32mc:\\Users\\Suraj\\OneDrive\\Desktop\\Streamlit_web_app\\env\\lib\\site-packages\\pandas\\core\\internals\\construction.py:502\u001b[0m, in \u001b[0;36mdict_to_mgr\u001b[1;34m(data, index, columns, dtype, typ, copy)\u001b[0m\n\u001b[0;32m    494\u001b[0m     arrays \u001b[39m=\u001b[39m [\n\u001b[0;32m    495\u001b[0m         x\n\u001b[0;32m    496\u001b[0m         \u001b[39mif\u001b[39;00m \u001b[39mnot\u001b[39;00m \u001b[39mhasattr\u001b[39m(x, \u001b[39m\"\u001b[39m\u001b[39mdtype\u001b[39m\u001b[39m\"\u001b[39m) \u001b[39mor\u001b[39;00m \u001b[39mnot\u001b[39;00m \u001b[39misinstance\u001b[39m(x\u001b[39m.\u001b[39mdtype, ExtensionDtype)\n\u001b[0;32m    497\u001b[0m         \u001b[39melse\u001b[39;00m x\u001b[39m.\u001b[39mcopy()\n\u001b[0;32m    498\u001b[0m         \u001b[39mfor\u001b[39;00m x \u001b[39min\u001b[39;00m arrays\n\u001b[0;32m    499\u001b[0m     ]\n\u001b[0;32m    500\u001b[0m     \u001b[39m# TODO: can we get rid of the dt64tz special case above?\u001b[39;00m\n\u001b[1;32m--> 502\u001b[0m \u001b[39mreturn\u001b[39;00m arrays_to_mgr(arrays, columns, index, dtype\u001b[39m=\u001b[39;49mdtype, typ\u001b[39m=\u001b[39;49mtyp, consolidate\u001b[39m=\u001b[39;49mcopy)\n",
      "File \u001b[1;32mc:\\Users\\Suraj\\OneDrive\\Desktop\\Streamlit_web_app\\env\\lib\\site-packages\\pandas\\core\\internals\\construction.py:120\u001b[0m, in \u001b[0;36marrays_to_mgr\u001b[1;34m(arrays, columns, index, dtype, verify_integrity, typ, consolidate)\u001b[0m\n\u001b[0;32m    117\u001b[0m \u001b[39mif\u001b[39;00m verify_integrity:\n\u001b[0;32m    118\u001b[0m     \u001b[39m# figure out the index, if necessary\u001b[39;00m\n\u001b[0;32m    119\u001b[0m     \u001b[39mif\u001b[39;00m index \u001b[39mis\u001b[39;00m \u001b[39mNone\u001b[39;00m:\n\u001b[1;32m--> 120\u001b[0m         index \u001b[39m=\u001b[39m _extract_index(arrays)\n\u001b[0;32m    121\u001b[0m     \u001b[39melse\u001b[39;00m:\n\u001b[0;32m    122\u001b[0m         index \u001b[39m=\u001b[39m ensure_index(index)\n",
      "File \u001b[1;32mc:\\Users\\Suraj\\OneDrive\\Desktop\\Streamlit_web_app\\env\\lib\\site-packages\\pandas\\core\\internals\\construction.py:664\u001b[0m, in \u001b[0;36m_extract_index\u001b[1;34m(data)\u001b[0m\n\u001b[0;32m    661\u001b[0m         \u001b[39mraise\u001b[39;00m \u001b[39mValueError\u001b[39;00m(\u001b[39m\"\u001b[39m\u001b[39mPer-column arrays must each be 1-dimensional\u001b[39m\u001b[39m\"\u001b[39m)\n\u001b[0;32m    663\u001b[0m \u001b[39mif\u001b[39;00m \u001b[39mnot\u001b[39;00m indexes \u001b[39mand\u001b[39;00m \u001b[39mnot\u001b[39;00m raw_lengths:\n\u001b[1;32m--> 664\u001b[0m     \u001b[39mraise\u001b[39;00m \u001b[39mValueError\u001b[39;00m(\u001b[39m\"\u001b[39m\u001b[39mIf using all scalar values, you must pass an index\u001b[39m\u001b[39m\"\u001b[39m)\n\u001b[0;32m    666\u001b[0m \u001b[39melif\u001b[39;00m have_series:\n\u001b[0;32m    667\u001b[0m     index \u001b[39m=\u001b[39m union_indexes(indexes)\n",
      "\u001b[1;31mValueError\u001b[0m: If using all scalar values, you must pass an index"
     ]
    }
   ],
   "source": [
    "f = pd.DataFrame(d)"
   ]
  },
  {
   "cell_type": "code",
   "execution_count": 86,
   "metadata": {},
   "outputs": [
    {
     "data": {
      "text/plain": [
       "Index(['subject', 'OE', 'TH', 'OE_TH', 'TW', 'PR', 'OR', 'TOT', 'CRD', 'GRD',\n",
       "       'PTS1', 'PTS2'],\n",
       "      dtype='object')"
      ]
     },
     "execution_count": 86,
     "metadata": {},
     "output_type": "execute_result"
    }
   ],
   "source": [
    "a1.columns"
   ]
  },
  {
   "cell_type": "code",
   "execution_count": 54,
   "metadata": {},
   "outputs": [],
   "source": [
    "simi_final = pd.concat([a1,a2,a3],axis=1,join='inner')"
   ]
  },
  {
   "cell_type": "code",
   "execution_count": 94,
   "metadata": {},
   "outputs": [],
   "source": [
    "cols = []\n",
    "e = [a1,a2,a3,a4,a5,a6,a7,a8,a9,a10,a11,a12,a13,a14,a14]\n",
    "\n",
    "for i in e:\n",
    "    cols.append(i.columns)"
   ]
  },
  {
   "cell_type": "code",
   "execution_count": 115,
   "metadata": {},
   "outputs": [],
   "source": [
    "new_cols = []\n",
    "for i in cols:\n",
    "    new_cols.append(list(i))\n",
    "t_list = []\n",
    "for i in new_cols:\n",
    "    for j in i:\n",
    "        t_list.append(j)"
   ]
  },
  {
   "cell_type": "code",
   "execution_count": 116,
   "metadata": {},
   "outputs": [
    {
     "data": {
      "text/plain": [
       "180"
      ]
     },
     "execution_count": 116,
     "metadata": {},
     "output_type": "execute_result"
    }
   ],
   "source": [
    "len(t_list)"
   ]
  },
  {
   "cell_type": "code",
   "execution_count": 117,
   "metadata": {},
   "outputs": [
    {
     "data": {
      "text/plain": [
       "180"
      ]
     },
     "execution_count": 117,
     "metadata": {},
     "output_type": "execute_result"
    }
   ],
   "source": [
    "yy = [i for i in range(0,180)]\n",
    "len(yy)"
   ]
  },
  {
   "cell_type": "code",
   "execution_count": null,
   "metadata": {},
   "outputs": [],
   "source": []
  },
  {
   "cell_type": "code",
   "execution_count": 128,
   "metadata": {},
   "outputs": [],
   "source": [
    "g = pd.read_csv('final_students.csv',names=rr)"
   ]
  },
  {
   "cell_type": "code",
   "execution_count": 129,
   "metadata": {},
   "outputs": [
    {
     "data": {
      "text/html": [
       "<div>\n",
       "<style scoped>\n",
       "    .dataframe tbody tr th:only-of-type {\n",
       "        vertical-align: middle;\n",
       "    }\n",
       "\n",
       "    .dataframe tbody tr th {\n",
       "        vertical-align: top;\n",
       "    }\n",
       "\n",
       "    .dataframe thead th {\n",
       "        text-align: right;\n",
       "    }\n",
       "</style>\n",
       "<table border=\"1\" class=\"dataframe\">\n",
       "  <thead>\n",
       "    <tr style=\"text-align: right;\">\n",
       "      <th></th>\n",
       "      <th>seat_no</th>\n",
       "      <th>name</th>\n",
       "      <th>mother_name</th>\n",
       "      <th>PRN_NO</th>\n",
       "      <th>0</th>\n",
       "      <th>1</th>\n",
       "      <th>2</th>\n",
       "      <th>3</th>\n",
       "      <th>4</th>\n",
       "      <th>5</th>\n",
       "      <th>...</th>\n",
       "      <th>159</th>\n",
       "      <th>160</th>\n",
       "      <th>161</th>\n",
       "      <th>162</th>\n",
       "      <th>163</th>\n",
       "      <th>164</th>\n",
       "      <th>165</th>\n",
       "      <th>166</th>\n",
       "      <th>167</th>\n",
       "      <th>168</th>\n",
       "    </tr>\n",
       "  </thead>\n",
       "  <tbody>\n",
       "    <tr>\n",
       "      <th>0</th>\n",
       "      <td>0</td>\n",
       "      <td>S150088539</td>\n",
       "      <td>AVHAD KALPESH BALIRAM</td>\n",
       "      <td>RANJANABAI</td>\n",
       "      <td>71842239C</td>\n",
       "      <td>214441</td>\n",
       "      <td>030/050</td>\n",
       "      <td>024/050</td>\n",
       "      <td>054/100</td>\n",
       "      <td>--</td>\n",
       "      <td>...</td>\n",
       "      <td>--</td>\n",
       "      <td>--</td>\n",
       "      <td>023/025</td>\n",
       "      <td>042/050</td>\n",
       "      <td>--</td>\n",
       "      <td>86</td>\n",
       "      <td>1</td>\n",
       "      <td>O</td>\n",
       "      <td>10</td>\n",
       "      <td>10</td>\n",
       "    </tr>\n",
       "  </tbody>\n",
       "</table>\n",
       "<p>1 rows × 173 columns</p>\n",
       "</div>"
      ],
      "text/plain": [
       "   seat_no        name            mother_name      PRN_NO          0       1  \\\n",
       "0        0  S150088539  AVHAD KALPESH BALIRAM  RANJANABAI  71842239C  214441   \n",
       "\n",
       "         2        3        4   5  ... 159 160      161      162 163  164  165  \\\n",
       "0  030/050  024/050  054/100  --  ...  --  --  023/025  042/050  --   86    1   \n",
       "\n",
       "   166 167 168  \n",
       "0    O  10  10  \n",
       "\n",
       "[1 rows x 173 columns]"
      ]
     },
     "execution_count": 129,
     "metadata": {},
     "output_type": "execute_result"
    }
   ],
   "source": [
    "g.head(\n",
    "    1\n",
    ")"
   ]
  },
  {
   "cell_type": "code",
   "execution_count": 126,
   "metadata": {},
   "outputs": [],
   "source": [
    "g.to_csv('s12.csv')"
   ]
  },
  {
   "cell_type": "code",
   "execution_count": 127,
   "metadata": {},
   "outputs": [],
   "source": [
    "rr = ['seat_no','name','mother_name','PRN_NO']\n",
    "for i in range(0,169):\n",
    "    rr.append(i)"
   ]
  },
  {
   "cell_type": "code",
   "execution_count": 123,
   "metadata": {},
   "outputs": [
    {
     "data": {
      "text/plain": [
       "184"
      ]
     },
     "execution_count": 123,
     "metadata": {},
     "output_type": "execute_result"
    }
   ],
   "source": [
    "g"
   ]
  },
  {
   "cell_type": "code",
   "execution_count": 92,
   "metadata": {},
   "outputs": [
    {
     "data": {
      "text/plain": [
       "Index(['subject', 'OE', 'TH', 'OE_TH', 'TW', 'PR', 'OR', 'TOT', 'CRD', 'GRD',\n",
       "       'PTS1', 'PTS2', 'subject', 'OE', 'TH', 'OE_TH', 'TW', 'PR', 'OR', 'TOT',\n",
       "       'CRD', 'GRD', 'PTS1', 'PTS2'],\n",
       "      dtype='object')"
      ]
     },
     "execution_count": 92,
     "metadata": {},
     "output_type": "execute_result"
    }
   ],
   "source": [
    "cols"
   ]
  },
  {
   "cell_type": "code",
   "execution_count": null,
   "metadata": {},
   "outputs": [],
   "source": [
    "cols"
   ]
  },
  {
   "cell_type": "code",
   "execution_count": 55,
   "metadata": {},
   "outputs": [],
   "source": [
    "simi_final.to_csv('s2.csv',columns=list(simi_final.columns))"
   ]
  },
  {
   "cell_type": "code",
   "execution_count": 88,
   "metadata": {},
   "outputs": [
    {
     "data": {
      "text/plain": [
       "Index(['subjectsubject', 'OEOE', 'THTH', 'OE_THOE_TH', 'TWTW', 'PRPR', 'OROR',\n",
       "       'TOTTOT', 'CRDCRD', 'GRDGRD', 'PTS1PTS1', 'PTS2PTS2'],\n",
       "      dtype='object')"
      ]
     },
     "execution_count": 88,
     "metadata": {},
     "output_type": "execute_result"
    }
   ],
   "source": [
    "cols"
   ]
  },
  {
   "cell_type": "code",
   "execution_count": 45,
   "metadata": {},
   "outputs": [],
   "source": [
    "simi_final = pd.concat([a1,a2,a3,a4,a5,a6,a7,a8,a9,a10,a11,a12,a13,a14,a15],axis=1)"
   ]
  },
  {
   "cell_type": "code",
   "execution_count": 46,
   "metadata": {},
   "outputs": [],
   "source": [
    "simi_final.head()\n",
    "simi_final.to_csv('simi_final.csv',columns=list(simi_final.columns))"
   ]
  },
  {
   "cell_type": "code",
   "execution_count": 35,
   "metadata": {},
   "outputs": [
    {
     "data": {
      "text/plain": [
       "Index(['Unnamed: 0', 'subject', 'OE', 'TH', 'OE_TH', 'TW', 'PR', 'OR', 'TOT',\n",
       "       'CRD',\n",
       "       ...\n",
       "       'TH', 'OE_TH', 'TW', 'PR', 'OR', 'TOT', 'CRD', 'GRD', 'PTS1', 'PTS2'],\n",
       "      dtype='object', length=195)"
      ]
     },
     "execution_count": 35,
     "metadata": {},
     "output_type": "execute_result"
    }
   ],
   "source": [
    "simi_final.columns"
   ]
  },
  {
   "cell_type": "code",
   "execution_count": 37,
   "metadata": {},
   "outputs": [
    {
     "name": "stdout",
     "output_type": "stream",
     "text": [
      "Unnamed: 0\n",
      "subject\n",
      "OE\n",
      "TH\n",
      "OE_TH\n",
      "TW\n",
      "PR\n",
      "OR\n",
      "TOT\n",
      "CRD\n",
      "GRD\n",
      "PTS1\n",
      "PTS2\n",
      "Unnamed: 0\n",
      "subject\n",
      "OE\n",
      "TH\n",
      "OE_TH\n",
      "TW\n",
      "PR\n",
      "OR\n",
      "TOT\n",
      "CRD\n",
      "GRD\n",
      "PTS1\n",
      "PTS2\n",
      "Unnamed: 0\n",
      "subject\n",
      "OE\n",
      "TH\n",
      "OE_TH\n",
      "TW\n",
      "PR\n",
      "OR\n",
      "TOT\n",
      "CRD\n",
      "GRD\n",
      "PTS1\n",
      "PTS2\n",
      "Unnamed: 0\n",
      "subject\n",
      "OE\n",
      "TH\n",
      "OE_TH\n",
      "TW\n",
      "PR\n",
      "OR\n",
      "TOT\n",
      "CRD\n",
      "GRD\n",
      "PTS1\n",
      "PTS2\n",
      "Unnamed: 0\n",
      "subject\n",
      "OE\n",
      "TH\n",
      "OE_TH\n",
      "TW\n",
      "PR\n",
      "OR\n",
      "TOT\n",
      "CRD\n",
      "GRD\n",
      "PTS1\n",
      "PTS2\n",
      "Unnamed: 0\n",
      "subject\n",
      "OE\n",
      "TH\n",
      "OE_TH\n",
      "TW\n",
      "PR\n",
      "OR\n",
      "TOT\n",
      "CRD\n",
      "GRD\n",
      "PTS1\n",
      "PTS2\n",
      "Unnamed: 0\n",
      "subject\n",
      "OE\n",
      "TH\n",
      "OE_TH\n",
      "TW\n",
      "PR\n",
      "OR\n",
      "TOT\n",
      "CRD\n",
      "GRD\n",
      "PTS1\n",
      "PTS2\n",
      "Unnamed: 0\n",
      "subject\n",
      "OE\n",
      "TH\n",
      "OE_TH\n",
      "TW\n",
      "PR\n",
      "OR\n",
      "TOT\n",
      "CRD\n",
      "GRD\n",
      "PTS1\n",
      "PTS2\n",
      "Unnamed: 0\n",
      "subject\n",
      "OE\n",
      "TH\n",
      "OE_TH\n",
      "TW\n",
      "PR\n",
      "OR\n",
      "TOT\n",
      "CRD\n",
      "GRD\n",
      "PTS1\n",
      "PTS2\n",
      "Unnamed: 0\n",
      "subject\n",
      "OE\n",
      "TH\n",
      "OE_TH\n",
      "TW\n",
      "PR\n",
      "OR\n",
      "TOT\n",
      "CRD\n",
      "GRD\n",
      "PTS1\n",
      "PTS2\n",
      "Unnamed: 0\n",
      "subject\n",
      "OE\n",
      "TH\n",
      "OE_TH\n",
      "TW\n",
      "PR\n",
      "OR\n",
      "TOT\n",
      "CRD\n",
      "GRD\n",
      "PTS1\n",
      "PTS2\n",
      "Unnamed: 0\n",
      "subject\n",
      "OE\n",
      "TH\n",
      "OE_TH\n",
      "TW\n",
      "PR\n",
      "OR\n",
      "TOT\n",
      "CRD\n",
      "GRD\n",
      "PTS1\n",
      "PTS2\n",
      "Unnamed: 0\n",
      "subject\n",
      "OE\n",
      "TH\n",
      "OE_TH\n",
      "TW\n",
      "PR\n",
      "OR\n",
      "TOT\n",
      "CRD\n",
      "GRD\n",
      "PTS1\n",
      "PTS2\n",
      "Unnamed: 0\n",
      "subject\n",
      "OE\n",
      "TH\n",
      "OE_TH\n",
      "TW\n",
      "PR\n",
      "OR\n",
      "TOT\n",
      "CRD\n",
      "GRD\n",
      "PTS1\n",
      "PTS2\n",
      "Unnamed: 0\n",
      "subject\n",
      "OE\n",
      "TH\n",
      "OE_TH\n",
      "TW\n",
      "PR\n",
      "OR\n",
      "TOT\n",
      "CRD\n",
      "GRD\n",
      "PTS1\n",
      "PTS2\n"
     ]
    }
   ],
   "source": [
    "for i in simi_final.columns:\n",
    "    print(i)"
   ]
  },
  {
   "cell_type": "code",
   "execution_count": null,
   "metadata": {},
   "outputs": [],
   "source": []
  },
  {
   "cell_type": "code",
   "execution_count": 84,
   "metadata": {},
   "outputs": [],
   "source": [
    "st = pd.read_csv('seat_no_name_monther_name.csv')\n",
    "\n",
    "r = pd.concat([st,a1,a2,a4,a5,a6,a7,a8,a9,a10,a11,a12,a13,a14,a15],axis=1)"
   ]
  },
  {
   "cell_type": "code",
   "execution_count": 85,
   "metadata": {},
   "outputs": [],
   "source": [
    "r.to_csv('final_students.csv',header=None)"
   ]
  },
  {
   "cell_type": "code",
   "execution_count": null,
   "metadata": {},
   "outputs": [],
   "source": []
  },
  {
   "cell_type": "code",
   "execution_count": 79,
   "metadata": {},
   "outputs": [
    {
     "data": {
      "text/plain": [
       "Index(['Unnamed: 0', 'seat_no', 'name', 'mother_name', 'PRN_NO', 'subject',\n",
       "       'OE', 'TH', 'OE_TH', 'TW', 'PR', 'OR', 'TOT', 'CRD', 'GRD', 'PTS1',\n",
       "       'PTS2', 'subject', 'OE', 'TH', 'OE_TH', 'TW', 'PR', 'OR', 'TOT', 'CRD',\n",
       "       'GRD', 'PTS1', 'PTS2'],\n",
       "      dtype='object')"
      ]
     },
     "execution_count": 79,
     "metadata": {},
     "output_type": "execute_result"
    }
   ],
   "source": [
    "r.columns"
   ]
  },
  {
   "cell_type": "code",
   "execution_count": 82,
   "metadata": {},
   "outputs": [],
   "source": [
    "r.head()\n",
    "c = ['subject', 'OE', 'TH', 'OE_TH', 'TW', 'PR', 'OR', 'TOT', 'CRD', 'GRD',\n",
    "       'PTS1', 'PTS2', 'Unnamed: 0', 'seat_no', 'name', 'mother_name',\n",
    "       'PRN_NO', 'subject', 'OE', 'TH', 'OE_TH', 'TW', 'PR', 'OR', 'TOT',\n",
    "       'CRD', 'GRD', 'PTS1', 'PTS2']\n",
    "r.to_csv('s9.csv',header=None)"
   ]
  },
  {
   "cell_type": "code",
   "execution_count": null,
   "metadata": {},
   "outputs": [],
   "source": []
  },
  {
   "cell_type": "code",
   "execution_count": null,
   "metadata": {},
   "outputs": [],
   "source": []
  },
  {
   "cell_type": "code",
   "execution_count": 74,
   "metadata": {},
   "outputs": [
    {
     "data": {
      "text/plain": [
       "Index(['subject', 'OE', 'TH', 'OE_TH', 'TW', 'PR', 'OR', 'TOT', 'CRD', 'GRD',\n",
       "       'PTS1', 'PTS2', 'Unnamed: 0', 'seat_no', 'name', 'mother_name',\n",
       "       'PRN_NO', 'subject', 'OE', 'TH', 'OE_TH', 'TW', 'PR', 'OR', 'TOT',\n",
       "       'CRD', 'GRD', 'PTS1', 'PTS2'],\n",
       "      dtype='object')"
      ]
     },
     "execution_count": 74,
     "metadata": {},
     "output_type": "execute_result"
    }
   ],
   "source": [
    "r.columns"
   ]
  },
  {
   "cell_type": "code",
   "execution_count": 21,
   "metadata": {},
   "outputs": [],
   "source": [
    "final_marks = pd.concat([simi_final,st],axis=1)"
   ]
  },
  {
   "cell_type": "code",
   "execution_count": 22,
   "metadata": {},
   "outputs": [
    {
     "data": {
      "text/html": [
       "<div>\n",
       "<style scoped>\n",
       "    .dataframe tbody tr th:only-of-type {\n",
       "        vertical-align: middle;\n",
       "    }\n",
       "\n",
       "    .dataframe tbody tr th {\n",
       "        vertical-align: top;\n",
       "    }\n",
       "\n",
       "    .dataframe thead th {\n",
       "        text-align: right;\n",
       "    }\n",
       "</style>\n",
       "<table border=\"1\" class=\"dataframe\">\n",
       "  <thead>\n",
       "    <tr style=\"text-align: right;\">\n",
       "      <th></th>\n",
       "      <th>Unnamed: 0</th>\n",
       "      <th>subject</th>\n",
       "      <th>OE</th>\n",
       "      <th>TH</th>\n",
       "      <th>OE_TH</th>\n",
       "      <th>TW</th>\n",
       "      <th>PR</th>\n",
       "      <th>OR</th>\n",
       "      <th>TOT</th>\n",
       "      <th>CRD</th>\n",
       "      <th>...</th>\n",
       "      <th>TOT</th>\n",
       "      <th>CRD</th>\n",
       "      <th>GRD</th>\n",
       "      <th>PTS1</th>\n",
       "      <th>PTS2</th>\n",
       "      <th>Unnamed: 0</th>\n",
       "      <th>seat_no</th>\n",
       "      <th>name</th>\n",
       "      <th>mother_name</th>\n",
       "      <th>PRN_NO</th>\n",
       "    </tr>\n",
       "  </thead>\n",
       "  <tbody>\n",
       "    <tr>\n",
       "      <th>0</th>\n",
       "      <td>0</td>\n",
       "      <td>214441</td>\n",
       "      <td>030/050</td>\n",
       "      <td>024/050</td>\n",
       "      <td>054/100</td>\n",
       "      <td>--</td>\n",
       "      <td>--</td>\n",
       "      <td>--</td>\n",
       "      <td>54</td>\n",
       "      <td>4</td>\n",
       "      <td>...</td>\n",
       "      <td>86</td>\n",
       "      <td>1</td>\n",
       "      <td>O</td>\n",
       "      <td>10</td>\n",
       "      <td>10</td>\n",
       "      <td>0</td>\n",
       "      <td>S150088539</td>\n",
       "      <td>AVHAD KALPESH BALIRAM</td>\n",
       "      <td>RANJANABAI</td>\n",
       "      <td>71842239C</td>\n",
       "    </tr>\n",
       "    <tr>\n",
       "      <th>1</th>\n",
       "      <td>1</td>\n",
       "      <td>214441</td>\n",
       "      <td>013/050</td>\n",
       "      <td>011/050</td>\n",
       "      <td>024/100</td>\n",
       "      <td>--</td>\n",
       "      <td>--</td>\n",
       "      <td>--</td>\n",
       "      <td>FF</td>\n",
       "      <td>4</td>\n",
       "      <td>...</td>\n",
       "      <td>62</td>\n",
       "      <td>1</td>\n",
       "      <td>A</td>\n",
       "      <td>8</td>\n",
       "      <td>8</td>\n",
       "      <td>1</td>\n",
       "      <td>S150088540</td>\n",
       "      <td>AWACHAR SHOBHANA BHAURAO</td>\n",
       "      <td>SUNITATAI</td>\n",
       "      <td>71842242C</td>\n",
       "    </tr>\n",
       "    <tr>\n",
       "      <th>2</th>\n",
       "      <td>2</td>\n",
       "      <td>214441</td>\n",
       "      <td>021/050</td>\n",
       "      <td>026/050</td>\n",
       "      <td>047/100</td>\n",
       "      <td>--</td>\n",
       "      <td>--</td>\n",
       "      <td>--</td>\n",
       "      <td>47</td>\n",
       "      <td>4</td>\n",
       "      <td>...</td>\n",
       "      <td>90</td>\n",
       "      <td>1</td>\n",
       "      <td>O</td>\n",
       "      <td>10</td>\n",
       "      <td>10</td>\n",
       "      <td>2</td>\n",
       "      <td>S150088541</td>\n",
       "      <td>AWALE PRAJAKTA SUNIL</td>\n",
       "      <td>KUSUM</td>\n",
       "      <td>71842243M</td>\n",
       "    </tr>\n",
       "    <tr>\n",
       "      <th>3</th>\n",
       "      <td>3</td>\n",
       "      <td>214441</td>\n",
       "      <td>022/050</td>\n",
       "      <td>035/050</td>\n",
       "      <td>057/100</td>\n",
       "      <td>--</td>\n",
       "      <td>--</td>\n",
       "      <td>--</td>\n",
       "      <td>57</td>\n",
       "      <td>4</td>\n",
       "      <td>...</td>\n",
       "      <td>85</td>\n",
       "      <td>1</td>\n",
       "      <td>O</td>\n",
       "      <td>10</td>\n",
       "      <td>10</td>\n",
       "      <td>3</td>\n",
       "      <td>S150088542</td>\n",
       "      <td>BHOSALE RUSHIKESH VIJAY</td>\n",
       "      <td>HIRABAI</td>\n",
       "      <td>71842298J</td>\n",
       "    </tr>\n",
       "    <tr>\n",
       "      <th>4</th>\n",
       "      <td>4</td>\n",
       "      <td>214441</td>\n",
       "      <td>016/050</td>\n",
       "      <td>24$/050</td>\n",
       "      <td>040/100</td>\n",
       "      <td>--</td>\n",
       "      <td>--</td>\n",
       "      <td>--</td>\n",
       "      <td>40</td>\n",
       "      <td>4</td>\n",
       "      <td>...</td>\n",
       "      <td>85</td>\n",
       "      <td>1</td>\n",
       "      <td>O</td>\n",
       "      <td>10</td>\n",
       "      <td>10</td>\n",
       "      <td>4</td>\n",
       "      <td>S150088543</td>\n",
       "      <td>BHOSALE VISHWAJEET VILAS</td>\n",
       "      <td>SUNITA</td>\n",
       "      <td>71842300D</td>\n",
       "    </tr>\n",
       "  </tbody>\n",
       "</table>\n",
       "<p>5 rows × 200 columns</p>\n",
       "</div>"
      ],
      "text/plain": [
       "  Unnamed: 0  subject       OE       TH    OE_TH  TW  PR  OR TOT  CRD  ...  \\\n",
       "0          0   214441  030/050  024/050  054/100  --  --  --  54    4  ...   \n",
       "1          1   214441  013/050  011/050  024/100  --  --  --  FF    4  ...   \n",
       "2          2   214441  021/050  026/050  047/100  --  --  --  47    4  ...   \n",
       "3          3   214441  022/050  035/050  057/100  --  --  --  57    4  ...   \n",
       "4          4   214441  016/050  24$/050  040/100  --  --  --  40    4  ...   \n",
       "\n",
       "  TOT  CRD  GRD  PTS1  PTS2 Unnamed: 0     seat_no                      name  \\\n",
       "0  86    1    O    10    10          0  S150088539     AVHAD KALPESH BALIRAM   \n",
       "1  62    1    A     8     8          1  S150088540  AWACHAR SHOBHANA BHAURAO   \n",
       "2  90    1    O    10    10          2  S150088541      AWALE PRAJAKTA SUNIL   \n",
       "3  85    1    O    10    10          3  S150088542   BHOSALE RUSHIKESH VIJAY   \n",
       "4  85    1    O    10    10          4  S150088543  BHOSALE VISHWAJEET VILAS   \n",
       "\n",
       "  mother_name     PRN_NO  \n",
       "0  RANJANABAI  71842239C  \n",
       "1   SUNITATAI  71842242C  \n",
       "2       KUSUM  71842243M  \n",
       "3     HIRABAI  71842298J  \n",
       "4      SUNITA  71842300D  \n",
       "\n",
       "[5 rows x 200 columns]"
      ]
     },
     "execution_count": 22,
     "metadata": {},
     "output_type": "execute_result"
    }
   ],
   "source": [
    "final_marks.head(5)"
   ]
  },
  {
   "cell_type": "code",
   "execution_count": 23,
   "metadata": {},
   "outputs": [],
   "source": [
    "final_marks.to_csv('final_student_list.csv',columns=final_marks.columns)"
   ]
  },
  {
   "cell_type": "code",
   "execution_count": 24,
   "metadata": {},
   "outputs": [],
   "source": [
    "t = pd.concat([a1,a2],axis=1)"
   ]
  },
  {
   "cell_type": "code",
   "execution_count": 25,
   "metadata": {},
   "outputs": [],
   "source": [
    "t.to_csv('temp.csv',columns=t.columns)"
   ]
  },
  {
   "cell_type": "code",
   "execution_count": 26,
   "metadata": {},
   "outputs": [],
   "source": [
    "y = a1.merge(a1)"
   ]
  },
  {
   "cell_type": "code",
   "execution_count": 28,
   "metadata": {},
   "outputs": [],
   "source": [
    "y.to_csv('y.csv',columns=y.columns)"
   ]
  },
  {
   "cell_type": "code",
   "execution_count": null,
   "metadata": {},
   "outputs": [],
   "source": []
  },
  {
   "cell_type": "code",
   "execution_count": 11,
   "metadata": {},
   "outputs": [
    {
     "data": {
      "text/plain": [
       "Index(['Unnamed: 0', 'subject', 'OE', 'TH', 'OE_TH', 'TW', 'PR', 'OR', 'TOT',\n",
       "       'CRD', 'GRD', 'PTS1', 'PTS2', 'Unnamed: 0', 'subject', 'OE', 'TH',\n",
       "       'OE_TH', 'TW', 'PR', 'OR', 'TOT', 'CRD', 'GRD', 'PTS1', 'PTS2',\n",
       "       'Unnamed: 0', 'subject', 'OE', 'TH', 'OE_TH', 'TW', 'PR', 'OR', 'TOT',\n",
       "       'CRD', 'GRD', 'PTS1', 'PTS2', 'Unnamed: 0', 'subject', 'OE', 'TH',\n",
       "       'OE_TH', 'TW', 'PR', 'OR', 'TOT', 'CRD', 'GRD', 'PTS1', 'PTS2'],\n",
       "      dtype='object')"
      ]
     },
     "execution_count": 11,
     "metadata": {},
     "output_type": "execute_result"
    }
   ],
   "source": [
    "a.columns"
   ]
  },
  {
   "cell_type": "code",
   "execution_count": 2,
   "metadata": {},
   "outputs": [],
   "source": [
    "s = pd.read_csv('seat_no_name_monther_name.csv')"
   ]
  },
  {
   "cell_type": "code",
   "execution_count": 3,
   "metadata": {},
   "outputs": [
    {
     "data": {
      "text/html": [
       "<div>\n",
       "<style scoped>\n",
       "    .dataframe tbody tr th:only-of-type {\n",
       "        vertical-align: middle;\n",
       "    }\n",
       "\n",
       "    .dataframe tbody tr th {\n",
       "        vertical-align: top;\n",
       "    }\n",
       "\n",
       "    .dataframe thead th {\n",
       "        text-align: right;\n",
       "    }\n",
       "</style>\n",
       "<table border=\"1\" class=\"dataframe\">\n",
       "  <thead>\n",
       "    <tr style=\"text-align: right;\">\n",
       "      <th></th>\n",
       "      <th>Unnamed: 0</th>\n",
       "      <th>seat_no</th>\n",
       "      <th>name</th>\n",
       "      <th>mother_name</th>\n",
       "      <th>PRN_NO</th>\n",
       "    </tr>\n",
       "  </thead>\n",
       "  <tbody>\n",
       "    <tr>\n",
       "      <th>0</th>\n",
       "      <td>0</td>\n",
       "      <td>S150088539</td>\n",
       "      <td>AVHAD KALPESH BALIRAM</td>\n",
       "      <td>RANJANABAI</td>\n",
       "      <td>71842239C</td>\n",
       "    </tr>\n",
       "    <tr>\n",
       "      <th>1</th>\n",
       "      <td>1</td>\n",
       "      <td>S150088540</td>\n",
       "      <td>AWACHAR SHOBHANA BHAURAO</td>\n",
       "      <td>SUNITATAI</td>\n",
       "      <td>71842242C</td>\n",
       "    </tr>\n",
       "    <tr>\n",
       "      <th>2</th>\n",
       "      <td>2</td>\n",
       "      <td>S150088541</td>\n",
       "      <td>AWALE PRAJAKTA SUNIL</td>\n",
       "      <td>KUSUM</td>\n",
       "      <td>71842243M</td>\n",
       "    </tr>\n",
       "    <tr>\n",
       "      <th>3</th>\n",
       "      <td>3</td>\n",
       "      <td>S150088542</td>\n",
       "      <td>BHOSALE RUSHIKESH VIJAY</td>\n",
       "      <td>HIRABAI</td>\n",
       "      <td>71842298J</td>\n",
       "    </tr>\n",
       "    <tr>\n",
       "      <th>4</th>\n",
       "      <td>4</td>\n",
       "      <td>S150088543</td>\n",
       "      <td>BHOSALE VISHWAJEET VILAS</td>\n",
       "      <td>SUNITA</td>\n",
       "      <td>71842300D</td>\n",
       "    </tr>\n",
       "  </tbody>\n",
       "</table>\n",
       "</div>"
      ],
      "text/plain": [
       "   Unnamed: 0     seat_no                      name mother_name     PRN_NO\n",
       "0           0  S150088539     AVHAD KALPESH BALIRAM  RANJANABAI  71842239C\n",
       "1           1  S150088540  AWACHAR SHOBHANA BHAURAO   SUNITATAI  71842242C\n",
       "2           2  S150088541      AWALE PRAJAKTA SUNIL       KUSUM  71842243M\n",
       "3           3  S150088542   BHOSALE RUSHIKESH VIJAY     HIRABAI  71842298J\n",
       "4           4  S150088543  BHOSALE VISHWAJEET VILAS      SUNITA  71842300D"
      ]
     },
     "execution_count": 3,
     "metadata": {},
     "output_type": "execute_result"
    }
   ],
   "source": [
    "s.head()"
   ]
  },
  {
   "cell_type": "code",
   "execution_count": 4,
   "metadata": {},
   "outputs": [],
   "source": [
    "d = pd.read_csv(r'C:\\Users\\Suraj\\OneDrive\\Desktop\\Streamlit_web_app\\student_marks.csv')"
   ]
  },
  {
   "cell_type": "code",
   "execution_count": 5,
   "metadata": {},
   "outputs": [],
   "source": [
    "engineering_mathematics = d[d['subject']=='207003']\n",
    "process_architecture = d[d['subject']=='214451']\n",
    "database_m_system = d[d['subject']=='214452']\n",
    "computer_graphics = d[d['subject']=='214453']\n",
    "software_engineering = d[d['subject']=='214454']\n",
    "psdl_lab = d[d['subject']=='214455']\n",
    "dbms_lab = d[d['subject']=='214456']\n",
    "cs_lab = d[d['subject']== '214457']\n",
    "pbl = d[d['subject']=='214458']\n"
   ]
  },
  {
   "cell_type": "code",
   "execution_count": 43,
   "metadata": {},
   "outputs": [
    {
     "data": {
      "text/plain": [
       "183"
      ]
     },
     "execution_count": 43,
     "metadata": {},
     "output_type": "execute_result"
    }
   ],
   "source": [
    "len(process_architecture)"
   ]
  },
  {
   "cell_type": "code",
   "execution_count": 6,
   "metadata": {},
   "outputs": [
    {
     "data": {
      "text/plain": [
       "194"
      ]
     },
     "execution_count": 6,
     "metadata": {},
     "output_type": "execute_result"
    }
   ],
   "source": [
    "len(software_engineering)"
   ]
  },
  {
   "cell_type": "code",
   "execution_count": 7,
   "metadata": {},
   "outputs": [],
   "source": [
    "t = d"
   ]
  },
  {
   "cell_type": "code",
   "execution_count": 32,
   "metadata": {},
   "outputs": [],
   "source": [
    "t1 = t.drop('Unnamed: 0',axis=1)\n",
    "l1 = list(t1['subject'])\n",
    "l2 = [i for i in range(len(l1))]"
   ]
  },
  {
   "cell_type": "code",
   "execution_count": 34,
   "metadata": {},
   "outputs": [],
   "source": [
    "index_v = pd.MultiIndex.from_tuples(list(zip(l1,l2)))"
   ]
  },
  {
   "cell_type": "code",
   "execution_count": 35,
   "metadata": {},
   "outputs": [
    {
     "data": {
      "text/plain": [
       "MultiIndex([( '214441',    0),\n",
       "            ( '214442',    1),\n",
       "            ( '214443',    2),\n",
       "            ( '214444',    3),\n",
       "            ( '214445',    4),\n",
       "            ( '214446',    5),\n",
       "            ( '214447',    6),\n",
       "            ( '214448',    7),\n",
       "            ( '214449',    8),\n",
       "            ('202054A',    9),\n",
       "            ...\n",
       "            ( '207003', 3852),\n",
       "            ( '207003', 3853),\n",
       "            ( '214450', 3854),\n",
       "            ( '214451', 3855),\n",
       "            ( '214452', 3856),\n",
       "            ( '214453', 3857),\n",
       "            ( '214454', 3858),\n",
       "            ( '214455', 3859),\n",
       "            ( '214456', 3860),\n",
       "            ( '214458', 3861)],\n",
       "           length=3862)"
      ]
     },
     "execution_count": 35,
     "metadata": {},
     "output_type": "execute_result"
    }
   ],
   "source": [
    "# index_v"
   ]
  },
  {
   "cell_type": "code",
   "execution_count": 9,
   "metadata": {},
   "outputs": [
    {
     "data": {
      "text/plain": [
       "array(['214441', '214442', '214443', '214444', '214445', '214446',\n",
       "       '214447', '214448', '214449', '202054A', '207003', '214450',\n",
       "       '214451', '214452', '214453', '214454', '214455', '214456',\n",
       "       '210258A', '210258D', '210258C', '210250', '214458'], dtype=object)"
      ]
     },
     "execution_count": 9,
     "metadata": {},
     "output_type": "execute_result"
    }
   ],
   "source": [
    "t['subject'].unique()"
   ]
  },
  {
   "cell_type": "code",
   "execution_count": 16,
   "metadata": {},
   "outputs": [
    {
     "data": {
      "text/html": [
       "<div>\n",
       "<style scoped>\n",
       "    .dataframe tbody tr th:only-of-type {\n",
       "        vertical-align: middle;\n",
       "    }\n",
       "\n",
       "    .dataframe tbody tr th {\n",
       "        vertical-align: top;\n",
       "    }\n",
       "\n",
       "    .dataframe thead th {\n",
       "        text-align: right;\n",
       "    }\n",
       "</style>\n",
       "<table border=\"1\" class=\"dataframe\">\n",
       "  <thead>\n",
       "    <tr style=\"text-align: right;\">\n",
       "      <th></th>\n",
       "      <th>Unnamed: 0</th>\n",
       "      <th>subject</th>\n",
       "      <th>OE</th>\n",
       "      <th>TH</th>\n",
       "      <th>OE_TH</th>\n",
       "      <th>TW</th>\n",
       "      <th>PR</th>\n",
       "      <th>OR</th>\n",
       "      <th>TOT</th>\n",
       "      <th>CRD</th>\n",
       "      <th>GRD</th>\n",
       "      <th>PTS1</th>\n",
       "      <th>PTS2</th>\n",
       "    </tr>\n",
       "  </thead>\n",
       "  <tbody>\n",
       "    <tr>\n",
       "      <th>0</th>\n",
       "      <td>0</td>\n",
       "      <td>214441</td>\n",
       "      <td>030/050</td>\n",
       "      <td>024/050</td>\n",
       "      <td>054/100</td>\n",
       "      <td>--</td>\n",
       "      <td>--</td>\n",
       "      <td>--</td>\n",
       "      <td>54</td>\n",
       "      <td>04</td>\n",
       "      <td>B</td>\n",
       "      <td>06</td>\n",
       "      <td>24</td>\n",
       "    </tr>\n",
       "    <tr>\n",
       "      <th>1</th>\n",
       "      <td>1</td>\n",
       "      <td>214442</td>\n",
       "      <td>036/050</td>\n",
       "      <td>031/050</td>\n",
       "      <td>067/100</td>\n",
       "      <td>--</td>\n",
       "      <td>--</td>\n",
       "      <td>--</td>\n",
       "      <td>67</td>\n",
       "      <td>04</td>\n",
       "      <td>A</td>\n",
       "      <td>08</td>\n",
       "      <td>32</td>\n",
       "    </tr>\n",
       "    <tr>\n",
       "      <th>2</th>\n",
       "      <td>2</td>\n",
       "      <td>214443</td>\n",
       "      <td>026/050</td>\n",
       "      <td>033/050</td>\n",
       "      <td>059/100</td>\n",
       "      <td>--</td>\n",
       "      <td>--</td>\n",
       "      <td>--</td>\n",
       "      <td>59</td>\n",
       "      <td>04</td>\n",
       "      <td>B+</td>\n",
       "      <td>07</td>\n",
       "      <td>28</td>\n",
       "    </tr>\n",
       "    <tr>\n",
       "      <th>3</th>\n",
       "      <td>3</td>\n",
       "      <td>214444</td>\n",
       "      <td>029/050</td>\n",
       "      <td>036/050</td>\n",
       "      <td>065/100</td>\n",
       "      <td>--</td>\n",
       "      <td>--</td>\n",
       "      <td>--</td>\n",
       "      <td>65</td>\n",
       "      <td>04</td>\n",
       "      <td>A</td>\n",
       "      <td>08</td>\n",
       "      <td>32</td>\n",
       "    </tr>\n",
       "    <tr>\n",
       "      <th>4</th>\n",
       "      <td>4</td>\n",
       "      <td>214445</td>\n",
       "      <td>040/050</td>\n",
       "      <td>032/050</td>\n",
       "      <td>072/100</td>\n",
       "      <td>--</td>\n",
       "      <td>--</td>\n",
       "      <td>--</td>\n",
       "      <td>72</td>\n",
       "      <td>04</td>\n",
       "      <td>A+</td>\n",
       "      <td>09</td>\n",
       "      <td>36</td>\n",
       "    </tr>\n",
       "  </tbody>\n",
       "</table>\n",
       "</div>"
      ],
      "text/plain": [
       "   Unnamed: 0 subject       OE       TH    OE_TH  TW  PR  OR TOT CRD GRD PTS1  \\\n",
       "0           0  214441  030/050  024/050  054/100  --  --  --  54  04   B   06   \n",
       "1           1  214442  036/050  031/050  067/100  --  --  --  67  04   A   08   \n",
       "2           2  214443  026/050  033/050  059/100  --  --  --  59  04  B+   07   \n",
       "3           3  214444  029/050  036/050  065/100  --  --  --  65  04   A   08   \n",
       "4           4  214445  040/050  032/050  072/100  --  --  --  72  04  A+   09   \n",
       "\n",
       "  PTS2  \n",
       "0   24  \n",
       "1   32  \n",
       "2   28  \n",
       "3   32  \n",
       "4   36  "
      ]
     },
     "execution_count": 16,
     "metadata": {},
     "output_type": "execute_result"
    }
   ],
   "source": [
    "t.head()"
   ]
  },
  {
   "cell_type": "code",
   "execution_count": 38,
   "metadata": {},
   "outputs": [],
   "source": [
    "tt1 = t.groupby('subject')"
   ]
  },
  {
   "cell_type": "code",
   "execution_count": 41,
   "metadata": {},
   "outputs": [
    {
     "data": {
      "text/html": [
       "<div>\n",
       "<style scoped>\n",
       "    .dataframe tbody tr th:only-of-type {\n",
       "        vertical-align: middle;\n",
       "    }\n",
       "\n",
       "    .dataframe tbody tr th {\n",
       "        vertical-align: top;\n",
       "    }\n",
       "\n",
       "    .dataframe thead th {\n",
       "        text-align: right;\n",
       "    }\n",
       "</style>\n",
       "<table border=\"1\" class=\"dataframe\">\n",
       "  <thead>\n",
       "    <tr style=\"text-align: right;\">\n",
       "      <th></th>\n",
       "      <th>Unnamed: 0</th>\n",
       "      <th>subject</th>\n",
       "      <th>OE</th>\n",
       "      <th>TH</th>\n",
       "      <th>OE_TH</th>\n",
       "      <th>TW</th>\n",
       "      <th>PR</th>\n",
       "      <th>OR</th>\n",
       "      <th>TOT</th>\n",
       "      <th>CRD</th>\n",
       "      <th>GRD</th>\n",
       "      <th>PTS1</th>\n",
       "      <th>PTS2</th>\n",
       "    </tr>\n",
       "  </thead>\n",
       "  <tbody>\n",
       "    <tr>\n",
       "      <th>0</th>\n",
       "      <td>0</td>\n",
       "      <td>214441</td>\n",
       "      <td>030/050</td>\n",
       "      <td>024/050</td>\n",
       "      <td>054/100</td>\n",
       "      <td>--</td>\n",
       "      <td>--</td>\n",
       "      <td>--</td>\n",
       "      <td>54</td>\n",
       "      <td>04</td>\n",
       "      <td>B</td>\n",
       "      <td>06</td>\n",
       "      <td>24</td>\n",
       "    </tr>\n",
       "    <tr>\n",
       "      <th>1</th>\n",
       "      <td>1</td>\n",
       "      <td>214442</td>\n",
       "      <td>036/050</td>\n",
       "      <td>031/050</td>\n",
       "      <td>067/100</td>\n",
       "      <td>--</td>\n",
       "      <td>--</td>\n",
       "      <td>--</td>\n",
       "      <td>67</td>\n",
       "      <td>04</td>\n",
       "      <td>A</td>\n",
       "      <td>08</td>\n",
       "      <td>32</td>\n",
       "    </tr>\n",
       "    <tr>\n",
       "      <th>2</th>\n",
       "      <td>2</td>\n",
       "      <td>214443</td>\n",
       "      <td>026/050</td>\n",
       "      <td>033/050</td>\n",
       "      <td>059/100</td>\n",
       "      <td>--</td>\n",
       "      <td>--</td>\n",
       "      <td>--</td>\n",
       "      <td>59</td>\n",
       "      <td>04</td>\n",
       "      <td>B+</td>\n",
       "      <td>07</td>\n",
       "      <td>28</td>\n",
       "    </tr>\n",
       "    <tr>\n",
       "      <th>3</th>\n",
       "      <td>3</td>\n",
       "      <td>214444</td>\n",
       "      <td>029/050</td>\n",
       "      <td>036/050</td>\n",
       "      <td>065/100</td>\n",
       "      <td>--</td>\n",
       "      <td>--</td>\n",
       "      <td>--</td>\n",
       "      <td>65</td>\n",
       "      <td>04</td>\n",
       "      <td>A</td>\n",
       "      <td>08</td>\n",
       "      <td>32</td>\n",
       "    </tr>\n",
       "    <tr>\n",
       "      <th>4</th>\n",
       "      <td>4</td>\n",
       "      <td>214445</td>\n",
       "      <td>040/050</td>\n",
       "      <td>032/050</td>\n",
       "      <td>072/100</td>\n",
       "      <td>--</td>\n",
       "      <td>--</td>\n",
       "      <td>--</td>\n",
       "      <td>72</td>\n",
       "      <td>04</td>\n",
       "      <td>A+</td>\n",
       "      <td>09</td>\n",
       "      <td>36</td>\n",
       "    </tr>\n",
       "    <tr>\n",
       "      <th>...</th>\n",
       "      <td>...</td>\n",
       "      <td>...</td>\n",
       "      <td>...</td>\n",
       "      <td>...</td>\n",
       "      <td>...</td>\n",
       "      <td>...</td>\n",
       "      <td>...</td>\n",
       "      <td>...</td>\n",
       "      <td>...</td>\n",
       "      <td>...</td>\n",
       "      <td>...</td>\n",
       "      <td>...</td>\n",
       "      <td>...</td>\n",
       "    </tr>\n",
       "    <tr>\n",
       "      <th>3405</th>\n",
       "      <td>3405</td>\n",
       "      <td>210258C</td>\n",
       "      <td>--</td>\n",
       "      <td>--</td>\n",
       "      <td>--</td>\n",
       "      <td>PP</td>\n",
       "      <td>--</td>\n",
       "      <td>--</td>\n",
       "      <td>PP</td>\n",
       "      <td>00</td>\n",
       "      <td>P</td>\n",
       "      <td>00</td>\n",
       "      <td>00</td>\n",
       "    </tr>\n",
       "    <tr>\n",
       "      <th>3464</th>\n",
       "      <td>3464</td>\n",
       "      <td>210258C</td>\n",
       "      <td>--</td>\n",
       "      <td>--</td>\n",
       "      <td>--</td>\n",
       "      <td>PP</td>\n",
       "      <td>--</td>\n",
       "      <td>--</td>\n",
       "      <td>PP</td>\n",
       "      <td>00</td>\n",
       "      <td>P</td>\n",
       "      <td>00</td>\n",
       "      <td>00</td>\n",
       "    </tr>\n",
       "    <tr>\n",
       "      <th>3622</th>\n",
       "      <td>3622</td>\n",
       "      <td>210258C</td>\n",
       "      <td>--</td>\n",
       "      <td>--</td>\n",
       "      <td>--</td>\n",
       "      <td>PP</td>\n",
       "      <td>--</td>\n",
       "      <td>--</td>\n",
       "      <td>PP</td>\n",
       "      <td>00</td>\n",
       "      <td>P</td>\n",
       "      <td>00</td>\n",
       "      <td>00</td>\n",
       "    </tr>\n",
       "    <tr>\n",
       "      <th>3662</th>\n",
       "      <td>3662</td>\n",
       "      <td>210258C</td>\n",
       "      <td>--</td>\n",
       "      <td>--</td>\n",
       "      <td>--</td>\n",
       "      <td>PP</td>\n",
       "      <td>--</td>\n",
       "      <td>--</td>\n",
       "      <td>PP</td>\n",
       "      <td>00</td>\n",
       "      <td>P</td>\n",
       "      <td>00</td>\n",
       "      <td>00</td>\n",
       "    </tr>\n",
       "    <tr>\n",
       "      <th>3741</th>\n",
       "      <td>3741</td>\n",
       "      <td>210258C</td>\n",
       "      <td>--</td>\n",
       "      <td>--</td>\n",
       "      <td>--</td>\n",
       "      <td>PP</td>\n",
       "      <td>--</td>\n",
       "      <td>--</td>\n",
       "      <td>PP</td>\n",
       "      <td>00</td>\n",
       "      <td>P</td>\n",
       "      <td>00</td>\n",
       "      <td>00</td>\n",
       "    </tr>\n",
       "  </tbody>\n",
       "</table>\n",
       "<p>522 rows × 13 columns</p>\n",
       "</div>"
      ],
      "text/plain": [
       "      Unnamed: 0  subject       OE       TH    OE_TH  TW  PR  OR TOT CRD GRD  \\\n",
       "0              0   214441  030/050  024/050  054/100  --  --  --  54  04   B   \n",
       "1              1   214442  036/050  031/050  067/100  --  --  --  67  04   A   \n",
       "2              2   214443  026/050  033/050  059/100  --  --  --  59  04  B+   \n",
       "3              3   214444  029/050  036/050  065/100  --  --  --  65  04   A   \n",
       "4              4   214445  040/050  032/050  072/100  --  --  --  72  04  A+   \n",
       "...          ...      ...      ...      ...      ...  ..  ..  ..  ..  ..  ..   \n",
       "3405        3405  210258C       --       --       --  PP  --  --  PP  00   P   \n",
       "3464        3464  210258C       --       --       --  PP  --  --  PP  00   P   \n",
       "3622        3622  210258C       --       --       --  PP  --  --  PP  00   P   \n",
       "3662        3662  210258C       --       --       --  PP  --  --  PP  00   P   \n",
       "3741        3741  210258C       --       --       --  PP  --  --  PP  00   P   \n",
       "\n",
       "     PTS1 PTS2  \n",
       "0      06   24  \n",
       "1      08   32  \n",
       "2      07   28  \n",
       "3      08   32  \n",
       "4      09   36  \n",
       "...   ...  ...  \n",
       "3405   00   00  \n",
       "3464   00   00  \n",
       "3622   00   00  \n",
       "3662   00   00  \n",
       "3741   00   00  \n",
       "\n",
       "[522 rows x 13 columns]"
      ]
     },
     "execution_count": 41,
     "metadata": {},
     "output_type": "execute_result"
    }
   ],
   "source": []
  },
  {
   "cell_type": "code",
   "execution_count": 14,
   "metadata": {},
   "outputs": [],
   "source": [
    "tt = t.set_index(t['subject'])"
   ]
  },
  {
   "cell_type": "code",
   "execution_count": 20,
   "metadata": {},
   "outputs": [],
   "source": [
    "tt = tt.drop('Unnamed: 0',axis=1)"
   ]
  },
  {
   "cell_type": "code",
   "execution_count": 36,
   "metadata": {},
   "outputs": [],
   "source": [
    "# tt.head()"
   ]
  },
  {
   "cell_type": "code",
   "execution_count": 37,
   "metadata": {},
   "outputs": [
    {
     "ename": "ValueError",
     "evalue": "'subject' is both an index level and a column label, which is ambiguous.",
     "output_type": "error",
     "traceback": [
      "\u001b[1;31m---------------------------------------------------------------------------\u001b[0m",
      "\u001b[1;31mValueError\u001b[0m                                Traceback (most recent call last)",
      "Cell \u001b[1;32mIn [37], line 1\u001b[0m\n\u001b[1;32m----> 1\u001b[0m tt1 \u001b[38;5;241m=\u001b[39m \u001b[43mtt\u001b[49m\u001b[38;5;241;43m.\u001b[39;49m\u001b[43mgroupby\u001b[49m\u001b[43m(\u001b[49m\u001b[38;5;124;43m'\u001b[39;49m\u001b[38;5;124;43msubject\u001b[39;49m\u001b[38;5;124;43m'\u001b[39;49m\u001b[43m)\u001b[49m\n",
      "File \u001b[1;32mc:\\Users\\Suraj\\OneDrive\\Desktop\\Streamlit_web_app\\env\\lib\\site-packages\\pandas\\core\\frame.py:7721\u001b[0m, in \u001b[0;36mDataFrame.groupby\u001b[1;34m(self, by, axis, level, as_index, sort, group_keys, squeeze, observed, dropna)\u001b[0m\n\u001b[0;32m   7716\u001b[0m axis \u001b[39m=\u001b[39m \u001b[39mself\u001b[39m\u001b[39m.\u001b[39m_get_axis_number(axis)\n\u001b[0;32m   7718\u001b[0m \u001b[39m# https://github.com/python/mypy/issues/7642\u001b[39;00m\n\u001b[0;32m   7719\u001b[0m \u001b[39m# error: Argument \"squeeze\" to \"DataFrameGroupBy\" has incompatible type\u001b[39;00m\n\u001b[0;32m   7720\u001b[0m \u001b[39m# \"Union[bool, NoDefault]\"; expected \"bool\"\u001b[39;00m\n\u001b[1;32m-> 7721\u001b[0m \u001b[39mreturn\u001b[39;00m DataFrameGroupBy(\n\u001b[0;32m   7722\u001b[0m     obj\u001b[39m=\u001b[39;49m\u001b[39mself\u001b[39;49m,\n\u001b[0;32m   7723\u001b[0m     keys\u001b[39m=\u001b[39;49mby,\n\u001b[0;32m   7724\u001b[0m     axis\u001b[39m=\u001b[39;49maxis,\n\u001b[0;32m   7725\u001b[0m     level\u001b[39m=\u001b[39;49mlevel,\n\u001b[0;32m   7726\u001b[0m     as_index\u001b[39m=\u001b[39;49mas_index,\n\u001b[0;32m   7727\u001b[0m     sort\u001b[39m=\u001b[39;49msort,\n\u001b[0;32m   7728\u001b[0m     group_keys\u001b[39m=\u001b[39;49mgroup_keys,\n\u001b[0;32m   7729\u001b[0m     squeeze\u001b[39m=\u001b[39;49msqueeze,  \u001b[39m# type: ignore[arg-type]\u001b[39;49;00m\n\u001b[0;32m   7730\u001b[0m     observed\u001b[39m=\u001b[39;49mobserved,\n\u001b[0;32m   7731\u001b[0m     dropna\u001b[39m=\u001b[39;49mdropna,\n\u001b[0;32m   7732\u001b[0m )\n",
      "File \u001b[1;32mc:\\Users\\Suraj\\OneDrive\\Desktop\\Streamlit_web_app\\env\\lib\\site-packages\\pandas\\core\\groupby\\groupby.py:882\u001b[0m, in \u001b[0;36mGroupBy.__init__\u001b[1;34m(self, obj, keys, axis, level, grouper, exclusions, selection, as_index, sort, group_keys, squeeze, observed, mutated, dropna)\u001b[0m\n\u001b[0;32m    879\u001b[0m \u001b[39mif\u001b[39;00m grouper \u001b[39mis\u001b[39;00m \u001b[39mNone\u001b[39;00m:\n\u001b[0;32m    880\u001b[0m     \u001b[39mfrom\u001b[39;00m \u001b[39mpandas\u001b[39;00m\u001b[39m.\u001b[39;00m\u001b[39mcore\u001b[39;00m\u001b[39m.\u001b[39;00m\u001b[39mgroupby\u001b[39;00m\u001b[39m.\u001b[39;00m\u001b[39mgrouper\u001b[39;00m \u001b[39mimport\u001b[39;00m get_grouper\n\u001b[1;32m--> 882\u001b[0m     grouper, exclusions, obj \u001b[39m=\u001b[39m get_grouper(\n\u001b[0;32m    883\u001b[0m         obj,\n\u001b[0;32m    884\u001b[0m         keys,\n\u001b[0;32m    885\u001b[0m         axis\u001b[39m=\u001b[39;49maxis,\n\u001b[0;32m    886\u001b[0m         level\u001b[39m=\u001b[39;49mlevel,\n\u001b[0;32m    887\u001b[0m         sort\u001b[39m=\u001b[39;49msort,\n\u001b[0;32m    888\u001b[0m         observed\u001b[39m=\u001b[39;49mobserved,\n\u001b[0;32m    889\u001b[0m         mutated\u001b[39m=\u001b[39;49m\u001b[39mself\u001b[39;49m\u001b[39m.\u001b[39;49mmutated,\n\u001b[0;32m    890\u001b[0m         dropna\u001b[39m=\u001b[39;49m\u001b[39mself\u001b[39;49m\u001b[39m.\u001b[39;49mdropna,\n\u001b[0;32m    891\u001b[0m     )\n\u001b[0;32m    893\u001b[0m \u001b[39mself\u001b[39m\u001b[39m.\u001b[39mobj \u001b[39m=\u001b[39m obj\n\u001b[0;32m    894\u001b[0m \u001b[39mself\u001b[39m\u001b[39m.\u001b[39maxis \u001b[39m=\u001b[39m obj\u001b[39m.\u001b[39m_get_axis_number(axis)\n",
      "File \u001b[1;32mc:\\Users\\Suraj\\OneDrive\\Desktop\\Streamlit_web_app\\env\\lib\\site-packages\\pandas\\core\\groupby\\grouper.py:872\u001b[0m, in \u001b[0;36mget_grouper\u001b[1;34m(obj, key, axis, level, sort, observed, mutated, validate, dropna)\u001b[0m\n\u001b[0;32m    870\u001b[0m \u001b[39mif\u001b[39;00m gpr \u001b[39min\u001b[39;00m obj:\n\u001b[0;32m    871\u001b[0m     \u001b[39mif\u001b[39;00m validate:\n\u001b[1;32m--> 872\u001b[0m         obj\u001b[39m.\u001b[39;49m_check_label_or_level_ambiguity(gpr, axis\u001b[39m=\u001b[39;49maxis)\n\u001b[0;32m    873\u001b[0m     in_axis, name, gpr \u001b[39m=\u001b[39m \u001b[39mTrue\u001b[39;00m, gpr, obj[gpr]\n\u001b[0;32m    874\u001b[0m     \u001b[39mif\u001b[39;00m gpr\u001b[39m.\u001b[39mndim \u001b[39m!=\u001b[39m \u001b[39m1\u001b[39m:\n\u001b[0;32m    875\u001b[0m         \u001b[39m# non-unique columns; raise here to get the name in the\u001b[39;00m\n\u001b[0;32m    876\u001b[0m         \u001b[39m# exception message\u001b[39;00m\n",
      "File \u001b[1;32mc:\\Users\\Suraj\\OneDrive\\Desktop\\Streamlit_web_app\\env\\lib\\site-packages\\pandas\\core\\generic.py:1794\u001b[0m, in \u001b[0;36mNDFrame._check_label_or_level_ambiguity\u001b[1;34m(self, key, axis)\u001b[0m\n\u001b[0;32m   1786\u001b[0m label_article, label_type \u001b[39m=\u001b[39m (\n\u001b[0;32m   1787\u001b[0m     (\u001b[39m\"\u001b[39m\u001b[39ma\u001b[39m\u001b[39m\"\u001b[39m, \u001b[39m\"\u001b[39m\u001b[39mcolumn\u001b[39m\u001b[39m\"\u001b[39m) \u001b[39mif\u001b[39;00m axis \u001b[39m==\u001b[39m \u001b[39m0\u001b[39m \u001b[39melse\u001b[39;00m (\u001b[39m\"\u001b[39m\u001b[39man\u001b[39m\u001b[39m\"\u001b[39m, \u001b[39m\"\u001b[39m\u001b[39mindex\u001b[39m\u001b[39m\"\u001b[39m)\n\u001b[0;32m   1788\u001b[0m )\n\u001b[0;32m   1790\u001b[0m msg \u001b[39m=\u001b[39m (\n\u001b[0;32m   1791\u001b[0m     \u001b[39mf\u001b[39m\u001b[39m\"\u001b[39m\u001b[39m'\u001b[39m\u001b[39m{\u001b[39;00mkey\u001b[39m}\u001b[39;00m\u001b[39m'\u001b[39m\u001b[39m is both \u001b[39m\u001b[39m{\u001b[39;00mlevel_article\u001b[39m}\u001b[39;00m\u001b[39m \u001b[39m\u001b[39m{\u001b[39;00mlevel_type\u001b[39m}\u001b[39;00m\u001b[39m level and \u001b[39m\u001b[39m\"\u001b[39m\n\u001b[0;32m   1792\u001b[0m     \u001b[39mf\u001b[39m\u001b[39m\"\u001b[39m\u001b[39m{\u001b[39;00mlabel_article\u001b[39m}\u001b[39;00m\u001b[39m \u001b[39m\u001b[39m{\u001b[39;00mlabel_type\u001b[39m}\u001b[39;00m\u001b[39m label, which is ambiguous.\u001b[39m\u001b[39m\"\u001b[39m\n\u001b[0;32m   1793\u001b[0m )\n\u001b[1;32m-> 1794\u001b[0m \u001b[39mraise\u001b[39;00m \u001b[39mValueError\u001b[39;00m(msg)\n",
      "\u001b[1;31mValueError\u001b[0m: 'subject' is both an index level and a column label, which is ambiguous."
     ]
    }
   ],
   "source": [
    "tt1 = tt.groupby('subject')"
   ]
  },
  {
   "cell_type": "code",
   "execution_count": 32,
   "metadata": {},
   "outputs": [],
   "source": []
  },
  {
   "cell_type": "code",
   "execution_count": 33,
   "metadata": {},
   "outputs": [
    {
     "data": {
      "text/plain": [
       "{'214441': None,\n",
       " '214442': None,\n",
       " '214443': None,\n",
       " '214444': None,\n",
       " '214445': None,\n",
       " '214446': None,\n",
       " '214447': None,\n",
       " '214448': None,\n",
       " '214449': None,\n",
       " '202054A': None,\n",
       " '207003': None,\n",
       " '214450': None,\n",
       " '214451': None,\n",
       " '214452': None,\n",
       " '214453': None,\n",
       " '214454':       Unnamed: 0 subject  OE  TH OE_TH       TW       PR  OR TOT CRD GRD PTS1  \\\n",
       " 16            16  214454  --  --    --  023/025  035/050  --  77  02  A+   09   \n",
       " 36            36  214454  --  --    --  021/025  032/050  --  70  02  A+   09   \n",
       " 56            56  214454  --  --    --  023/025  037/050  --  80  02   O   10   \n",
       " 76            76  214454  --  --    --  022/025  045/050  --  89  02   O   10   \n",
       " 96            96  214454  --  --    --  023/025  037/050  --  80  02   O   10   \n",
       " ...          ...     ...  ..  ..   ...      ...      ...  ..  ..  ..  ..  ...   \n",
       " 3778        3778  214454  --  --    --  022/025  037/050  --  78  02  A+   09   \n",
       " 3798        3798  214454  --  --    --  020/025  020/050  --  53  02   B   06   \n",
       " 3818        3818  214454  --  --    --  021/025  028/050  --  65  02   A   08   \n",
       " 3838        3838  214454  --  --    --  021/025  021/050  --  56  02  B+   07   \n",
       " 3858        3858  214454  --  --    --  019/025  032/050  --  68  02   A   08   \n",
       " \n",
       "      PTS2  \n",
       " 16     18  \n",
       " 36     18  \n",
       " 56     20  \n",
       " 76     20  \n",
       " 96     20  \n",
       " ...   ...  \n",
       " 3778   18  \n",
       " 3798   12  \n",
       " 3818   16  \n",
       " 3838   14  \n",
       " 3858   16  \n",
       " \n",
       " [194 rows x 13 columns],\n",
       " '214455': None,\n",
       " '214456': None,\n",
       " '210258A': None,\n",
       " '210258D': None,\n",
       " '210258C': None,\n",
       " '210250': None,\n",
       " '214458': None}"
      ]
     },
     "execution_count": 33,
     "metadata": {},
     "output_type": "execute_result"
    }
   ],
   "source": [
    "d"
   ]
  },
  {
   "cell_type": "code",
   "execution_count": 16,
   "metadata": {},
   "outputs": [],
   "source": [
    "a = d.groupby('subject')"
   ]
  },
  {
   "cell_type": "code",
   "execution_count": null,
   "metadata": {},
   "outputs": [],
   "source": [
    "p = pd.DataFrame({'subj'})"
   ]
  },
  {
   "cell_type": "code",
   "execution_count": 25,
   "metadata": {},
   "outputs": [
    {
     "data": {
      "text/plain": [
       "127"
      ]
     },
     "execution_count": 25,
     "metadata": {},
     "output_type": "execute_result"
    }
   ],
   "source": [
    "len(d[d['subject'] == '214441'])"
   ]
  },
  {
   "cell_type": "code",
   "execution_count": 39,
   "metadata": {},
   "outputs": [],
   "source": [
    "df1 = pd.DataFrame({'A': ['A0', 'A1', 'A2', 'A3'], \n",
    "                     'B': ['B0', 'B1', 'B2', 'B3'],\n",
    "                       'C': ['C0', 'C1', 'C2', 'C3'],\n",
    "                    'D': ['D0', 'D1', 'D2', 'D3']},\n",
    "                     index=[0, 1, 2, 3])\n",
    "\n",
    "\n",
    "df2 = pd.DataFrame({'A': ['A4', 'A5', 'A6', 'A7'],\n",
    "                     'B': ['B4', 'B5', 'B6', 'B7'],\n",
    "                     'C': ['C4', 'C5', 'C6', 'C7'],\n",
    "                     'D': ['D4', 'D5', 'D6', 'D7']},\n",
    "                      index=[4, 5, 6, 7])\n",
    "\n",
    "\n",
    "df3 = pd.DataFrame({'A': ['A8', 'A9', 'A10', 'A11'],\n",
    "                      'B': ['B8', 'B9', 'B10', 'B11'],\n",
    "                     'C': ['C8', 'C9', 'C10', 'C11'],\n",
    "                     'D': ['D8', 'D9', 'D10', 'D11']},\n",
    "                     index=[8, 9, 10, 11])\n",
    "\n"
   ]
  },
  {
   "cell_type": "code",
   "execution_count": 40,
   "metadata": {},
   "outputs": [
    {
     "data": {
      "text/html": [
       "<div>\n",
       "<style scoped>\n",
       "    .dataframe tbody tr th:only-of-type {\n",
       "        vertical-align: middle;\n",
       "    }\n",
       "\n",
       "    .dataframe tbody tr th {\n",
       "        vertical-align: top;\n",
       "    }\n",
       "\n",
       "    .dataframe thead th {\n",
       "        text-align: right;\n",
       "    }\n",
       "</style>\n",
       "<table border=\"1\" class=\"dataframe\">\n",
       "  <thead>\n",
       "    <tr style=\"text-align: right;\">\n",
       "      <th></th>\n",
       "      <th>A</th>\n",
       "      <th>B</th>\n",
       "      <th>C</th>\n",
       "      <th>D</th>\n",
       "    </tr>\n",
       "  </thead>\n",
       "  <tbody>\n",
       "    <tr>\n",
       "      <th>0</th>\n",
       "      <td>A0</td>\n",
       "      <td>B0</td>\n",
       "      <td>C0</td>\n",
       "      <td>D0</td>\n",
       "    </tr>\n",
       "    <tr>\n",
       "      <th>1</th>\n",
       "      <td>A1</td>\n",
       "      <td>B1</td>\n",
       "      <td>C1</td>\n",
       "      <td>D1</td>\n",
       "    </tr>\n",
       "    <tr>\n",
       "      <th>2</th>\n",
       "      <td>A2</td>\n",
       "      <td>B2</td>\n",
       "      <td>C2</td>\n",
       "      <td>D2</td>\n",
       "    </tr>\n",
       "    <tr>\n",
       "      <th>3</th>\n",
       "      <td>A3</td>\n",
       "      <td>B3</td>\n",
       "      <td>C3</td>\n",
       "      <td>D3</td>\n",
       "    </tr>\n",
       "  </tbody>\n",
       "</table>\n",
       "</div>"
      ],
      "text/plain": [
       "    A   B   C   D\n",
       "0  A0  B0  C0  D0\n",
       "1  A1  B1  C1  D1\n",
       "2  A2  B2  C2  D2\n",
       "3  A3  B3  C3  D3"
      ]
     },
     "execution_count": 40,
     "metadata": {},
     "output_type": "execute_result"
    }
   ],
   "source": [
    "df1"
   ]
  },
  {
   "cell_type": "code",
   "execution_count": 41,
   "metadata": {},
   "outputs": [
    {
     "data": {
      "text/html": [
       "<div>\n",
       "<style scoped>\n",
       "    .dataframe tbody tr th:only-of-type {\n",
       "        vertical-align: middle;\n",
       "    }\n",
       "\n",
       "    .dataframe tbody tr th {\n",
       "        vertical-align: top;\n",
       "    }\n",
       "\n",
       "    .dataframe thead th {\n",
       "        text-align: right;\n",
       "    }\n",
       "</style>\n",
       "<table border=\"1\" class=\"dataframe\">\n",
       "  <thead>\n",
       "    <tr style=\"text-align: right;\">\n",
       "      <th></th>\n",
       "      <th>A</th>\n",
       "      <th>B</th>\n",
       "      <th>C</th>\n",
       "      <th>D</th>\n",
       "    </tr>\n",
       "  </thead>\n",
       "  <tbody>\n",
       "    <tr>\n",
       "      <th>4</th>\n",
       "      <td>A4</td>\n",
       "      <td>B4</td>\n",
       "      <td>C4</td>\n",
       "      <td>D4</td>\n",
       "    </tr>\n",
       "    <tr>\n",
       "      <th>5</th>\n",
       "      <td>A5</td>\n",
       "      <td>B5</td>\n",
       "      <td>C5</td>\n",
       "      <td>D5</td>\n",
       "    </tr>\n",
       "    <tr>\n",
       "      <th>6</th>\n",
       "      <td>A6</td>\n",
       "      <td>B6</td>\n",
       "      <td>C6</td>\n",
       "      <td>D6</td>\n",
       "    </tr>\n",
       "    <tr>\n",
       "      <th>7</th>\n",
       "      <td>A7</td>\n",
       "      <td>B7</td>\n",
       "      <td>C7</td>\n",
       "      <td>D7</td>\n",
       "    </tr>\n",
       "  </tbody>\n",
       "</table>\n",
       "</div>"
      ],
      "text/plain": [
       "    A   B   C   D\n",
       "4  A4  B4  C4  D4\n",
       "5  A5  B5  C5  D5\n",
       "6  A6  B6  C6  D6\n",
       "7  A7  B7  C7  D7"
      ]
     },
     "execution_count": 41,
     "metadata": {},
     "output_type": "execute_result"
    }
   ],
   "source": [
    "df2"
   ]
  },
  {
   "cell_type": "code",
   "execution_count": 42,
   "metadata": {},
   "outputs": [
    {
     "data": {
      "text/html": [
       "<div>\n",
       "<style scoped>\n",
       "    .dataframe tbody tr th:only-of-type {\n",
       "        vertical-align: middle;\n",
       "    }\n",
       "\n",
       "    .dataframe tbody tr th {\n",
       "        vertical-align: top;\n",
       "    }\n",
       "\n",
       "    .dataframe thead th {\n",
       "        text-align: right;\n",
       "    }\n",
       "</style>\n",
       "<table border=\"1\" class=\"dataframe\">\n",
       "  <thead>\n",
       "    <tr style=\"text-align: right;\">\n",
       "      <th></th>\n",
       "      <th>A</th>\n",
       "      <th>B</th>\n",
       "      <th>C</th>\n",
       "      <th>D</th>\n",
       "    </tr>\n",
       "  </thead>\n",
       "  <tbody>\n",
       "    <tr>\n",
       "      <th>8</th>\n",
       "      <td>A8</td>\n",
       "      <td>B8</td>\n",
       "      <td>C8</td>\n",
       "      <td>D8</td>\n",
       "    </tr>\n",
       "    <tr>\n",
       "      <th>9</th>\n",
       "      <td>A9</td>\n",
       "      <td>B9</td>\n",
       "      <td>C9</td>\n",
       "      <td>D9</td>\n",
       "    </tr>\n",
       "    <tr>\n",
       "      <th>10</th>\n",
       "      <td>A10</td>\n",
       "      <td>B10</td>\n",
       "      <td>C10</td>\n",
       "      <td>D10</td>\n",
       "    </tr>\n",
       "    <tr>\n",
       "      <th>11</th>\n",
       "      <td>A11</td>\n",
       "      <td>B11</td>\n",
       "      <td>C11</td>\n",
       "      <td>D11</td>\n",
       "    </tr>\n",
       "  </tbody>\n",
       "</table>\n",
       "</div>"
      ],
      "text/plain": [
       "      A    B    C    D\n",
       "8    A8   B8   C8   D8\n",
       "9    A9   B9   C9   D9\n",
       "10  A10  B10  C10  D10\n",
       "11  A11  B11  C11  D11"
      ]
     },
     "execution_count": 42,
     "metadata": {},
     "output_type": "execute_result"
    }
   ],
   "source": [
    "df3"
   ]
  },
  {
   "cell_type": "code",
   "execution_count": 43,
   "metadata": {},
   "outputs": [
    {
     "data": {
      "text/html": [
       "<div>\n",
       "<style scoped>\n",
       "    .dataframe tbody tr th:only-of-type {\n",
       "        vertical-align: middle;\n",
       "    }\n",
       "\n",
       "    .dataframe tbody tr th {\n",
       "        vertical-align: top;\n",
       "    }\n",
       "\n",
       "    .dataframe thead th {\n",
       "        text-align: right;\n",
       "    }\n",
       "</style>\n",
       "<table border=\"1\" class=\"dataframe\">\n",
       "  <thead>\n",
       "    <tr style=\"text-align: right;\">\n",
       "      <th></th>\n",
       "      <th>A</th>\n",
       "      <th>B</th>\n",
       "      <th>C</th>\n",
       "      <th>D</th>\n",
       "      <th>A</th>\n",
       "      <th>B</th>\n",
       "      <th>C</th>\n",
       "      <th>D</th>\n",
       "      <th>A</th>\n",
       "      <th>B</th>\n",
       "      <th>C</th>\n",
       "      <th>D</th>\n",
       "    </tr>\n",
       "  </thead>\n",
       "  <tbody>\n",
       "    <tr>\n",
       "      <th>0</th>\n",
       "      <td>A0</td>\n",
       "      <td>B0</td>\n",
       "      <td>C0</td>\n",
       "      <td>D0</td>\n",
       "      <td>NaN</td>\n",
       "      <td>NaN</td>\n",
       "      <td>NaN</td>\n",
       "      <td>NaN</td>\n",
       "      <td>NaN</td>\n",
       "      <td>NaN</td>\n",
       "      <td>NaN</td>\n",
       "      <td>NaN</td>\n",
       "    </tr>\n",
       "    <tr>\n",
       "      <th>1</th>\n",
       "      <td>A1</td>\n",
       "      <td>B1</td>\n",
       "      <td>C1</td>\n",
       "      <td>D1</td>\n",
       "      <td>NaN</td>\n",
       "      <td>NaN</td>\n",
       "      <td>NaN</td>\n",
       "      <td>NaN</td>\n",
       "      <td>NaN</td>\n",
       "      <td>NaN</td>\n",
       "      <td>NaN</td>\n",
       "      <td>NaN</td>\n",
       "    </tr>\n",
       "    <tr>\n",
       "      <th>2</th>\n",
       "      <td>A2</td>\n",
       "      <td>B2</td>\n",
       "      <td>C2</td>\n",
       "      <td>D2</td>\n",
       "      <td>NaN</td>\n",
       "      <td>NaN</td>\n",
       "      <td>NaN</td>\n",
       "      <td>NaN</td>\n",
       "      <td>NaN</td>\n",
       "      <td>NaN</td>\n",
       "      <td>NaN</td>\n",
       "      <td>NaN</td>\n",
       "    </tr>\n",
       "    <tr>\n",
       "      <th>3</th>\n",
       "      <td>A3</td>\n",
       "      <td>B3</td>\n",
       "      <td>C3</td>\n",
       "      <td>D3</td>\n",
       "      <td>NaN</td>\n",
       "      <td>NaN</td>\n",
       "      <td>NaN</td>\n",
       "      <td>NaN</td>\n",
       "      <td>NaN</td>\n",
       "      <td>NaN</td>\n",
       "      <td>NaN</td>\n",
       "      <td>NaN</td>\n",
       "    </tr>\n",
       "    <tr>\n",
       "      <th>4</th>\n",
       "      <td>NaN</td>\n",
       "      <td>NaN</td>\n",
       "      <td>NaN</td>\n",
       "      <td>NaN</td>\n",
       "      <td>A4</td>\n",
       "      <td>B4</td>\n",
       "      <td>C4</td>\n",
       "      <td>D4</td>\n",
       "      <td>NaN</td>\n",
       "      <td>NaN</td>\n",
       "      <td>NaN</td>\n",
       "      <td>NaN</td>\n",
       "    </tr>\n",
       "    <tr>\n",
       "      <th>5</th>\n",
       "      <td>NaN</td>\n",
       "      <td>NaN</td>\n",
       "      <td>NaN</td>\n",
       "      <td>NaN</td>\n",
       "      <td>A5</td>\n",
       "      <td>B5</td>\n",
       "      <td>C5</td>\n",
       "      <td>D5</td>\n",
       "      <td>NaN</td>\n",
       "      <td>NaN</td>\n",
       "      <td>NaN</td>\n",
       "      <td>NaN</td>\n",
       "    </tr>\n",
       "    <tr>\n",
       "      <th>6</th>\n",
       "      <td>NaN</td>\n",
       "      <td>NaN</td>\n",
       "      <td>NaN</td>\n",
       "      <td>NaN</td>\n",
       "      <td>A6</td>\n",
       "      <td>B6</td>\n",
       "      <td>C6</td>\n",
       "      <td>D6</td>\n",
       "      <td>NaN</td>\n",
       "      <td>NaN</td>\n",
       "      <td>NaN</td>\n",
       "      <td>NaN</td>\n",
       "    </tr>\n",
       "    <tr>\n",
       "      <th>7</th>\n",
       "      <td>NaN</td>\n",
       "      <td>NaN</td>\n",
       "      <td>NaN</td>\n",
       "      <td>NaN</td>\n",
       "      <td>A7</td>\n",
       "      <td>B7</td>\n",
       "      <td>C7</td>\n",
       "      <td>D7</td>\n",
       "      <td>NaN</td>\n",
       "      <td>NaN</td>\n",
       "      <td>NaN</td>\n",
       "      <td>NaN</td>\n",
       "    </tr>\n",
       "    <tr>\n",
       "      <th>8</th>\n",
       "      <td>NaN</td>\n",
       "      <td>NaN</td>\n",
       "      <td>NaN</td>\n",
       "      <td>NaN</td>\n",
       "      <td>NaN</td>\n",
       "      <td>NaN</td>\n",
       "      <td>NaN</td>\n",
       "      <td>NaN</td>\n",
       "      <td>A8</td>\n",
       "      <td>B8</td>\n",
       "      <td>C8</td>\n",
       "      <td>D8</td>\n",
       "    </tr>\n",
       "    <tr>\n",
       "      <th>9</th>\n",
       "      <td>NaN</td>\n",
       "      <td>NaN</td>\n",
       "      <td>NaN</td>\n",
       "      <td>NaN</td>\n",
       "      <td>NaN</td>\n",
       "      <td>NaN</td>\n",
       "      <td>NaN</td>\n",
       "      <td>NaN</td>\n",
       "      <td>A9</td>\n",
       "      <td>B9</td>\n",
       "      <td>C9</td>\n",
       "      <td>D9</td>\n",
       "    </tr>\n",
       "    <tr>\n",
       "      <th>10</th>\n",
       "      <td>NaN</td>\n",
       "      <td>NaN</td>\n",
       "      <td>NaN</td>\n",
       "      <td>NaN</td>\n",
       "      <td>NaN</td>\n",
       "      <td>NaN</td>\n",
       "      <td>NaN</td>\n",
       "      <td>NaN</td>\n",
       "      <td>A10</td>\n",
       "      <td>B10</td>\n",
       "      <td>C10</td>\n",
       "      <td>D10</td>\n",
       "    </tr>\n",
       "    <tr>\n",
       "      <th>11</th>\n",
       "      <td>NaN</td>\n",
       "      <td>NaN</td>\n",
       "      <td>NaN</td>\n",
       "      <td>NaN</td>\n",
       "      <td>NaN</td>\n",
       "      <td>NaN</td>\n",
       "      <td>NaN</td>\n",
       "      <td>NaN</td>\n",
       "      <td>A11</td>\n",
       "      <td>B11</td>\n",
       "      <td>C11</td>\n",
       "      <td>D11</td>\n",
       "    </tr>\n",
       "  </tbody>\n",
       "</table>\n",
       "</div>"
      ],
      "text/plain": [
       "      A    B    C    D    A    B    C    D    A    B    C    D\n",
       "0    A0   B0   C0   D0  NaN  NaN  NaN  NaN  NaN  NaN  NaN  NaN\n",
       "1    A1   B1   C1   D1  NaN  NaN  NaN  NaN  NaN  NaN  NaN  NaN\n",
       "2    A2   B2   C2   D2  NaN  NaN  NaN  NaN  NaN  NaN  NaN  NaN\n",
       "3    A3   B3   C3   D3  NaN  NaN  NaN  NaN  NaN  NaN  NaN  NaN\n",
       "4   NaN  NaN  NaN  NaN   A4   B4   C4   D4  NaN  NaN  NaN  NaN\n",
       "5   NaN  NaN  NaN  NaN   A5   B5   C5   D5  NaN  NaN  NaN  NaN\n",
       "6   NaN  NaN  NaN  NaN   A6   B6   C6   D6  NaN  NaN  NaN  NaN\n",
       "7   NaN  NaN  NaN  NaN   A7   B7   C7   D7  NaN  NaN  NaN  NaN\n",
       "8   NaN  NaN  NaN  NaN  NaN  NaN  NaN  NaN   A8   B8   C8   D8\n",
       "9   NaN  NaN  NaN  NaN  NaN  NaN  NaN  NaN   A9   B9   C9   D9\n",
       "10  NaN  NaN  NaN  NaN  NaN  NaN  NaN  NaN  A10  B10  C10  D10\n",
       "11  NaN  NaN  NaN  NaN  NaN  NaN  NaN  NaN  A11  B11  C11  D11"
      ]
     },
     "execution_count": 43,
     "metadata": {},
     "output_type": "execute_result"
    }
   ],
   "source": [
    "pd.concat([df1,df2,df3],axis=1)"
   ]
  },
  {
   "cell_type": "code",
   "execution_count": null,
   "metadata": {},
   "outputs": [],
   "source": []
  }
 ],
 "metadata": {
  "kernelspec": {
   "display_name": "Python 3.8.2 ('env': venv)",
   "language": "python",
   "name": "python3"
  },
  "language_info": {
   "codemirror_mode": {
    "name": "ipython",
    "version": 3
   },
   "file_extension": ".py",
   "mimetype": "text/x-python",
   "name": "python",
   "nbconvert_exporter": "python",
   "pygments_lexer": "ipython3",
   "version": "3.8.2"
  },
  "orig_nbformat": 4,
  "vscode": {
   "interpreter": {
    "hash": "4bcf47b0d8de28688cd5bd3273acf0b18a03fdcdc347192f2b71a0457c359e32"
   }
  }
 },
 "nbformat": 4,
 "nbformat_minor": 2
}
