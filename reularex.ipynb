{
 "cells": [
  {
   "cell_type": "code",
   "execution_count": 1,
   "metadata": {},
   "outputs": [],
   "source": [
    "import re\n",
    "import pandas as pd\n",
    "import PyPDF2 "
   ]
  },
  {
   "cell_type": "code",
   "execution_count": 13,
   "metadata": {},
   "outputs": [],
   "source": [
    "#pdf to ext\n",
    "def pdfToText(path):\n",
    "    pdfreader = PyPDF2.PdfFileReader(open(path,'rb'))\n",
    "    no_of_pages = pdfreader.numPages\n",
    "    with open('final_txt.txt','w') as f:\n",
    "        for i in range(0,no_of_pages):\n",
    "            pagObj = pdfreader.getPage(i)\n",
    "            f.write(pagObj.extractText())\n",
    "    with open('final_txt.txt','r') as f:\n",
    "        text = f.read()\n",
    "\n",
    "pdfToText('te_result.pdf')    \n",
    "file = open('final_txt.txt','r')\n",
    "text = file.read()\n",
    "file.close()\n",
    "text = text.replace('SAVITRIBAI PHULE PUNE UNIVERSITY, S.E.(2015 COURSE) EXAMINATION,MAY 2018','')\n",
    "text = text.replace('SAVITRIBAI PHULE PUNE UNIVERSITY ,T.E.(2019 COURSE) EXAMINATION, OCT/NOV 2021','')\n",
    "text = text.replace('COLLEGE    : D.Y. PATIL COLLEGE OF ENGINEERING,  PUNE','')\n",
    "text = text.replace('COLLEGE: [CEGP010530] - D.Y. PATIL COLLEGE OF ENGINEERING,  PUNE','')\n",
    "text = text.replace('BRANCH CODE: 29-S.E.(2015 PAT.)(INFORMATIOM TECHNOLOGY)','')\n",
    "text = text.replace('BRANCH CODE: 60-T.E.(2019 PAT.)(INFORMATION TECHNOLOGY)','')\n",
    "text = text.replace('DATE       : 23 JUL 2018','')\n",
    "text = text.replace('DATE : 06 MAY 2022','')\n",
    "text = text.replace('............CONFIDENTIAL- FOR VERIFICATION AND RECORD ONLY AT COLLEGE, NOT FOR DISTRIBUTION.......................................','')\n",
    "text = text.replace('....................................................................................................','')\n",
    "text = text.replace('............                  .......  .......  .......  .......  .......  .......  ...  ...  ...   ... ...  ... ...','')\n",
    "\n",
    "text = text.replace('PAGE :-','')\n",
    "text = text.replace('SEAT NO.','')\n",
    "text = text.replace('SEAT NO.:','')\n",
    "text = text.replace('NAME :','')\n",
    "text = text.replace('MOTHER :','')\n",
    "text = text.replace('PRN :','')\n",
    "text = text.replace('CLG.: DYPP[8]','')\n",
    "\n",
    "text = text.replace('..............................','')\n",
    "text = text.replace('SEM.:1','')\n",
    "text = text.replace('SEM.:2','')\n",
    "text = text.replace('OE       TH     [OE+TH]     TW       PR       OR    Tot% Crd  Grd  Pts   Pts','')\n",
    "text = text.replace('OE       TH     [OE+TH]     TW       PR       OR    Tot% Crd  Grd  Pts   Pts','')\n",
    "text = text.replace('DYPP','')\n",
    "text = text.replace('Grd   Crd','')\n",
    "text = text.replace('SEM. 2','')\n",
    "text = text.replace('SEM. 1','')\n",
    "text = text.replace('~','')\n",
    "text = text.replace(' .','')\n",
    "text.replace('~','nan')\n",
    "text = text.replace('*',' ')\n",
    "text = text.replace(':',' ')\n",
    "text = text.replace('-','n')\n",
    "text = text.replace('SECOND YEAR SGPA','')\n",
    "text = text.replace('TOTAL CREDITS EARNED ','')\n",
    "# SECOND YEAR SGPA   8.08, TOTAL CREDITS EARNED   50\n",
    "text = text.strip()\n",
    "\n",
    "text = 'r{}'.format(text)\n",
    "with open('final_clean_output.txt','w') as o:\n",
    "    o.write(text)\n",
    "with open('final_clean_output.txt','r') as o:\n",
    "    text = o.read()\n"
   ]
  },
  {
   "cell_type": "code",
   "execution_count": null,
   "metadata": {},
   "outputs": [],
   "source": []
  }
 ],
 "metadata": {
  "kernelspec": {
   "display_name": "Python 3.8.2 ('env': venv)",
   "language": "python",
   "name": "python3"
  },
  "language_info": {
   "codemirror_mode": {
    "name": "ipython",
    "version": 3
   },
   "file_extension": ".py",
   "mimetype": "text/x-python",
   "name": "python",
   "nbconvert_exporter": "python",
   "pygments_lexer": "ipython3",
   "version": "3.8.2"
  },
  "orig_nbformat": 4,
  "vscode": {
   "interpreter": {
    "hash": "5cd46a275f8822b6fef7c1f085dcd5568910965774c2e3290ec37691aed9739e"
   }
  }
 },
 "nbformat": 4,
 "nbformat_minor": 2
}
