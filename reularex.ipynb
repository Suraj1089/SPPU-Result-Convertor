{
 "cells": [
  {
   "cell_type": "code",
   "execution_count": 1,
   "metadata": {},
   "outputs": [],
   "source": [
    "import re "
   ]
  },
  {
   "cell_type": "code",
   "execution_count": 13,
   "metadata": {},
   "outputs": [],
   "source": [
    "import re\n",
    "\n",
    "text_to_search = '''\n",
    "abcdefghijklmnopqurtuvwxyz\n",
    "ABCDEFGHIJKLMNOPQRSTUVWXYZ\n",
    "1234567890\n",
    "Ha HaHa\n",
    "MetaCharacters (Need to be escaped):\n",
    ". ^ $ * + ? { } [ ] \\ | ( )\n",
    "coreyms.com\n",
    "321-555-4321\n",
    "123.555.1234\n",
    "123*555*1234\n",
    "800-555-1234\n",
    "900-555-1234\n",
    "Mr. Schafer\n",
    "Mr Smith\n",
    "Ms Davis\n",
    "Mrs. Robinson\n",
    "Mr. T\n",
    "'''\n"
   ]
  },
  {
   "cell_type": "code",
   "execution_count": 3,
   "metadata": {},
   "outputs": [],
   "source": [
    "sentence = 'Start a sentence and then bring it to an end'"
   ]
  },
  {
   "cell_type": "code",
   "execution_count": 21,
   "metadata": {},
   "outputs": [],
   "source": [
    "# . matches all charcter except new line\n",
    "# pattern = re.compile(r'.')"
   ]
  },
  {
   "cell_type": "code",
   "execution_count": 23,
   "metadata": {},
   "outputs": [],
   "source": [
    "s = '''\n",
    "    454545 23432\n",
    "    dfdsdj 442\n",
    "    fdfsfj 4\n",
    "    2 fdsdfj 33 fdjssj 2\n",
    "'''"
   ]
  },
  {
   "cell_type": "code",
   "execution_count": 27,
   "metadata": {},
   "outputs": [],
   "source": [
    "# \\d matches all digits\n",
    "# pattern  = re.compile(r'\\d')"
   ]
  },
  {
   "cell_type": "code",
   "execution_count": 31,
   "metadata": {},
   "outputs": [],
   "source": [
    "# # \\D matches all no digits\n",
    "# pattern = re.compile(r'\\D')"
   ]
  },
  {
   "cell_type": "code",
   "execution_count": 19,
   "metadata": {},
   "outputs": [],
   "source": [
    "# \\w matches all no digits\n",
    "# pattern = re.compile(r'\\w')\n",
    "\n",
    "#the problem with . is it will consider all the matches \n",
    "# pattern = re.compile(r'\\d\\d\\d.\\d\\d\\d.\\d\\d\\d\\d')\n",
    "\n",
    "\n",
    "#so use square brackets and inside that characters to match example for \n",
    "# we want to match [-.]\n",
    "\n",
    "# outside [] ^ it used to match begining inside [] is is used to as negate\n",
    "\n",
    "# pattern = re.compile(r'[89]00[-.]\\d\\d\\d[-.]\\d\\d\\d\\d')\n",
    "\n",
    "\n"
   ]
  },
  {
   "cell_type": "code",
   "execution_count": 20,
   "metadata": {},
   "outputs": [],
   "source": [
    "# matches = pattern.finditer(sentence)"
   ]
  },
  {
   "cell_type": "code",
   "execution_count": 28,
   "metadata": {},
   "outputs": [
    {
     "name": "stdout",
     "output_type": "stream",
     "text": [
      "<re.Match object; span=(216, 227), match='Mr. Schafer'>\n",
      "<re.Match object; span=(228, 236), match='Mr Smith'>\n",
      "<re.Match object; span=(237, 245), match='Ms Davis'>\n",
      "<re.Match object; span=(246, 259), match='Mrs. Robinson'>\n",
      "<re.Match object; span=(260, 265), match='Mr. T'>\n"
     ]
    }
   ],
   "source": [
    "# now the problem with this is is will not match Ms if it is then \n",
    "# we also need one more for Mss so create one group pattern using\n",
    "#() this bracket\n",
    "# pattern = re.compile(r'Mr\\.?\\s[A-Z]\\w*')\n",
    "\n",
    "\n",
    "pattern = re.compile(r'M(r|s|rs)\\.?\\s[A-Z]\\w*')\n",
    "matches = pattern.finditer(text_to_search)\n",
    "for m in matches:\n",
    "    print(m)"
   ]
  },
  {
   "cell_type": "code",
   "execution_count": 3,
   "metadata": {},
   "outputs": [],
   "source": [
    "import re \n",
    "emails = ''' \n",
    "    surajpsial3343@gmail.com\n",
    "    dfheije45345@gmail.com\n",
    "    dfjeforjr@uniai.in\n",
    "    dfjroo@outlook.in\n",
    "    3234424\n",
    "    45345\n",
    "    dfjeei\n",
    "\n",
    "    @#$%^^\n",
    "'''\n",
    "pattern = re.compile(r'[a-zA-Z.]+@[a-zA-Z]+\\.(com|edu)')\n",
    "matches = pattern.finditer(emails)\n",
    "for m in matches:\n",
    "    print(m)"
   ]
  },
  {
   "cell_type": "code",
   "execution_count": 33,
   "metadata": {},
   "outputs": [],
   "source": []
  },
  {
   "cell_type": "code",
   "execution_count": 49,
   "metadata": {},
   "outputs": [
    {
     "name": "stdout",
     "output_type": "stream",
     "text": [
      "<re.Match object; span=(102, 114), match='800-555-5669'>\n",
      "<re.Match object; span=(281, 293), match='900-555-9340'>\n",
      "<re.Match object; span=(467, 479), match='800-555-6771'>\n",
      "<re.Match object; span=(1091, 1103), match='900-555-3205'>\n",
      "<re.Match object; span=(1439, 1451), match='800-555-6089'>\n",
      "<re.Match object; span=(1790, 1802), match='800-555-7100'>\n",
      "<re.Match object; span=(2051, 2063), match='900-555-5118'>\n",
      "<re.Match object; span=(2826, 2838), match='900-555-5428'>\n",
      "<re.Match object; span=(3284, 3296), match='800-555-8810'>\n",
      "<re.Match object; span=(3971, 3983), match='900-555-9598'>\n",
      "<re.Match object; span=(4945, 4957), match='800-555-2420'>\n",
      "<re.Match object; span=(5566, 5578), match='900-555-3567'>\n",
      "<re.Match object; span=(6189, 6201), match='800-555-3216'>\n",
      "<re.Match object; span=(6889, 6901), match='900-555-7755'>\n",
      "<re.Match object; span=(7864, 7876), match='800-555-1372'>\n",
      "<re.Match object; span=(8741, 8753), match='900-555-6426'>\n"
     ]
    }
   ],
   "source": [
    "with open('sample_re_data.txt','r',encoding='utf-8') as f:\n",
    "    contents = f.read()\n",
    "    matches = pattern.finditer(contents)\n",
    "\n",
    "    for match in matches:\n",
    "        print(match)"
   ]
  },
  {
   "cell_type": "code",
   "execution_count": 4,
   "metadata": {},
   "outputs": [],
   "source": [
    "t = '''\n",
    "    333333\n",
    "    22394493\n",
    "    39449229\n",
    "    49449293\n",
    "    22922932\n",
    "    22922922\n",
    "    22292922\n",
    "    bat \n",
    "    sat\n",
    "    tat\n",
    "    gat\n",
    "'''"
   ]
  },
  {
   "cell_type": "code",
   "execution_count": 10,
   "metadata": {},
   "outputs": [],
   "source": [
    "import re \n",
    "patterns = re.compile(r'[^2]')"
   ]
  },
  {
   "cell_type": "code",
   "execution_count": 11,
   "metadata": {},
   "outputs": [],
   "source": [
    "matches = patterns.finditer(t)"
   ]
  },
  {
   "cell_type": "code",
   "execution_count": 12,
   "metadata": {},
   "outputs": [
    {
     "name": "stdout",
     "output_type": "stream",
     "text": [
      "<re.Match object; span=(0, 1), match='\\n'>\n",
      "<re.Match object; span=(1, 2), match=' '>\n",
      "<re.Match object; span=(2, 3), match=' '>\n",
      "<re.Match object; span=(3, 4), match=' '>\n",
      "<re.Match object; span=(4, 5), match=' '>\n",
      "<re.Match object; span=(5, 6), match='3'>\n",
      "<re.Match object; span=(6, 7), match='3'>\n",
      "<re.Match object; span=(7, 8), match='3'>\n",
      "<re.Match object; span=(8, 9), match='3'>\n",
      "<re.Match object; span=(9, 10), match='3'>\n",
      "<re.Match object; span=(10, 11), match='3'>\n",
      "<re.Match object; span=(11, 12), match='\\n'>\n",
      "<re.Match object; span=(12, 13), match=' '>\n",
      "<re.Match object; span=(13, 14), match=' '>\n",
      "<re.Match object; span=(14, 15), match=' '>\n",
      "<re.Match object; span=(15, 16), match=' '>\n",
      "<re.Match object; span=(18, 19), match='3'>\n",
      "<re.Match object; span=(19, 20), match='9'>\n",
      "<re.Match object; span=(20, 21), match='4'>\n",
      "<re.Match object; span=(21, 22), match='4'>\n",
      "<re.Match object; span=(22, 23), match='9'>\n",
      "<re.Match object; span=(23, 24), match='3'>\n",
      "<re.Match object; span=(24, 25), match='\\n'>\n",
      "<re.Match object; span=(25, 26), match=' '>\n",
      "<re.Match object; span=(26, 27), match=' '>\n",
      "<re.Match object; span=(27, 28), match=' '>\n",
      "<re.Match object; span=(28, 29), match=' '>\n",
      "<re.Match object; span=(29, 30), match='3'>\n",
      "<re.Match object; span=(30, 31), match='9'>\n",
      "<re.Match object; span=(31, 32), match='4'>\n",
      "<re.Match object; span=(32, 33), match='4'>\n",
      "<re.Match object; span=(33, 34), match='9'>\n",
      "<re.Match object; span=(36, 37), match='9'>\n",
      "<re.Match object; span=(37, 38), match='\\n'>\n",
      "<re.Match object; span=(38, 39), match=' '>\n",
      "<re.Match object; span=(39, 40), match=' '>\n",
      "<re.Match object; span=(40, 41), match=' '>\n",
      "<re.Match object; span=(41, 42), match=' '>\n",
      "<re.Match object; span=(42, 43), match='4'>\n",
      "<re.Match object; span=(43, 44), match='9'>\n",
      "<re.Match object; span=(44, 45), match='4'>\n",
      "<re.Match object; span=(45, 46), match='4'>\n",
      "<re.Match object; span=(46, 47), match='9'>\n",
      "<re.Match object; span=(48, 49), match='9'>\n",
      "<re.Match object; span=(49, 50), match='3'>\n",
      "<re.Match object; span=(50, 51), match='\\n'>\n",
      "<re.Match object; span=(51, 52), match=' '>\n",
      "<re.Match object; span=(52, 53), match=' '>\n",
      "<re.Match object; span=(53, 54), match=' '>\n",
      "<re.Match object; span=(54, 55), match=' '>\n",
      "<re.Match object; span=(57, 58), match='9'>\n",
      "<re.Match object; span=(60, 61), match='9'>\n",
      "<re.Match object; span=(61, 62), match='3'>\n",
      "<re.Match object; span=(63, 64), match='\\n'>\n",
      "<re.Match object; span=(64, 65), match=' '>\n",
      "<re.Match object; span=(65, 66), match=' '>\n",
      "<re.Match object; span=(66, 67), match=' '>\n",
      "<re.Match object; span=(67, 68), match=' '>\n",
      "<re.Match object; span=(70, 71), match='9'>\n",
      "<re.Match object; span=(73, 74), match='9'>\n",
      "<re.Match object; span=(76, 77), match='\\n'>\n",
      "<re.Match object; span=(77, 78), match=' '>\n",
      "<re.Match object; span=(78, 79), match=' '>\n",
      "<re.Match object; span=(79, 80), match=' '>\n",
      "<re.Match object; span=(80, 81), match=' '>\n",
      "<re.Match object; span=(84, 85), match='9'>\n",
      "<re.Match object; span=(86, 87), match='9'>\n",
      "<re.Match object; span=(89, 90), match='\\n'>\n",
      "<re.Match object; span=(90, 91), match=' '>\n",
      "<re.Match object; span=(91, 92), match=' '>\n",
      "<re.Match object; span=(92, 93), match=' '>\n",
      "<re.Match object; span=(93, 94), match=' '>\n",
      "<re.Match object; span=(94, 95), match='b'>\n",
      "<re.Match object; span=(95, 96), match='a'>\n",
      "<re.Match object; span=(96, 97), match='t'>\n",
      "<re.Match object; span=(97, 98), match=' '>\n",
      "<re.Match object; span=(98, 99), match='\\n'>\n",
      "<re.Match object; span=(99, 100), match=' '>\n",
      "<re.Match object; span=(100, 101), match=' '>\n",
      "<re.Match object; span=(101, 102), match=' '>\n",
      "<re.Match object; span=(102, 103), match=' '>\n",
      "<re.Match object; span=(103, 104), match='s'>\n",
      "<re.Match object; span=(104, 105), match='a'>\n",
      "<re.Match object; span=(105, 106), match='t'>\n",
      "<re.Match object; span=(106, 107), match='\\n'>\n",
      "<re.Match object; span=(107, 108), match=' '>\n",
      "<re.Match object; span=(108, 109), match=' '>\n",
      "<re.Match object; span=(109, 110), match=' '>\n",
      "<re.Match object; span=(110, 111), match=' '>\n",
      "<re.Match object; span=(111, 112), match='t'>\n",
      "<re.Match object; span=(112, 113), match='a'>\n",
      "<re.Match object; span=(113, 114), match='t'>\n",
      "<re.Match object; span=(114, 115), match='\\n'>\n",
      "<re.Match object; span=(115, 116), match=' '>\n",
      "<re.Match object; span=(116, 117), match=' '>\n",
      "<re.Match object; span=(117, 118), match=' '>\n",
      "<re.Match object; span=(118, 119), match=' '>\n",
      "<re.Match object; span=(119, 120), match='g'>\n",
      "<re.Match object; span=(120, 121), match='a'>\n",
      "<re.Match object; span=(121, 122), match='t'>\n",
      "<re.Match object; span=(122, 123), match='\\n'>\n"
     ]
    }
   ],
   "source": [
    "for i in matches:\n",
    "    print(i)"
   ]
  },
  {
   "cell_type": "code",
   "execution_count": null,
   "metadata": {},
   "outputs": [],
   "source": []
  }
 ],
 "metadata": {
  "kernelspec": {
   "display_name": "Python 3.8.2 ('env': venv)",
   "language": "python",
   "name": "python3"
  },
  "language_info": {
   "codemirror_mode": {
    "name": "ipython",
    "version": 3
   },
   "file_extension": ".py",
   "mimetype": "text/x-python",
   "name": "python",
   "nbconvert_exporter": "python",
   "pygments_lexer": "ipython3",
   "version": "3.8.2"
  },
  "orig_nbformat": 4,
  "vscode": {
   "interpreter": {
    "hash": "4bcf47b0d8de28688cd5bd3273acf0b18a03fdcdc347192f2b71a0457c359e32"
   }
  }
 },
 "nbformat": 4,
 "nbformat_minor": 2
}
